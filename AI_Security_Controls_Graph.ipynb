{
  "cells": [
    {
      "cell_type": "markdown",
      "id": "899447e4-f4dc-4491-be22-46ed1591fc71",
      "metadata": {
        "id": "899447e4-f4dc-4491-be22-46ed1591fc71"
      },
      "source": [
        "# Exploring the OWASP AI Security Threats and Controls Navigator \n",
        "<a target=\"_blank\" href=\"https://colab.research.google.com/github/mrwadams/ai-security-controls-graph/blob/main/AI_Security_Controls_Graph.ipynb\"><img src=\"https://colab.research.google.com/assets/colab-badge.svg\" alt=\"Open In Colab\"/></a>\n",
        "\n",
        "This notebook allows you to navigate the [AI Security Threats and Controls Navigator](https://raw.githubusercontent.com/OWASP/www-project-ai-security-and-privacy-guide/main/assets/images/owaspaioverviewpdfv3.pdf) from the OWASP AI Exchange as a graph database. The graph visualisation makes it easier to see the relationships between different controls, their parent categories, and more.\n",
        "\n",
        "## Instructions\n",
        "\n",
        "1. Click the ▶ symbol in the code cell below to run the cell and display the graph.\n",
        "\n",
        "2. Once the graph is displayed, you can interact with it:\n",
        "   - Zoom in and out using the mouse wheel or trackpad\n",
        "   - Pan the graph by clicking and dragging\n",
        "   - Click on a node to view its details in the sidebar\n",
        "   - Use the search bar to find specific nodes\n",
        "\n",
        "3. Explore the relationships between controls, categories, groups, and types to gain insights into the OWASP AI Security Threats and Controls Navigator.\n",
        "\n",
        "Enjoy navigating the graph and discovering the connections within the AI security landscape!"
      ]
    },
    {
      "cell_type": "markdown",
      "id": "dvU2GwDG36ar",
      "metadata": {
        "id": "dvU2GwDG36ar"
      },
      "source": [
        "## Generate Full Graph"
      ]
    },
    {
      "cell_type": "code",
      "execution_count": 8,
      "id": "40c51747-64bc-49f2-90c0-c0ff79d24048",
      "metadata": {
        "colab": {
          "base_uri": "https://localhost:8080/",
          "height": 817,
          "referenced_widgets": [
            "e251a286658346a18d436536c09bd67c",
            "dd2ab1386eb94f48a0523d5fde4678ec"
          ]
        },
        "id": "40c51747-64bc-49f2-90c0-c0ff79d24048",
        "outputId": "ae31c384-06cd-4aeb-9bea-c6a88859a8af"
      },
      "outputs": [
        {
          "data": {
            "application/vnd.jupyter.widget-view+json": {
              "model_id": "e251a286658346a18d436536c09bd67c",
              "version_major": 2,
              "version_minor": 0
            },
            "text/plain": [
              "GraphWidget(layout=Layout(height='800px', width='100%'))"
            ]
          },
          "metadata": {
            "application/vnd.jupyter.widget-view+json": {
              "colab": {
                "custom_widget_manager": {
                  "url": "https://ssl.gstatic.com/colaboratory-static/widgets/colab-cdn-widget-manager/2b70e893a8ba7c0f/manager.min.js"
                }
              }
            }
          },
          "output_type": "display_data"
        }
      ],
      "source": [
        "# @title\n",
        "# Install yfiles package and complete imports\n",
        "%pip install yfiles_jupyter_graphs --quiet\n",
        "from yfiles_jupyter_graphs import GraphWidget\n",
        "from typing import Dict\n",
        "\n",
        "# Import and enable Google Colab custom widget manager (required for running in Colab)\n",
        "try:\n",
        "  import google.colab\n",
        "  from google.colab import output\n",
        "  output.enable_custom_widget_manager()\n",
        "except:\n",
        "  pass\n",
        "\n",
        "# Define graph\n",
        "w = GraphWidget()\n",
        "w.nodes = [\n",
        "    {\"id\": \"CTL1\", \"properties\": {\"label\": \"AIPROGRAM\", \"URL\": \"https://owaspai.org/docs/1_general_controls/#aiprogram\"}},\n",
        "    {\"id\": \"CTL2\", \"properties\": {\"label\": \"SECPROGRAM\", \"URL\": \"https://owaspai.org/docs/1_general_controls/#secprogram\"}},\n",
        "    {\"id\": \"CTL3\", \"properties\": {\"label\": \"SECDEVPROGRAM\", \"URL\": \"https://owaspai.org/docs/1_general_controls/#secdevprogram\"}},\n",
        "    {\"id\": \"CTL4\", \"properties\": {\"label\": \"DEVPROGRAM\", \"URL\": \"https://owaspai.org/docs/1_general_controls/#devprogram\"}},\n",
        "    {\"id\": \"CTL5\", \"properties\": {\"label\": \"CHECKCOMPLIANCE\", \"URL\": \"https://owaspai.org/docs/1_general_controls/#checkcompliance\"}},\n",
        "    {\"id\": \"CTL6\", \"properties\": {\"label\": \"SECEDUCATE\", \"URL\": \"https://owaspai.org/docs/1_general_controls/#seceducate\"}},\n",
        "    {\"id\": \"CTL7\", \"properties\": {\"label\": \"OVERSIGHT\", \"URL\": \"https://owaspai.org/docs/1_general_controls/#oversight\"}},\n",
        "    {\"id\": \"CTL8\", \"properties\": {\"label\": \"LEASTMODELPRIVILEGE\", \"URL\": \"https://owaspai.org/docs/1_general_controls/#leastmodelprivilege\"}},\n",
        "    {\"id\": \"CTL9\", \"properties\": {\"label\": \"AITRANSPARENCY\", \"URL\": \"https://owaspai.org/docs/1_general_controls/#aitransparency\"}},\n",
        "    {\"id\": \"CTL10\", \"properties\": {\"label\": \"CONTINUOUSVALIDATION\", \"URL\": \"https://owaspai.org/docs/1_general_controls/#continuousvalidation\"}},\n",
        "    {\"id\": \"CTL11\", \"properties\": {\"label\": \"EXPLAINABILITY\", \"URL\": \"https://owaspai.org/docs/1_general_controls/#explainability\"}},\n",
        "    {\"id\": \"CTL12\", \"properties\": {\"label\": \"UNWANTEDBIASTESTING\", \"URL\": \"https://owaspai.org/docs/1_general_controls/#unwantedbiastesting\"}},\n",
        "    {\"id\": \"CTL13\", \"properties\": {\"label\": \"DATAMINIMIZE\", \"URL\": \"https://owaspai.org/docs/1_general_controls/#dataminimize\"}},\n",
        "    {\"id\": \"CTL14\", \"properties\": {\"label\": \"ALLOWEDDATA\", \"URL\": \"https://owaspai.org/docs/1_general_controls/#alloweddata\"}},\n",
        "    {\"id\": \"CTL15\", \"properties\": {\"label\": \"SHORTRETAIN\", \"URL\": \"https://owaspai.org/docs/1_general_controls/#shortretain\"}},\n",
        "    {\"id\": \"CTL15\", \"properties\": {\"label\": \"OBFUSCATETRAININGDATA\", \"URL\": \"https://owaspai.org/docs/1_general_controls/#obfuscatetrainingdata\"}},\n",
        "    {\"id\": \"CTL16\", \"properties\": {\"label\": \"DISCRETE\", \"URL\": \"https://owaspai.org/docs/1_general_controls/#discrete\"}},\n",
        "    {\"id\": \"CTL17\", \"properties\": {\"label\": \"MONITORUSE\", \"URL\": \"https://owaspai.org/docs/2_threats_through_use/#monitoruse\"}},\n",
        "    {\"id\": \"CTL18\", \"properties\": {\"label\": \"RATELIMIT\", \"URL\": \"https://owaspai.org/docs/2_threats_through_use/#ratelimit\"}},\n",
        "    {\"id\": \"CTL19\", \"properties\": {\"label\": \"MODELACCESSCONTROL\", \"URL\": \"https://owaspai.org/docs/2_threats_through_use/#modelaccesscontrol\"}},\n",
        "    {\"id\": \"CTL20\", \"properties\": {\"label\": \"DETECTODDINPUT\", \"URL\": \"https://owaspai.org/docs/2_threats_through_use/#detectoddinput\"}},\n",
        "    {\"id\": \"CTL21\", \"properties\": {\"label\": \"DETECTADVERSARIALINPUT\", \"URL\": \"https://owaspai.org/docs/2_threats_through_use/#detectadversarialinput\"}},\n",
        "    {\"id\": \"CTL22\", \"properties\": {\"label\": \"EVASIONROBUSTMODEL\", \"URL\": \"https://owaspai.org/docs/2_threats_through_use/#evasionrobustmodel\"}},\n",
        "    {\"id\": \"CTL23\", \"properties\": {\"label\": \"TRAINADVERSARIAL\", \"URL\": \"https://owaspai.org/docs/2_threats_through_use/#trainadversarial\"}},\n",
        "    {\"id\": \"CTL24\", \"properties\": {\"label\": \"INPUTDISTORTION\", \"URL\": \"https://owaspai.org/docs/2_threats_through_use/#inputdistortion\"}},\n",
        "    {\"id\": \"CTL25\", \"properties\": {\"label\": \"ADVERSARIALROBUSTDISTILLATION\", \"URL\": \"https://owaspai.org/docs/2_threats_through_use/#adversarialrobustdistillation\"}},\n",
        "    {\"id\": \"CTL26\", \"properties\": {\"label\": \"FILTERSENSITIVEMODELOUTPUT\", \"URL\": \"https://owaspai.org/docs/2_threats_through_use/#filtersensitivemodeloutput\"}},\n",
        "    {\"id\": \"CTL27\", \"properties\": {\"label\": \"OBSCURECONFIDENCE\", \"URL\": \"https://owaspai.org/docs/2_threats_through_use/#obscureconfidence\"}},\n",
        "    {\"id\": \"CTL28\", \"properties\": {\"label\": \"SMALLMODEL\", \"URL\": \"https://owaspai.org/docs/2_threats_through_use/#smallmodel\"}},\n",
        "    {\"id\": \"CTL29\", \"properties\": {\"label\": \"DOSINPUTVALIDATION\", \"URL\": \"https://owaspai.org/docs/2_threats_through_use/#dosinputvalidation\"}},\n",
        "    {\"id\": \"CTL30\", \"properties\": {\"label\": \"LIMITRESOURCES\", \"URL\": \"https://owaspai.org/docs/2_threats_through_use/#limitresources\"}},\n",
        "    {\"id\": \"CTL31\", \"properties\": {\"label\": \"DEVDATAPROTECT\", \"URL\": \"https://owaspai.org/docs/3_development_time_threats/#devdataprotect\"}},\n",
        "    {\"id\": \"CTL32\", \"properties\": {\"label\": \"DEVSECURITY\", \"URL\": \"https://owaspai.org/docs/3_development_time_threats/#devsecurity\"}},\n",
        "    {\"id\": \"CTL33\", \"properties\": {\"label\": \"SEGREGATEDATA\", \"URL\": \"https://owaspai.org/docs/3_development_time_threats/#segregatedata\"}},\n",
        "    {\"id\": \"CTL34\", \"properties\": {\"label\": \"CONFCOMPUTE\", \"URL\": \"https://owaspai.org/docs/3_development_time_threats/#confcompute\"}},\n",
        "    {\"id\": \"CTL35\", \"properties\": {\"label\": \"FEDERATEDLEARNING\", \"URL\": \"https://owaspai.org/docs/3_development_time_threats/#federatedlearning\"}},\n",
        "    {\"id\": \"CTL36\", \"properties\": {\"label\": \"SUPPLYCHAINIMAGE\", \"URL\": \"https://owaspai.org/docs/3_development_time_threats/#supplychainmanage\"}},\n",
        "    {\"id\": \"CTL37\", \"properties\": {\"label\": \"MODELENSEMBLE\", \"URL\": \"https://owaspai.org/docs/3_development_time_threats/#modelensemble\"}},\n",
        "    {\"id\": \"CTL38\", \"properties\": {\"label\": \"MORETRAINDATA\", \"URL\": \"https://owaspai.org/docs/3_development_time_threats/#moretraindata\"}},\n",
        "    {\"id\": \"CTL39\", \"properties\": {\"label\": \"DATAQUALITYCONTROL\", \"URL\": \"https://owaspai.org/docs/3_development_time_threats/#dataqualitycontrol\"}},\n",
        "    {\"id\": \"CTL40\", \"properties\": {\"label\": \"TRAINDATADISTORTION\", \"URL\": \"https://owaspai.org/docs/3_development_time_threats/#traindatadistortion\"}},\n",
        "    {\"id\": \"CTL41\", \"properties\": {\"label\": \"POISONROBUSTMODEL\", \"URL\": \"https://owaspai.org/docs/3_development_time_threats/#poisonrobustmodel\"}},\n",
        "    {\"id\": \"CTL42\", \"properties\": {\"label\": \"Technical AppSec Controls\", \"URL\": \"https://www.opencre.org/cre/636-660\"}},\n",
        "    {\"id\": \"CTL43\", \"properties\": {\"label\": \"Operational Security\", \"URL\": \"https://www.opencre.org/cre/862-452\"}},\n",
        "    {\"id\": \"CTL44\", \"properties\": {\"label\": \"ENCODEMODELOUTPUT\", \"URL\": \"https://owaspai.org/docs/4_runtime_application_security_threats/#encodemodeloutput\"}},\n",
        "    {\"id\": \"CTL45\", \"properties\": {\"label\": \"MODELINPUTCONFIDENTIALITY\", \"URL\": \"https://owaspai.org/docs/4_runtime_application_security_threats/#modelinputconfidentiality\"}},\n",
        "    {\"id\": \"CTL46\", \"properties\": {\"label\": \"RUNTIMEMODELINTEGRITY\", \"URL\": \"https://owaspai.org/docs/4_runtime_application_security_threats/#runtimemodelintegrity\"}},\n",
        "    {\"id\": \"CTL47\", \"properties\": {\"label\": \"RUNTIMEMODELIOINTEGRITY\", \"URL\": \"https://owaspai.org/docs/4_runtime_application_security_threats/#runtimemodeliointegrity\"}},\n",
        "    {\"id\": \"CTL48\", \"properties\": {\"label\": \"Embedded In Model\", \"URL\": \"https://llmtop10.com/llm01/\"}},\n",
        "    {\"id\": \"CTL49\", \"properties\": {\"label\": \"RUNTIMEMODELCONFIDENTIALITY\", \"URL\": \"https://owaspai.org/docs/4_runtime_application_security_threats/#runtimemodelconfidentiality\"}},\n",
        "    {\"id\": \"CTL50\", \"properties\": {\"label\": \"MODELOBFUSCATION\", \"URL\": \"https://owaspai.org/docs/4_runtime_application_security_threats/#modelobfuscation\"}},\n",
        "    {\"id\": \"CTL51\", \"properties\": {\"label\": \"PROMPTINPUTVALIDATION\", \"URL\": \"https://owaspai.org/docs/4_runtime_application_security_threats/#promptinputvalidation\"}},\n",
        "    {\"id\": \"CTL52\", \"properties\": {\"label\": \"INPUTSEGREGATION\", \"URL\": \"https://owaspai.org/docs/4_runtime_application_security_threats/#inputsegregation\"}},\n",
        "    {\"id\": \"CAT1\", \"properties\": {\"label\": \"General Controls\"}},\n",
        "    {\"id\": \"CAT2\", \"properties\": {\"label\": \"Threats Through Use Controls\"}},\n",
        "    {\"id\": \"CAT3\", \"properties\": {\"label\": \"Development-time Threat Controls\"}},\n",
        "    {\"id\": \"CAT4\", \"properties\": {\"label\": \"Runtime Application Security Threats Controls\"}},\n",
        "    {\"id\": \"GRP1\", \"properties\": {\"label\": \"Governance\", 'color': '#d65749'}},\n",
        "    {\"id\": \"GRP2\", \"properties\": {\"label\": \"Behaviour Integrity\"}},\n",
        "    {\"id\": \"GRP3\", \"properties\": {\"label\": \"Sensitive Data Limitation\"}},\n",
        "    {\"id\": \"GRP4\", \"properties\": {\"label\": \"Always Against Use Threats\"}},\n",
        "    {\"id\": \"GRP5\", \"properties\": {\"label\": \"Against Evasion\"}},\n",
        "    {\"id\": \"GRP6\", \"properties\": {\"label\": \"Against Data Disclosure by Use\"}},\n",
        "    {\"id\": \"GRP7\", \"properties\": {\"label\": \"Against Data Disclosure by Model\"}},\n",
        "    {\"id\": \"GRP8\", \"properties\": {\"label\": \"Against Model Inversion and Membership Inference\"}},\n",
        "    {\"id\": \"GRP9\", \"properties\": {\"label\": \"Against Model Theft by Use\"}},\n",
        "    {\"id\": \"GRP10\", \"properties\": {\"label\": \"Against Failure by Use\"}},\n",
        "    {\"id\": \"GRP11\", \"properties\": {\"label\": \"Always Against Dev-Time Threats\"}},\n",
        "    {\"id\": \"GRP12\", \"properties\": {\"label\": \"Against Broad Model Poisoning\"}},\n",
        "    {\"id\": \"GRP13\", \"properties\": {\"label\": \"Against Data Poisoning\"}},\n",
        "    {\"id\": \"GRP14\", \"properties\": {\"label\": \"Against Dev-Time Model Poisoning\"}},\n",
        "    {\"id\": \"GRP15\", \"properties\": {\"label\": \"Against Transfer Learning Attacks\"}},\n",
        "    {\"id\": \"GRP16\", \"properties\": {\"label\": \"Against Data Leak Dev-Time\"}},\n",
        "    {\"id\": \"GRP17\", \"properties\": {\"label\": \"Against Train/Test Data Leak\"}},\n",
        "    {\"id\": \"GRP18\", \"properties\": {\"label\": \"Against Dev-Time Model Leak\"}},\n",
        "    {\"id\": \"GRP19\", \"properties\": {\"label\": \"Against Source Code/Config Leak\"}},\n",
        "    {\"id\": \"GRP20\", \"properties\": {\"label\": \"Against Non AI-Specific AppSec Threats\"}},\n",
        "    {\"id\": \"GRP21\", \"properties\": {\"label\": \"Against Insecure Output Handling\"}},\n",
        "    {\"id\": \"GRP22\", \"properties\": {\"label\": \"Against Leaking Input Data\"}},\n",
        "    {\"id\": \"GRP23\", \"properties\": {\"label\": \"Against Runtime Model Poisoning\"}},\n",
        "    {\"id\": \"GRP24\", \"properties\": {\"label\": \"Against Direct Prompt Injection\"}},\n",
        "    {\"id\": \"GRP25\", \"properties\": {\"label\": \"Against Runtime Model Theft\"}},\n",
        "    {\"id\": \"GRP26\", \"properties\": {\"label\": \"Against Indirect Prompt Injection\"}},\n",
        "    {\"id\": \"TYP1\", \"properties\": {\"label\": \"Standard InfoSec Control\"}},\n",
        "    {\"id\": \"TYP2\", \"properties\": {\"label\": \"Runtime Data Science Control\"}},\n",
        "    {\"id\": \"TYP3\", \"properties\": {\"label\": \"Development-time Data Science Control\"}},\n",
        "    {\"id\": \"TYP4\", \"properties\": {\"label\": \"Other Control\"}},\n",
        "\n",
        "]\n",
        "w.edges = [\n",
        "    {\"id\": 1, \"start\": \"CTL1\", \"end\": \"CAT1\", \"properties\": {\"label\": \"IS_IN_CATEGORY\"}},\n",
        "{\"id\": 2, \"start\": \"CTL1\", \"end\": \"GRP1\", \"properties\": {\"label\": \"IS_IN_GROUP\"}},\n",
        "{\"id\": 3, \"start\": \"CTL1\", \"end\": \"TYP4\", \"properties\": {\"label\": \"IS_OF_TYPE\"}},\n",
        "{\"id\": 4, \"start\": \"CTL2\", \"end\": \"CAT1\", \"properties\": {\"label\": \"IS_IN_CATEGORY\"}},\n",
        "{\"id\": 5, \"start\": \"CTL2\", \"end\": \"GRP1\", \"properties\": {\"label\": \"IS_IN_GROUP\"}},\n",
        "{\"id\": 6, \"start\": \"CTL2\", \"end\": \"TYP1\", \"properties\": {\"label\": \"IS_OF_TYPE\"}},\n",
        "{\"id\": 7, \"start\": \"CTL3\", \"end\": \"CAT1\", \"properties\": {\"label\": \"IS_IN_CATEGORY\"}},\n",
        "{\"id\": 8, \"start\": \"CTL3\", \"end\": \"GRP1\", \"properties\": {\"label\": \"IS_IN_GROUP\"}},\n",
        "{\"id\": 9, \"start\": \"CTL3\", \"end\": \"TYP1\", \"properties\": {\"label\": \"IS_OF_TYPE\"}},\n",
        "{\"id\": 10, \"start\": \"CTL4\", \"end\": \"CAT1\", \"properties\": {\"label\": \"IS_IN_CATEGORY\"}},\n",
        "{\"id\": 11, \"start\": \"CTL4\", \"end\": \"GRP1\", \"properties\": {\"label\": \"IS_IN_GROUP\"}},\n",
        "{\"id\": 12, \"start\": \"CTL4\", \"end\": \"TYP4\", \"properties\": {\"label\": \"IS_OF_TYPE\"}},\n",
        "{\"id\": 13, \"start\": \"CTL5\", \"end\": \"CAT1\", \"properties\": {\"label\": \"IS_IN_CATEGORY\"}},\n",
        "{\"id\": 14, \"start\": \"CTL5\", \"end\": \"GRP1\", \"properties\": {\"label\": \"IS_IN_GROUP\"}},\n",
        "{\"id\": 15, \"start\": \"CTL5\", \"end\": \"TYP1\", \"properties\": {\"label\": \"IS_OF_TYPE\"}},\n",
        "{\"id\": 16, \"start\": \"CTL6\", \"end\": \"CAT1\", \"properties\": {\"label\": \"IS_IN_CATEGORY\"}},\n",
        "{\"id\": 17, \"start\": \"CTL6\", \"end\": \"GRP1\", \"properties\": {\"label\": \"IS_IN_GROUP\"}},\n",
        "{\"id\": 18, \"start\": \"CTL6\", \"end\": \"TYP1\", \"properties\": {\"label\": \"IS_OF_TYPE\"}},\n",
        "{\"id\": 19, \"start\": \"CTL7\", \"end\": \"CAT1\", \"properties\": {\"label\": \"IS_IN_CATEGORY\"}},\n",
        "{\"id\": 20, \"start\": \"CTL7\", \"end\": \"GRP2\", \"properties\": {\"label\": \"IS_IN_GROUP\"}},\n",
        "{\"id\": 21, \"start\": \"CTL7\", \"end\": \"TYP4\", \"properties\": {\"label\": \"IS_OF_TYPE\"}},\n",
        "{\"id\": 22, \"start\": \"CTL8\", \"end\": \"CAT1\", \"properties\": {\"label\": \"IS_IN_CATEGORY\"}},\n",
        "{\"id\": 23, \"start\": \"CTL8\", \"end\": \"GRP2\", \"properties\": {\"label\": \"IS_IN_GROUP\"}},\n",
        "{\"id\": 24, \"start\": \"CTL8\", \"end\": \"TYP1\", \"properties\": {\"label\": \"IS_OF_TYPE\"}},\n",
        "{\"id\": 25, \"start\": \"CTL9\", \"end\": \"CAT1\", \"properties\": {\"label\": \"IS_IN_CATEGORY\"}},\n",
        "{\"id\": 26, \"start\": \"CTL9\", \"end\": \"GRP2\", \"properties\": {\"label\": \"IS_IN_GROUP\"}},\n",
        "{\"id\": 27, \"start\": \"CTL9\", \"end\": \"TYP4\", \"properties\": {\"label\": \"IS_OF_TYPE\"}},\n",
        "{\"id\": 28, \"start\": \"CTL10\", \"end\": \"CAT1\", \"properties\": {\"label\": \"IS_IN_CATEGORY\"}},\n",
        "{\"id\": 29, \"start\": \"CTL10\", \"end\": \"GRP2\", \"properties\": {\"label\": \"IS_IN_GROUP\"}},\n",
        "{\"id\": 30, \"start\": \"CTL10\", \"end\": \"TYP2\", \"properties\": {\"label\": \"IS_OF_TYPE\"}},\n",
        "{\"id\": 31, \"start\": \"CTL10\", \"end\": \"TYP3\", \"properties\": {\"label\": \"IS_OF_TYPE\"}},\n",
        "{\"id\": 32, \"start\": \"CTL11\", \"end\": \"CAT1\", \"properties\": {\"label\": \"IS_IN_CATEGORY\"}},\n",
        "{\"id\": 33, \"start\": \"CTL11\", \"end\": \"GRP2\", \"properties\": {\"label\": \"IS_IN_GROUP\"}},\n",
        "{\"id\": 34, \"start\": \"CTL11\", \"end\": \"TYP2\", \"properties\": {\"label\": \"IS_OF_TYPE\"}},\n",
        "{\"id\": 35, \"start\": \"CTL12\", \"end\": \"CAT1\", \"properties\": {\"label\": \"IS_IN_CATEGORY\"}},\n",
        "{\"id\": 36, \"start\": \"CTL12\", \"end\": \"GRP2\", \"properties\": {\"label\": \"IS_IN_GROUP\"}},\n",
        "{\"id\": 37, \"start\": \"CTL12\", \"end\": \"TYP2\", \"properties\": {\"label\": \"IS_OF_TYPE\"}},\n",
        "{\"id\": 38, \"start\": \"CTL13\", \"end\": \"CAT1\", \"properties\": {\"label\": \"IS_IN_CATEGORY\"}},\n",
        "{\"id\": 39, \"start\": \"CTL13\", \"end\": \"GRP3\", \"properties\": {\"label\": \"IS_IN_GROUP\"}},\n",
        "{\"id\": 40, \"start\": \"CTL13\", \"end\": \"TYP4\", \"properties\": {\"label\": \"IS_OF_TYPE\"}},\n",
        "{\"id\": 41, \"start\": \"CTL14\", \"end\": \"CAT1\", \"properties\": {\"label\": \"IS_IN_CATEGORY\"}},\n",
        "{\"id\": 42, \"start\": \"CTL14\", \"end\": \"GRP3\", \"properties\": {\"label\": \"IS_IN_GROUP\"}},\n",
        "{\"id\": 43, \"start\": \"CTL14\", \"end\": \"TYP4\", \"properties\": {\"label\": \"IS_OF_TYPE\"}},\n",
        "{\"id\": 44, \"start\": \"CTL15\", \"end\": \"CAT1\", \"properties\": {\"label\": \"IS_IN_CATEGORY\"}},\n",
        "{\"id\": 45, \"start\": \"CTL15\", \"end\": \"GRP3\", \"properties\": {\"label\": \"IS_IN_GROUP\"}},\n",
        "{\"id\": 46, \"start\": \"CTL15\", \"end\": \"TYP3\", \"properties\": {\"label\": \"IS_OF_TYPE\"}},\n",
        "{\"id\": 47, \"start\": \"CTL16\", \"end\": \"CAT1\", \"properties\": {\"label\": \"IS_IN_CATEGORY\"}},\n",
        "{\"id\": 48, \"start\": \"CTL16\", \"end\": \"GRP3\", \"properties\": {\"label\": \"IS_IN_GROUP\"}},\n",
        "{\"id\": 49, \"start\": \"CTL16\", \"end\": \"TYP1\", \"properties\": {\"label\": \"IS_OF_TYPE\"}},\n",
        "{\"id\": 50, \"start\": \"CTL17\", \"end\": \"CAT2\", \"properties\": {\"label\": \"IS_IN_CATEGORY\"}},\n",
        "{\"id\": 51, \"start\": \"CTL17\", \"end\": \"GRP4\", \"properties\": {\"label\": \"IS_IN_GROUP\"}},\n",
        "{\"id\": 52, \"start\": \"CTL17\", \"end\": \"GRP5\", \"properties\": {\"label\": \"IS_IN_GROUP\"}},\n",
        "{\"id\": 53, \"start\": \"CTL17\", \"end\": \"GRP7\", \"properties\": {\"label\": \"IS_IN_GROUP\"}},\n",
        "{\"id\": 54, \"start\": \"CTL17\", \"end\": \"GRP8\", \"properties\": {\"label\": \"IS_IN_GROUP\"}},\n",
        "{\"id\": 55, \"start\": \"CTL17\", \"end\": \"GRP9\", \"properties\": {\"label\": \"IS_IN_GROUP\"}},\n",
        "{\"id\": 56, \"start\": \"CTL17\", \"end\": \"GRP10\", \"properties\": {\"label\": \"IS_IN_GROUP\"}},\n",
        "{\"id\": 57, \"start\": \"CTL17\", \"end\": \"TYP1\", \"properties\": {\"label\": \"IS_OF_TYPE\"}},\n",
        "{\"id\": 58, \"start\": \"CTL18\", \"end\": \"CAT2\", \"properties\": {\"label\": \"IS_IN_CATEGORY\"}},\n",
        "{\"id\": 59, \"start\": \"CTL18\", \"end\": \"GRP4\", \"properties\": {\"label\": \"IS_IN_GROUP\"}},\n",
        "{\"id\": 60, \"start\": \"CTL18\", \"end\": \"GRP5\", \"properties\": {\"label\": \"IS_IN_GROUP\"}},\n",
        "{\"id\": 61, \"start\": \"CTL18\", \"end\": \"GRP7\", \"properties\": {\"label\": \"IS_IN_GROUP\"}},\n",
        "{\"id\": 62, \"start\": \"CTL18\", \"end\": \"GRP8\", \"properties\": {\"label\": \"IS_IN_GROUP\"}},\n",
        "{\"id\": 63, \"start\": \"CTL18\", \"end\": \"GRP9\", \"properties\": {\"label\": \"IS_IN_GROUP\"}},\n",
        "{\"id\": 64, \"start\": \"CTL18\", \"end\": \"GRP10\", \"properties\": {\"label\": \"IS_IN_GROUP\"}},\n",
        "{\"id\": 65, \"start\": \"CTL18\", \"end\": \"TYP1\", \"properties\": {\"label\": \"IS_OF_TYPE\"}},\n",
        "{\"id\": 66, \"start\": \"CTL19\", \"end\": \"CAT2\", \"properties\": {\"label\": \"IS_IN_CATEGORY\"}},\n",
        "{\"id\": 67, \"start\": \"CTL19\", \"end\": \"GRP4\", \"properties\": {\"label\": \"IS_IN_GROUP\"}},\n",
        "{\"id\": 68, \"start\": \"CTL19\", \"end\": \"GRP5\", \"properties\": {\"label\": \"IS_IN_GROUP\"}},\n",
        "{\"id\": 69, \"start\": \"CTL19\", \"end\": \"GRP7\", \"properties\": {\"label\": \"IS_IN_GROUP\"}},\n",
        "{\"id\": 70, \"start\": \"CTL19\", \"end\": \"GRP8\", \"properties\": {\"label\": \"IS_IN_GROUP\"}},\n",
        "{\"id\": 71, \"start\": \"CTL19\", \"end\": \"GRP9\", \"properties\": {\"label\": \"IS_IN_GROUP\"}},\n",
        "{\"id\": 72, \"start\": \"CTL19\", \"end\": \"GRP10\", \"properties\": {\"label\": \"IS_IN_GROUP\"}},\n",
        "{\"id\": 73, \"start\": \"CTL19\", \"end\": \"TYP1\", \"properties\": {\"label\": \"IS_OF_TYPE\"}},\n",
        "{\"id\": 74, \"start\": \"CTL20\", \"end\": \"CAT2\", \"properties\": {\"label\": \"IS_IN_CATEGORY\"}},\n",
        "{\"id\": 75, \"start\": \"CTL20\", \"end\": \"GRP5\", \"properties\": {\"label\": \"IS_IN_GROUP\"}},\n",
        "{\"id\": 76, \"start\": \"CTL20\", \"end\": \"TYP2\", \"properties\": {\"label\": \"IS_OF_TYPE\"}},\n",
        "{\"id\": 77, \"start\": \"CTL21\", \"end\": \"CAT2\", \"properties\": {\"label\": \"IS_IN_CATEGORY\"}},\n",
        "{\"id\": 78, \"start\": \"CTL21\", \"end\": \"GRP5\", \"properties\": {\"label\": \"IS_IN_GROUP\"}},\n",
        "{\"id\": 79, \"start\": \"CTL21\", \"end\": \"TYP2\", \"properties\": {\"label\": \"IS_OF_TYPE\"}},\n",
        "{\"id\": 80, \"start\": \"CTL22\", \"end\": \"CAT2\", \"properties\": {\"label\": \"IS_IN_CATEGORY\"}},\n",
        "{\"id\": 81, \"start\": \"CTL22\", \"end\": \"GRP5\", \"properties\": {\"label\": \"IS_IN_GROUP\"}},\n",
        "{\"id\": 82, \"start\": \"CTL22\", \"end\": \"TYP3\", \"properties\": {\"label\": \"IS_OF_TYPE\"}},\n",
        "{\"id\": 83, \"start\": \"CTL23\", \"end\": \"CAT2\", \"properties\": {\"label\": \"IS_IN_CATEGORY\"}},\n",
        "{\"id\": 84, \"start\": \"CTL23\", \"end\": \"GRP5\", \"properties\": {\"label\": \"IS_IN_GROUP\"}},\n",
        "{\"id\": 85, \"start\": \"CTL23\", \"end\": \"TYP3\", \"properties\": {\"label\": \"IS_OF_TYPE\"}},\n",
        "{\"id\": 86, \"start\": \"CTL24\", \"end\": \"CAT2\", \"properties\": {\"label\": \"IS_IN_CATEGORY\"}},\n",
        "{\"id\": 87, \"start\": \"CTL24\", \"end\": \"GRP5\", \"properties\": {\"label\": \"IS_IN_GROUP\"}},\n",
        "{\"id\": 88, \"start\": \"CTL24\", \"end\": \"TYP3\", \"properties\": {\"label\": \"IS_OF_TYPE\"}},\n",
        "{\"id\": 89, \"start\": \"CTL25\", \"end\": \"CAT2\", \"properties\": {\"label\": \"IS_IN_CATEGORY\"}},\n",
        "{\"id\": 90, \"start\": \"CTL25\", \"end\": \"GRP5\", \"properties\": {\"label\": \"IS_IN_GROUP\"}},\n",
        "{\"id\": 91, \"start\": \"CTL25\", \"end\": \"TYP3\", \"properties\": {\"label\": \"IS_OF_TYPE\"}},\n",
        "{\"id\": 92, \"start\": \"CTL26\", \"end\": \"CAT2\", \"properties\": {\"label\": \"IS_IN_CATEGORY\"}},\n",
        "{\"id\": 93, \"start\": \"CTL26\", \"end\": \"GRP7\", \"properties\": {\"label\": \"IS_IN_GROUP\"}},\n",
        "{\"id\": 94, \"start\": \"CTL26\", \"end\": \"TYP4\", \"properties\": {\"label\": \"IS_OF_TYPE\"}},\n",
        "{\"id\": 95, \"start\": \"CTL27\", \"end\": \"CAT2\", \"properties\": {\"label\": \"IS_IN_CATEGORY\"}},\n",
        "{\"id\": 96, \"start\": \"CTL27\", \"end\": \"GRP8\", \"properties\": {\"label\": \"IS_IN_GROUP\"}},\n",
        "{\"id\": 97, \"start\": \"CTL27\", \"end\": \"TYP4\", \"properties\": {\"label\": \"IS_OF_TYPE\"}},\n",
        "{\"id\": 98, \"start\": \"CTL28\", \"end\": \"CAT2\", \"properties\": {\"label\": \"IS_IN_CATEGORY\"}},\n",
        "{\"id\": 99, \"start\": \"CTL28\", \"end\": \"GRP8\", \"properties\": {\"label\": \"IS_IN_GROUP\"}},\n",
        "{\"id\": 100, \"start\": \"CTL28\", \"end\": \"TYP3\", \"properties\": {\"label\": \"IS_OF_TYPE\"}},\n",
        "{\"id\": 101, \"start\": \"CTL29\", \"end\": \"CAT2\", \"properties\": {\"label\": \"IS_IN_CATEGORY\"}},\n",
        "{\"id\": 102, \"start\": \"CTL29\", \"end\": \"GRP10\", \"properties\": {\"label\": \"IS_IN_GROUP\"}},\n",
        "{\"id\": 103, \"start\": \"CTL29\", \"end\": \"TYP1\", \"properties\": {\"label\": \"IS_OF_TYPE\"}},\n",
        "{\"id\": 104, \"start\": \"CTL30\", \"end\": \"CAT2\", \"properties\": {\"label\": \"IS_IN_CATEGORY\"}},\n",
        "{\"id\": 105, \"start\": \"CTL30\", \"end\": \"GRP10\", \"properties\": {\"label\": \"IS_IN_GROUP\"}},\n",
        "{\"id\": 106, \"start\": \"CTL30\", \"end\": \"TYP1\", \"properties\": {\"label\": \"IS_OF_TYPE\"}},\n",
        "{\"id\": 107, \"start\": \"CTL31\", \"end\": \"CAT3\", \"properties\": {\"label\": \"IS_IN_CATEGORY\"}},\n",
        "{\"id\": 108, \"start\": \"CTL31\", \"end\": \"GRP11\", \"properties\": {\"label\": \"IS_IN_GROUP\"}},\n",
        "{\"id\": 109, \"start\": \"CTL31\", \"end\": \"GRP12\", \"properties\": {\"label\": \"IS_IN_GROUP\"}},\n",
        "{\"id\": 110, \"start\": \"CTL31\", \"end\": \"GRP13\", \"properties\": {\"label\": \"IS_IN_GROUP\"}},\n",
        "{\"id\": 111, \"start\": \"CTL31\", \"end\": \"GRP14\", \"properties\": {\"label\": \"IS_IN_GROUP\"}},\n",
        "{\"id\": 112, \"start\": \"CTL31\", \"end\": \"GRP17\", \"properties\": {\"label\": \"IS_IN_GROUP\"}},\n",
        "{\"id\": 113, \"start\": \"CTL31\", \"end\": \"GRP18\", \"properties\": {\"label\": \"IS_IN_GROUP\"}},\n",
        "{\"id\": 114, \"start\": \"CTL31\", \"end\": \"GRP19\", \"properties\": {\"label\": \"IS_IN_GROUP\"}},\n",
        "{\"id\": 115, \"start\": \"CTL31\", \"end\": \"TYP1\", \"properties\": {\"label\": \"IS_OF_TYPE\"}},\n",
        "{\"id\": 116, \"start\": \"CTL32\", \"end\": \"CAT3\", \"properties\": {\"label\": \"IS_IN_CATEGORY\"}},\n",
        "{\"id\": 117, \"start\": \"CTL32\", \"end\": \"GRP11\", \"properties\": {\"label\": \"IS_IN_GROUP\"}},\n",
        "{\"id\": 118, \"start\": \"CTL32\", \"end\": \"GRP12\", \"properties\": {\"label\": \"IS_IN_GROUP\"}},\n",
        "{\"id\": 119, \"start\": \"CTL32\", \"end\": \"GRP13\", \"properties\": {\"label\": \"IS_IN_GROUP\"}},\n",
        "{\"id\": 120, \"start\": \"CTL32\", \"end\": \"GRP14\", \"properties\": {\"label\": \"IS_IN_GROUP\"}},\n",
        "{\"id\": 121, \"start\": \"CTL32\", \"end\": \"GRP17\", \"properties\": {\"label\": \"IS_IN_GROUP\"}},\n",
        "{\"id\": 122, \"start\": \"CTL32\", \"end\": \"GRP18\", \"properties\": {\"label\": \"IS_IN_GROUP\"}},\n",
        "{\"id\": 123, \"start\": \"CTL32\", \"end\": \"GRP19\", \"properties\": {\"label\": \"IS_IN_GROUP\"}},\n",
        "{\"id\": 124, \"start\": \"CTL32\", \"end\": \"TYP1\", \"properties\": {\"label\": \"IS_OF_TYPE\"}},\n",
        "{\"id\": 125, \"start\": \"CTL33\", \"end\": \"CAT3\", \"properties\": {\"label\": \"IS_IN_CATEGORY\"}},\n",
        "{\"id\": 126, \"start\": \"CTL33\", \"end\": \"GRP11\", \"properties\": {\"label\": \"IS_IN_GROUP\"}},\n",
        "{\"id\": 127, \"start\": \"CTL33\", \"end\": \"GRP12\", \"properties\": {\"label\": \"IS_IN_GROUP\"}},\n",
        "{\"id\": 128, \"start\": \"CTL33\", \"end\": \"GRP13\", \"properties\": {\"label\": \"IS_IN_GROUP\"}},\n",
        "{\"id\": 129, \"start\": \"CTL33\", \"end\": \"GRP14\", \"properties\": {\"label\": \"IS_IN_GROUP\"}},\n",
        "{\"id\": 130, \"start\": \"CTL33\", \"end\": \"GRP17\", \"properties\": {\"label\": \"IS_IN_GROUP\"}},\n",
        "{\"id\": 131, \"start\": \"CTL33\", \"end\": \"GRP18\", \"properties\": {\"label\": \"IS_IN_GROUP\"}},\n",
        "{\"id\": 132, \"start\": \"CTL33\", \"end\": \"GRP19\", \"properties\": {\"label\": \"IS_IN_GROUP\"}},\n",
        "{\"id\": 133, \"start\": \"CTL33\", \"end\": \"TYP1\", \"properties\": {\"label\": \"IS_OF_TYPE\"}},\n",
        "{\"id\": 134, \"start\": \"CTL34\", \"end\": \"CAT3\", \"properties\": {\"label\": \"IS_IN_CATEGORY\"}},\n",
        "{\"id\": 135, \"start\": \"CTL34\", \"end\": \"GRP11\", \"properties\": {\"label\": \"IS_IN_GROUP\"}},\n",
        "{\"id\": 136, \"start\": \"CTL34\", \"end\": \"GRP12\", \"properties\": {\"label\": \"IS_IN_GROUP\"}},\n",
        "{\"id\": 137, \"start\": \"CTL34\", \"end\": \"GRP13\", \"properties\": {\"label\": \"IS_IN_GROUP\"}},\n",
        "{\"id\": 138, \"start\": \"CTL34\", \"end\": \"GRP14\", \"properties\": {\"label\": \"IS_IN_GROUP\"}},\n",
        "{\"id\": 139, \"start\": \"CTL34\", \"end\": \"GRP17\", \"properties\": {\"label\": \"IS_IN_GROUP\"}},\n",
        "{\"id\": 140, \"start\": \"CTL34\", \"end\": \"GRP18\", \"properties\": {\"label\": \"IS_IN_GROUP\"}},\n",
        "{\"id\": 141, \"start\": \"CTL34\", \"end\": \"GRP19\", \"properties\": {\"label\": \"IS_IN_GROUP\"}},\n",
        "{\"id\": 142, \"start\": \"CTL34\", \"end\": \"TYP4\", \"properties\": {\"label\": \"IS_OF_TYPE\"}},\n",
        "{\"id\": 143, \"start\": \"CTL35\", \"end\": \"CAT3\", \"properties\": {\"label\": \"IS_IN_CATEGORY\"}},\n",
        "{\"id\": 144, \"start\": \"CTL35\", \"end\": \"GRP11\", \"properties\": {\"label\": \"IS_IN_GROUP\"}},\n",
        "{\"id\": 145, \"start\": \"CTL35\", \"end\": \"GRP12\", \"properties\": {\"label\": \"IS_IN_GROUP\"}},\n",
        "{\"id\": 146, \"start\": \"CTL35\", \"end\": \"GRP13\", \"properties\": {\"label\": \"IS_IN_GROUP\"}},\n",
        "{\"id\": 147, \"start\": \"CTL35\", \"end\": \"GRP14\", \"properties\": {\"label\": \"IS_IN_GROUP\"}},\n",
        "{\"id\": 148, \"start\": \"CTL35\", \"end\": \"GRP17\", \"properties\": {\"label\": \"IS_IN_GROUP\"}},\n",
        "{\"id\": 149, \"start\": \"CTL35\", \"end\": \"GRP18\", \"properties\": {\"label\": \"IS_IN_GROUP\"}},\n",
        "{\"id\": 150, \"start\": \"CTL35\", \"end\": \"GRP19\", \"properties\": {\"label\": \"IS_IN_GROUP\"}},\n",
        "{\"id\": 151, \"start\": \"CTL35\", \"end\": \"TYP3\", \"properties\": {\"label\": \"IS_OF_TYPE\"}},\n",
        "{\"id\": 152, \"start\": \"CTL36\", \"end\": \"CAT3\", \"properties\": {\"label\": \"IS_IN_CATEGORY\"}},\n",
        "{\"id\": 153, \"start\": \"CTL36\", \"end\": \"GRP11\", \"properties\": {\"label\": \"IS_IN_GROUP\"}},\n",
        "{\"id\": 154, \"start\": \"CTL36\", \"end\": \"GRP12\", \"properties\": {\"label\": \"IS_IN_GROUP\"}},\n",
        "{\"id\": 155, \"start\": \"CTL36\", \"end\": \"GRP13\", \"properties\": {\"label\": \"IS_IN_GROUP\"}},\n",
        "{\"id\": 156, \"start\": \"CTL36\", \"end\": \"GRP14\", \"properties\": {\"label\": \"IS_IN_GROUP\"}},\n",
        "{\"id\": 157, \"start\": \"CTL36\", \"end\": \"GRP15\", \"properties\": {\"label\": \"IS_IN_GROUP\"}},\n",
        "{\"id\": 158, \"start\": \"CTL36\", \"end\": \"GRP17\", \"properties\": {\"label\": \"IS_IN_GROUP\"}},\n",
        "{\"id\": 159, \"start\": \"CTL36\", \"end\": \"GRP18\", \"properties\": {\"label\": \"IS_IN_GROUP\"}},\n",
        "{\"id\": 160, \"start\": \"CTL36\", \"end\": \"GRP19\", \"properties\": {\"label\": \"IS_IN_GROUP\"}},\n",
        "{\"id\": 161, \"start\": \"CTL36\", \"end\": \"TYP1\", \"properties\": {\"label\": \"IS_OF_TYPE\"}},\n",
        "{\"id\": 162, \"start\": \"CTL37\", \"end\": \"CAT3\", \"properties\": {\"label\": \"IS_IN_CATEGORY\"}},\n",
        "{\"id\": 163, \"start\": \"CTL37\", \"end\": \"GRP12\", \"properties\": {\"label\": \"IS_IN_GROUP\"}},\n",
        "{\"id\": 164, \"start\": \"CTL37\", \"end\": \"TYP3\", \"properties\": {\"label\": \"IS_OF_TYPE\"}},\n",
        "{\"id\": 165, \"start\": \"CTL38\", \"end\": \"CAT3\", \"properties\": {\"label\": \"IS_IN_CATEGORY\"}},\n",
        "{\"id\": 166, \"start\": \"CTL38\", \"end\": \"GRP13\", \"properties\": {\"label\": \"IS_IN_GROUP\"}},\n",
        "{\"id\": 167, \"start\": \"CTL38\", \"end\": \"TYP3\", \"properties\": {\"label\": \"IS_OF_TYPE\"}},\n",
        "{\"id\": 168, \"start\": \"CTL39\", \"end\": \"CAT3\", \"properties\": {\"label\": \"IS_IN_CATEGORY\"}},\n",
        "{\"id\": 169, \"start\": \"CTL39\", \"end\": \"GRP13\", \"properties\": {\"label\": \"IS_IN_GROUP\"}},\n",
        "{\"id\": 170, \"start\": \"CTL39\", \"end\": \"TYP3\", \"properties\": {\"label\": \"IS_OF_TYPE\"}},\n",
        "{\"id\": 171, \"start\": \"CTL40\", \"end\": \"CAT3\", \"properties\": {\"label\": \"IS_IN_CATEGORY\"}},\n",
        "{\"id\": 172, \"start\": \"CTL40\", \"end\": \"GRP13\", \"properties\": {\"label\": \"IS_IN_GROUP\"}},\n",
        "{\"id\": 173, \"start\": \"CTL40\", \"end\": \"TYP3\", \"properties\": {\"label\": \"IS_OF_TYPE\"}},\n",
        "{\"id\": 174, \"start\": \"CTL41\", \"end\": \"CAT3\", \"properties\": {\"label\": \"IS_IN_CATEGORY\"}},\n",
        "{\"id\": 175, \"start\": \"CTL41\", \"end\": \"GRP13\", \"properties\": {\"label\": \"IS_IN_GROUP\"}},\n",
        "{\"id\": 176, \"start\": \"CTL41\", \"end\": \"TYP3\", \"properties\": {\"label\": \"IS_OF_TYPE\"}},\n",
        "{\"id\": 177, \"start\": \"CTL42\", \"end\": \"CAT4\", \"properties\": {\"label\": \"IS_IN_CATEGORY\"}},\n",
        "{\"id\": 178, \"start\": \"CTL42\", \"end\": \"GRP20\", \"properties\": {\"label\": \"IS_IN_GROUP\"}},\n",
        "{\"id\": 179, \"start\": \"CTL42\", \"end\": \"TYP1\", \"properties\": {\"label\": \"IS_OF_TYPE\"}},\n",
        "{\"id\": 180, \"start\": \"CTL43\", \"end\": \"CAT4\", \"properties\": {\"label\": \"IS_IN_CATEGORY\"}},\n",
        "{\"id\": 181, \"start\": \"CTL43\", \"end\": \"GRP20\", \"properties\": {\"label\": \"IS_IN_GROUP\"}},\n",
        "{\"id\": 182, \"start\": \"CTL43\", \"end\": \"TYP1\", \"properties\": {\"label\": \"IS_OF_TYPE\"}},\n",
        "{\"id\": 183, \"start\": \"CTL44\", \"end\": \"CAT4\", \"properties\": {\"label\": \"IS_IN_CATEGORY\"}},\n",
        "{\"id\": 184, \"start\": \"CTL44\", \"end\": \"GRP21\", \"properties\": {\"label\": \"IS_IN_GROUP\"}},\n",
        "{\"id\": 185, \"start\": \"CTL44\", \"end\": \"TYP1\", \"properties\": {\"label\": \"IS_OF_TYPE\"}},\n",
        "{\"id\": 186, \"start\": \"CTL45\", \"end\": \"CAT4\", \"properties\": {\"label\": \"IS_IN_CATEGORY\"}},\n",
        "{\"id\": 187, \"start\": \"CTL45\", \"end\": \"GRP22\", \"properties\": {\"label\": \"IS_IN_GROUP\"}},\n",
        "{\"id\": 188, \"start\": \"CTL45\", \"end\": \"TYP1\", \"properties\": {\"label\": \"IS_OF_TYPE\"}},\n",
        "{\"id\": 189, \"start\": \"CTL46\", \"end\": \"CAT4\", \"properties\": {\"label\": \"IS_IN_CATEGORY\"}},\n",
        "{\"id\": 190, \"start\": \"CTL46\", \"end\": \"GRP23\", \"properties\": {\"label\": \"IS_IN_GROUP\"}},\n",
        "{\"id\": 191, \"start\": \"CTL46\", \"end\": \"TYP1\", \"properties\": {\"label\": \"IS_OF_TYPE\"}},\n",
        "{\"id\": 192, \"start\": \"CTL47\", \"end\": \"CAT4\", \"properties\": {\"label\": \"IS_IN_CATEGORY\"}},\n",
        "{\"id\": 193, \"start\": \"CTL47\", \"end\": \"GRP23\", \"properties\": {\"label\": \"IS_IN_GROUP\"}},\n",
        "{\"id\": 194, \"start\": \"CTL47\", \"end\": \"TYP1\", \"properties\": {\"label\": \"IS_OF_TYPE\"}},\n",
        "{\"id\": 195, \"start\": \"CTL48\", \"end\": \"CAT4\", \"properties\": {\"label\": \"IS_IN_CATEGORY\"}},\n",
        "{\"id\": 196, \"start\": \"CTL48\", \"end\": \"GRP24\", \"properties\": {\"label\": \"IS_IN_GROUP\"}},\n",
        "{\"id\": 197, \"start\": \"CTL48\", \"end\": \"TYP4\", \"properties\": {\"label\": \"IS_OF_TYPE\"}},\n",
        "{\"id\": 198, \"start\": \"CTL49\", \"end\": \"CAT4\", \"properties\": {\"label\": \"IS_IN_CATEGORY\"}},\n",
        "{\"id\": 199, \"start\": \"CTL49\", \"end\": \"GRP25\", \"properties\": {\"label\": \"IS_IN_GROUP\"}},\n",
        "{\"id\": 200, \"start\": \"CTL49\", \"end\": \"TYP1\", \"properties\": {\"label\": \"IS_OF_TYPE\"}},\n",
        "{\"id\": 201, \"start\": \"CTL50\", \"end\": \"CAT4\", \"properties\": {\"label\": \"IS_IN_CATEGORY\"}},\n",
        "{\"id\": 202, \"start\": \"CTL50\", \"end\": \"GRP25\", \"properties\": {\"label\": \"IS_IN_GROUP\"}},\n",
        "{\"id\": 203, \"start\": \"CTL50\", \"end\": \"TYP4\", \"properties\": {\"label\": \"IS_OF_TYPE\"}},\n",
        "{\"id\": 204, \"start\": \"CTL51\", \"end\": \"CAT4\", \"properties\": {\"label\": \"IS_IN_CATEGORY\"}},\n",
        "{\"id\": 205, \"start\": \"CTL51\", \"end\": \"GRP26\", \"properties\": {\"label\": \"IS_IN_GROUP\"}},\n",
        "{\"id\": 206, \"start\": \"CTL51\", \"end\": \"TYP4\", \"properties\": {\"label\": \"IS_OF_TYPE\"}},\n",
        "{\"id\": 207, \"start\": \"CTL52\", \"end\": \"CAT4\", \"properties\": {\"label\": \"IS_IN_CATEGORY\"}},\n",
        "{\"id\": 208, \"start\": \"CTL52\", \"end\": \"GRP26\", \"properties\": {\"label\": \"IS_IN_GROUP\"}},\n",
        "{\"id\": 209, \"start\": \"CTL52\", \"end\": \"TYP4\", \"properties\": {\"label\": \"IS_OF_TYPE\"}}\n",
        "]\n",
        "\n",
        "w.directed = True\n",
        "\n",
        "# Define a function to determine node color based on ID prefix\n",
        "def custom_node_color_mapping(node: Dict):\n",
        "    \"\"\"Determine node color based on ID prefix and return the corresponding color with an attractive scheme.\"\"\"\n",
        "    # Define attractive colors for each node type\n",
        "    colors = {\n",
        "        \"CAT\": \"#00BFFF\",\n",
        "        \"CTL\": \"#FF7F50\",\n",
        "        \"GRP\": \"#3CB371\",\n",
        "        \"TYP\": \"#DAA520\",\n",
        "    }\n",
        "\n",
        "    # Determine the node type from its ID and apply the corresponding color\n",
        "    for prefix, color in colors.items():\n",
        "        if node['id'].startswith(prefix):\n",
        "            return color\n",
        "\n",
        "    # Return a default color if the node type does not match any of the specified types\n",
        "    # This line can be omitted if you do not wish to apply a default color\n",
        "    return \"#CCCCCC\"  # Light gray as a default color\n",
        "\n",
        "# Use the defined function to set node colors\n",
        "w.set_node_color_mapping(custom_node_color_mapping)\n",
        "\n",
        "# Display the graph\n",
        "display(w)"
      ]
    },
    {
      "cell_type": "markdown",
      "id": "-WioipTP4fu1",
      "metadata": {
        "id": "-WioipTP4fu1"
      },
      "source": [
        "## Exploring Relationships\n",
        "\n",
        "The graph visualisation allows you to explore the relationships between controls, categories, groups, and types. Here are a few interesting relationships to investigate:\n",
        "\n",
        "- Controls that belong to multiple groups\n",
        "- Groups that contain the most controls\n",
        "- Categories and the distribution of controls within them\n",
        "- The relationship between control types and groups\n",
        "\n",
        "Use the code cells below to generate subgraphs focusing on specific aspects of the AI security landscape."
      ]
    },
    {
      "cell_type": "markdown",
      "id": "cEHvU-va5Os9",
      "metadata": {
        "id": "cEHvU-va5Os9"
      },
      "source": [
        "### Controls in Group\n",
        "The subgraph below showcases the controls that fall under the \"Governance\" group. This group includes controls related to AI program management, security program, software development lifecycle, and more. Exploring this subgraph can provide insights into the key governance aspects of AI security."
      ]
    },
    {
      "cell_type": "code",
      "execution_count": 9,
      "id": "Hy6qhGKc4EvJ",
      "metadata": {
        "colab": {
          "base_uri": "https://localhost:8080/",
          "height": 517,
          "referenced_widgets": [
            "f57966e3c00548788b16a770a0102c50",
            "199e51bb71394d2d9fad486ce9a2b5a0"
          ]
        },
        "id": "Hy6qhGKc4EvJ",
        "outputId": "5ab94df7-1a23-4cb2-ebbb-d286dcc718e2"
      },
      "outputs": [
        {
          "data": {
            "application/vnd.jupyter.widget-view+json": {
              "model_id": "f57966e3c00548788b16a770a0102c50",
              "version_major": 2,
              "version_minor": 0
            },
            "text/plain": [
              "GraphWidget(layout=Layout(height='500px', width='100%'))"
            ]
          },
          "metadata": {
            "application/vnd.jupyter.widget-view+json": {
              "colab": {
                "custom_widget_manager": {
                  "url": "https://ssl.gstatic.com/colaboratory-static/widgets/colab-cdn-widget-manager/2b70e893a8ba7c0f/manager.min.js"
                }
              }
            }
          },
          "output_type": "display_data"
        }
      ],
      "source": [
        "# Generate a subgraph showing controls that belong to the \"Governance\" group\n",
        "governance_controls = [node for node in w.nodes if 'GRP1' in [edge['end'] for edge in w.edges if edge['start'] == node['id']]]\n",
        "governance_edges = [edge for edge in w.edges if edge['start'] in [node['id'] for node in governance_controls] or edge['end'] in [node['id'] for node in governance_controls]]\n",
        "\n",
        "governance_graph = GraphWidget()\n",
        "governance_graph.nodes = governance_controls\n",
        "governance_graph.edges = governance_edges\n",
        "governance_graph.directed = True\n",
        "governance_graph.set_node_color_mapping(custom_node_color_mapping)\n",
        "\n",
        "display(governance_graph)"
      ]
    },
    {
      "cell_type": "markdown",
      "id": "Qr8GmNS25sYt",
      "metadata": {
        "id": "Qr8GmNS25sYt"
      },
      "source": [
        "### Controls per Category\n",
        "\n",
        "The following subgraph visualises the distribution of controls across different categories. It allows you to see which categories have the most controls and how the controls are organised within each category. This can help in understanding the focus areas of the OWASP AI Security Threats and Controls Navigator."
      ]
    },
    {
      "cell_type": "code",
      "execution_count": 10,
      "id": "r8JD9Kl74QXN",
      "metadata": {
        "colab": {
          "base_uri": "https://localhost:8080/",
          "height": 817,
          "referenced_widgets": [
            "a155a9e56624429c962ccfce4b37912d",
            "da12a591227b4f589361fd4dd202a77c"
          ]
        },
        "id": "r8JD9Kl74QXN",
        "outputId": "b14c7fa9-2ad5-4bdf-e13d-87b255786f54"
      },
      "outputs": [
        {
          "data": {
            "application/vnd.jupyter.widget-view+json": {
              "model_id": "a155a9e56624429c962ccfce4b37912d",
              "version_major": 2,
              "version_minor": 0
            },
            "text/plain": [
              "GraphWidget(layout=Layout(height='800px', width='100%'))"
            ]
          },
          "metadata": {
            "application/vnd.jupyter.widget-view+json": {
              "colab": {
                "custom_widget_manager": {
                  "url": "https://ssl.gstatic.com/colaboratory-static/widgets/colab-cdn-widget-manager/2b70e893a8ba7c0f/manager.min.js"
                }
              }
            }
          },
          "output_type": "display_data"
        }
      ],
      "source": [
        "# Generate a subgraph showing the distribution of controls across categories\n",
        "category_nodes = [node for node in w.nodes if node['id'].startswith('CAT')]\n",
        "category_edges = [edge for edge in w.edges if edge['end'] in [node['id'] for node in category_nodes]]\n",
        "\n",
        "category_graph = GraphWidget()\n",
        "category_graph.nodes = category_nodes + [node for node in w.nodes if node['id'] in [edge['start'] for edge in category_edges]]\n",
        "category_graph.edges = category_edges\n",
        "category_graph.directed = True\n",
        "category_graph.set_node_color_mapping(custom_node_color_mapping)\n",
        "\n",
        "display(category_graph)"
      ]
    },
    {
      "cell_type": "markdown",
      "id": "v26viIhl8K5l",
      "metadata": {
        "id": "v26viIhl8K5l"
      },
      "source": [
        "### Controls per Type\n",
        "\n",
        "The subgraph below illustrates the relationship between controls of different types. It allows you to see which control types are most prevalent. This can provide insights into the nature of the controls within each control type and help identify patterns or trends. For example, you may observe that there are more 'Standard Information Security Controls' than any other control type."
      ]
    },
    {
      "cell_type": "code",
      "execution_count": 11,
      "id": "Vm4Sbvt-6Vlg",
      "metadata": {
        "colab": {
          "base_uri": "https://localhost:8080/",
          "height": 817,
          "referenced_widgets": [
            "024bd818e8be4126b6074ab805dfcdde",
            "221f47fff78549d0b0bf83e7a24731b3"
          ]
        },
        "id": "Vm4Sbvt-6Vlg",
        "outputId": "4733cd38-043e-4d46-9e62-50db03fe6500"
      },
      "outputs": [
        {
          "data": {
            "application/vnd.jupyter.widget-view+json": {
              "model_id": "024bd818e8be4126b6074ab805dfcdde",
              "version_major": 2,
              "version_minor": 0
            },
            "text/plain": [
              "GraphWidget(layout=Layout(height='800px', width='100%'))"
            ]
          },
          "metadata": {
            "application/vnd.jupyter.widget-view+json": {
              "colab": {
                "custom_widget_manager": {
                  "url": "https://ssl.gstatic.com/colaboratory-static/widgets/colab-cdn-widget-manager/2b70e893a8ba7c0f/manager.min.js"
                }
              }
            }
          },
          "output_type": "display_data"
        }
      ],
      "source": [
        "# Generate a subgraph showing the distribution of controls across control types\n",
        "type_nodes = [node for node in w.nodes if node['id'].startswith('TYP')]\n",
        "type_edges = [edge for edge in w.edges if edge['end'] in [node['id'] for node in type_nodes]]\n",
        "\n",
        "type_graph = GraphWidget()\n",
        "type_graph.nodes = type_nodes + [node for node in w.nodes if node['id'] in [edge['start'] for edge in type_edges]]\n",
        "type_graph.edges = type_edges\n",
        "type_graph.directed = True\n",
        "type_graph.set_node_color_mapping(custom_node_color_mapping)\n",
        "\n",
        "display(type_graph)"
      ]
    },
    {
      "cell_type": "markdown",
      "id": "mV-k7FCD80ss",
      "metadata": {
        "id": "mV-k7FCD80ss"
      },
      "source": [
        "### Multi-Group Controls\n",
        "\n",
        "This subgraph focuses on controls that belong to multiple groups. These controls are particularly interesting because they address multiple aspects of AI security simultaneously. By examining the groups these controls belong to, you can gain insights into the interconnectedness of different security considerations. For instance, a control that belongs to both the \"Against Evasion\" and \"Against Data Disclosure by Model\" groups suggests a strong link between these two security aspects."
      ]
    },
    {
      "cell_type": "code",
      "execution_count": 12,
      "id": "7eT7QVmv9CnB",
      "metadata": {
        "colab": {
          "base_uri": "https://localhost:8080/",
          "height": 797,
          "referenced_widgets": [
            "7ec27616a66e4242a49e73afcd39bb73",
            "3c3daa5784ff4a60ad397c4184309f28"
          ]
        },
        "id": "7eT7QVmv9CnB",
        "outputId": "b3c3199e-c1ad-4ed6-9d4c-e5bc9a1ddc88"
      },
      "outputs": [
        {
          "data": {
            "application/vnd.jupyter.widget-view+json": {
              "model_id": "7ec27616a66e4242a49e73afcd39bb73",
              "version_major": 2,
              "version_minor": 0
            },
            "text/plain": [
              "GraphWidget(layout=Layout(height='780px', width='100%'))"
            ]
          },
          "metadata": {
            "application/vnd.jupyter.widget-view+json": {
              "colab": {
                "custom_widget_manager": {
                  "url": "https://ssl.gstatic.com/colaboratory-static/widgets/colab-cdn-widget-manager/2b70e893a8ba7c0f/manager.min.js"
                }
              }
            }
          },
          "output_type": "display_data"
        }
      ],
      "source": [
        "# Generate a subgraph showing controls that belong to multiple groups\n",
        "multi_group_controls = [node for node in w.nodes if node['id'].startswith('CTL') and len([edge for edge in w.edges if edge['start'] == node['id'] and edge['end'].startswith('GRP')]) > 1]\n",
        "multi_group_edges = [edge for edge in w.edges if edge['start'] in [node['id'] for node in multi_group_controls] or edge['end'] in [node['id'] for node in multi_group_controls]]\n",
        "\n",
        "multi_group_graph = GraphWidget()\n",
        "multi_group_graph.nodes = multi_group_controls + [node for node in w.nodes if node['id'] in [edge['end'] for edge in multi_group_edges]]\n",
        "multi_group_graph.edges = multi_group_edges\n",
        "multi_group_graph.directed = True\n",
        "multi_group_graph.set_node_color_mapping(custom_node_color_mapping)\n",
        "\n",
        "display(multi_group_graph)"
      ]
    }
  ],
  "metadata": {
    "colab": {
      "provenance": []
    },
    "kernelspec": {
      "display_name": "Python 3 (ipykernel)",
      "language": "python",
      "name": "python3"
    },
    "language_info": {
      "codemirror_mode": {
        "name": "ipython",
        "version": 3
      },
      "file_extension": ".py",
      "mimetype": "text/x-python",
      "name": "python",
      "nbconvert_exporter": "python",
      "pygments_lexer": "ipython3",
      "version": "3.11.3"
    },
    "widgets": {
      "application/vnd.jupyter.widget-state+json": {
        "024bd818e8be4126b6074ab805dfcdde": {
          "model_module": "yfiles-jupyter-graphs",
          "model_module_version": "^1.6.2",
          "model_name": "GraphModel",
          "state": {
            "_context_pane_mapping": [
              {
                "id": "Neighborhood",
                "title": "Neighborhood"
              },
              {
                "id": "Data",
                "title": "Data"
              },
              {
                "id": "Search",
                "title": "Search"
              },
              {
                "id": "About",
                "title": "About"
              }
            ],
            "_data_importer": "unknown",
            "_directed": true,
            "_dom_classes": [],
            "_edges": [
              {
                "color": "#15AFAC",
                "directed": true,
                "end": "TYP4",
                "id": 3,
                "label": "IS_OF_TYPE",
                "properties": {
                  "label": "IS_OF_TYPE"
                },
                "start": "CTL1",
                "thickness_factor": 1
              },
              {
                "color": "#15AFAC",
                "directed": true,
                "end": "TYP1",
                "id": 6,
                "label": "IS_OF_TYPE",
                "properties": {
                  "label": "IS_OF_TYPE"
                },
                "start": "CTL2",
                "thickness_factor": 1
              },
              {
                "color": "#15AFAC",
                "directed": true,
                "end": "TYP1",
                "id": 9,
                "label": "IS_OF_TYPE",
                "properties": {
                  "label": "IS_OF_TYPE"
                },
                "start": "CTL3",
                "thickness_factor": 1
              },
              {
                "color": "#15AFAC",
                "directed": true,
                "end": "TYP4",
                "id": 12,
                "label": "IS_OF_TYPE",
                "properties": {
                  "label": "IS_OF_TYPE"
                },
                "start": "CTL4",
                "thickness_factor": 1
              },
              {
                "color": "#15AFAC",
                "directed": true,
                "end": "TYP1",
                "id": 15,
                "label": "IS_OF_TYPE",
                "properties": {
                  "label": "IS_OF_TYPE"
                },
                "start": "CTL5",
                "thickness_factor": 1
              },
              {
                "color": "#15AFAC",
                "directed": true,
                "end": "TYP1",
                "id": 18,
                "label": "IS_OF_TYPE",
                "properties": {
                  "label": "IS_OF_TYPE"
                },
                "start": "CTL6",
                "thickness_factor": 1
              },
              {
                "color": "#15AFAC",
                "directed": true,
                "end": "TYP4",
                "id": 21,
                "label": "IS_OF_TYPE",
                "properties": {
                  "label": "IS_OF_TYPE"
                },
                "start": "CTL7",
                "thickness_factor": 1
              },
              {
                "color": "#15AFAC",
                "directed": true,
                "end": "TYP1",
                "id": 24,
                "label": "IS_OF_TYPE",
                "properties": {
                  "label": "IS_OF_TYPE"
                },
                "start": "CTL8",
                "thickness_factor": 1
              },
              {
                "color": "#15AFAC",
                "directed": true,
                "end": "TYP4",
                "id": 27,
                "label": "IS_OF_TYPE",
                "properties": {
                  "label": "IS_OF_TYPE"
                },
                "start": "CTL9",
                "thickness_factor": 1
              },
              {
                "color": "#15AFAC",
                "directed": true,
                "end": "TYP2",
                "id": 30,
                "label": "IS_OF_TYPE",
                "properties": {
                  "label": "IS_OF_TYPE"
                },
                "start": "CTL10",
                "thickness_factor": 1
              },
              {
                "color": "#15AFAC",
                "directed": true,
                "end": "TYP3",
                "id": 31,
                "label": "IS_OF_TYPE",
                "properties": {
                  "label": "IS_OF_TYPE"
                },
                "start": "CTL10",
                "thickness_factor": 1
              },
              {
                "color": "#15AFAC",
                "directed": true,
                "end": "TYP2",
                "id": 34,
                "label": "IS_OF_TYPE",
                "properties": {
                  "label": "IS_OF_TYPE"
                },
                "start": "CTL11",
                "thickness_factor": 1
              },
              {
                "color": "#15AFAC",
                "directed": true,
                "end": "TYP2",
                "id": 37,
                "label": "IS_OF_TYPE",
                "properties": {
                  "label": "IS_OF_TYPE"
                },
                "start": "CTL12",
                "thickness_factor": 1
              },
              {
                "color": "#15AFAC",
                "directed": true,
                "end": "TYP4",
                "id": 40,
                "label": "IS_OF_TYPE",
                "properties": {
                  "label": "IS_OF_TYPE"
                },
                "start": "CTL13",
                "thickness_factor": 1
              },
              {
                "color": "#15AFAC",
                "directed": true,
                "end": "TYP4",
                "id": 43,
                "label": "IS_OF_TYPE",
                "properties": {
                  "label": "IS_OF_TYPE"
                },
                "start": "CTL14",
                "thickness_factor": 1
              },
              {
                "color": "#15AFAC",
                "directed": true,
                "end": "TYP3",
                "id": 46,
                "label": "IS_OF_TYPE",
                "properties": {
                  "label": "IS_OF_TYPE"
                },
                "start": "CTL15",
                "thickness_factor": 1
              },
              {
                "color": "#15AFAC",
                "directed": true,
                "end": "TYP1",
                "id": 49,
                "label": "IS_OF_TYPE",
                "properties": {
                  "label": "IS_OF_TYPE"
                },
                "start": "CTL16",
                "thickness_factor": 1
              },
              {
                "color": "#15AFAC",
                "directed": true,
                "end": "TYP1",
                "id": 57,
                "label": "IS_OF_TYPE",
                "properties": {
                  "label": "IS_OF_TYPE"
                },
                "start": "CTL17",
                "thickness_factor": 1
              },
              {
                "color": "#15AFAC",
                "directed": true,
                "end": "TYP1",
                "id": 65,
                "label": "IS_OF_TYPE",
                "properties": {
                  "label": "IS_OF_TYPE"
                },
                "start": "CTL18",
                "thickness_factor": 1
              },
              {
                "color": "#15AFAC",
                "directed": true,
                "end": "TYP1",
                "id": 73,
                "label": "IS_OF_TYPE",
                "properties": {
                  "label": "IS_OF_TYPE"
                },
                "start": "CTL19",
                "thickness_factor": 1
              },
              {
                "color": "#15AFAC",
                "directed": true,
                "end": "TYP2",
                "id": 76,
                "label": "IS_OF_TYPE",
                "properties": {
                  "label": "IS_OF_TYPE"
                },
                "start": "CTL20",
                "thickness_factor": 1
              },
              {
                "color": "#15AFAC",
                "directed": true,
                "end": "TYP2",
                "id": 79,
                "label": "IS_OF_TYPE",
                "properties": {
                  "label": "IS_OF_TYPE"
                },
                "start": "CTL21",
                "thickness_factor": 1
              },
              {
                "color": "#15AFAC",
                "directed": true,
                "end": "TYP3",
                "id": 82,
                "label": "IS_OF_TYPE",
                "properties": {
                  "label": "IS_OF_TYPE"
                },
                "start": "CTL22",
                "thickness_factor": 1
              },
              {
                "color": "#15AFAC",
                "directed": true,
                "end": "TYP3",
                "id": 85,
                "label": "IS_OF_TYPE",
                "properties": {
                  "label": "IS_OF_TYPE"
                },
                "start": "CTL23",
                "thickness_factor": 1
              },
              {
                "color": "#15AFAC",
                "directed": true,
                "end": "TYP3",
                "id": 88,
                "label": "IS_OF_TYPE",
                "properties": {
                  "label": "IS_OF_TYPE"
                },
                "start": "CTL24",
                "thickness_factor": 1
              },
              {
                "color": "#15AFAC",
                "directed": true,
                "end": "TYP3",
                "id": 91,
                "label": "IS_OF_TYPE",
                "properties": {
                  "label": "IS_OF_TYPE"
                },
                "start": "CTL25",
                "thickness_factor": 1
              },
              {
                "color": "#15AFAC",
                "directed": true,
                "end": "TYP4",
                "id": 94,
                "label": "IS_OF_TYPE",
                "properties": {
                  "label": "IS_OF_TYPE"
                },
                "start": "CTL26",
                "thickness_factor": 1
              },
              {
                "color": "#15AFAC",
                "directed": true,
                "end": "TYP4",
                "id": 97,
                "label": "IS_OF_TYPE",
                "properties": {
                  "label": "IS_OF_TYPE"
                },
                "start": "CTL27",
                "thickness_factor": 1
              },
              {
                "color": "#15AFAC",
                "directed": true,
                "end": "TYP3",
                "id": 100,
                "label": "IS_OF_TYPE",
                "properties": {
                  "label": "IS_OF_TYPE"
                },
                "start": "CTL28",
                "thickness_factor": 1
              },
              {
                "color": "#15AFAC",
                "directed": true,
                "end": "TYP1",
                "id": 103,
                "label": "IS_OF_TYPE",
                "properties": {
                  "label": "IS_OF_TYPE"
                },
                "start": "CTL29",
                "thickness_factor": 1
              },
              {
                "color": "#15AFAC",
                "directed": true,
                "end": "TYP1",
                "id": 106,
                "label": "IS_OF_TYPE",
                "properties": {
                  "label": "IS_OF_TYPE"
                },
                "start": "CTL30",
                "thickness_factor": 1
              },
              {
                "color": "#15AFAC",
                "directed": true,
                "end": "TYP1",
                "id": 115,
                "label": "IS_OF_TYPE",
                "properties": {
                  "label": "IS_OF_TYPE"
                },
                "start": "CTL31",
                "thickness_factor": 1
              },
              {
                "color": "#15AFAC",
                "directed": true,
                "end": "TYP1",
                "id": 124,
                "label": "IS_OF_TYPE",
                "properties": {
                  "label": "IS_OF_TYPE"
                },
                "start": "CTL32",
                "thickness_factor": 1
              },
              {
                "color": "#15AFAC",
                "directed": true,
                "end": "TYP1",
                "id": 133,
                "label": "IS_OF_TYPE",
                "properties": {
                  "label": "IS_OF_TYPE"
                },
                "start": "CTL33",
                "thickness_factor": 1
              },
              {
                "color": "#15AFAC",
                "directed": true,
                "end": "TYP4",
                "id": 142,
                "label": "IS_OF_TYPE",
                "properties": {
                  "label": "IS_OF_TYPE"
                },
                "start": "CTL34",
                "thickness_factor": 1
              },
              {
                "color": "#15AFAC",
                "directed": true,
                "end": "TYP3",
                "id": 151,
                "label": "IS_OF_TYPE",
                "properties": {
                  "label": "IS_OF_TYPE"
                },
                "start": "CTL35",
                "thickness_factor": 1
              },
              {
                "color": "#15AFAC",
                "directed": true,
                "end": "TYP1",
                "id": 161,
                "label": "IS_OF_TYPE",
                "properties": {
                  "label": "IS_OF_TYPE"
                },
                "start": "CTL36",
                "thickness_factor": 1
              },
              {
                "color": "#15AFAC",
                "directed": true,
                "end": "TYP3",
                "id": 164,
                "label": "IS_OF_TYPE",
                "properties": {
                  "label": "IS_OF_TYPE"
                },
                "start": "CTL37",
                "thickness_factor": 1
              },
              {
                "color": "#15AFAC",
                "directed": true,
                "end": "TYP3",
                "id": 167,
                "label": "IS_OF_TYPE",
                "properties": {
                  "label": "IS_OF_TYPE"
                },
                "start": "CTL38",
                "thickness_factor": 1
              },
              {
                "color": "#15AFAC",
                "directed": true,
                "end": "TYP3",
                "id": 170,
                "label": "IS_OF_TYPE",
                "properties": {
                  "label": "IS_OF_TYPE"
                },
                "start": "CTL39",
                "thickness_factor": 1
              },
              {
                "color": "#15AFAC",
                "directed": true,
                "end": "TYP3",
                "id": 173,
                "label": "IS_OF_TYPE",
                "properties": {
                  "label": "IS_OF_TYPE"
                },
                "start": "CTL40",
                "thickness_factor": 1
              },
              {
                "color": "#15AFAC",
                "directed": true,
                "end": "TYP3",
                "id": 176,
                "label": "IS_OF_TYPE",
                "properties": {
                  "label": "IS_OF_TYPE"
                },
                "start": "CTL41",
                "thickness_factor": 1
              },
              {
                "color": "#15AFAC",
                "directed": true,
                "end": "TYP1",
                "id": 179,
                "label": "IS_OF_TYPE",
                "properties": {
                  "label": "IS_OF_TYPE"
                },
                "start": "CTL42",
                "thickness_factor": 1
              },
              {
                "color": "#15AFAC",
                "directed": true,
                "end": "TYP1",
                "id": 182,
                "label": "IS_OF_TYPE",
                "properties": {
                  "label": "IS_OF_TYPE"
                },
                "start": "CTL43",
                "thickness_factor": 1
              },
              {
                "color": "#15AFAC",
                "directed": true,
                "end": "TYP1",
                "id": 185,
                "label": "IS_OF_TYPE",
                "properties": {
                  "label": "IS_OF_TYPE"
                },
                "start": "CTL44",
                "thickness_factor": 1
              },
              {
                "color": "#15AFAC",
                "directed": true,
                "end": "TYP1",
                "id": 188,
                "label": "IS_OF_TYPE",
                "properties": {
                  "label": "IS_OF_TYPE"
                },
                "start": "CTL45",
                "thickness_factor": 1
              },
              {
                "color": "#15AFAC",
                "directed": true,
                "end": "TYP1",
                "id": 191,
                "label": "IS_OF_TYPE",
                "properties": {
                  "label": "IS_OF_TYPE"
                },
                "start": "CTL46",
                "thickness_factor": 1
              },
              {
                "color": "#15AFAC",
                "directed": true,
                "end": "TYP1",
                "id": 194,
                "label": "IS_OF_TYPE",
                "properties": {
                  "label": "IS_OF_TYPE"
                },
                "start": "CTL47",
                "thickness_factor": 1
              },
              {
                "color": "#15AFAC",
                "directed": true,
                "end": "TYP4",
                "id": 197,
                "label": "IS_OF_TYPE",
                "properties": {
                  "label": "IS_OF_TYPE"
                },
                "start": "CTL48",
                "thickness_factor": 1
              },
              {
                "color": "#15AFAC",
                "directed": true,
                "end": "TYP1",
                "id": 200,
                "label": "IS_OF_TYPE",
                "properties": {
                  "label": "IS_OF_TYPE"
                },
                "start": "CTL49",
                "thickness_factor": 1
              },
              {
                "color": "#15AFAC",
                "directed": true,
                "end": "TYP4",
                "id": 203,
                "label": "IS_OF_TYPE",
                "properties": {
                  "label": "IS_OF_TYPE"
                },
                "start": "CTL50",
                "thickness_factor": 1
              },
              {
                "color": "#15AFAC",
                "directed": true,
                "end": "TYP4",
                "id": 206,
                "label": "IS_OF_TYPE",
                "properties": {
                  "label": "IS_OF_TYPE"
                },
                "start": "CTL51",
                "thickness_factor": 1
              },
              {
                "color": "#15AFAC",
                "directed": true,
                "end": "TYP4",
                "id": 209,
                "label": "IS_OF_TYPE",
                "properties": {
                  "label": "IS_OF_TYPE"
                },
                "start": "CTL52",
                "thickness_factor": 1
              }
            ],
            "_graph_layout": {},
            "_highlight": [],
            "_license": {},
            "_model_module": "yfiles-jupyter-graphs",
            "_model_module_version": "^1.6.2",
            "_model_name": "GraphModel",
            "_neighborhood": {},
            "_nodes": [
              {
                "color": "#DAA520",
                "id": "TYP1",
                "label": "Standard InfoSec Control",
                "position": [
                  0,
                  0
                ],
                "properties": {
                  "label": "Standard InfoSec Control"
                },
                "scale_factor": 1,
                "size": [
                  55,
                  55
                ],
                "styles": {},
                "type": "#DAA520"
              },
              {
                "color": "#DAA520",
                "id": "TYP2",
                "label": "Runtime Data Science Control",
                "position": [
                  0,
                  0
                ],
                "properties": {
                  "label": "Runtime Data Science Control"
                },
                "scale_factor": 1,
                "size": [
                  55,
                  55
                ],
                "styles": {},
                "type": "#DAA520"
              },
              {
                "color": "#DAA520",
                "id": "TYP3",
                "label": "Development-time Data Science Control",
                "position": [
                  0,
                  0
                ],
                "properties": {
                  "label": "Development-time Data Science Control"
                },
                "scale_factor": 1,
                "size": [
                  55,
                  55
                ],
                "styles": {},
                "type": "#DAA520"
              },
              {
                "color": "#DAA520",
                "id": "TYP4",
                "label": "Other Control",
                "position": [
                  0,
                  0
                ],
                "properties": {
                  "label": "Other Control"
                },
                "scale_factor": 1,
                "size": [
                  55,
                  55
                ],
                "styles": {},
                "type": "#DAA520"
              },
              {
                "color": "#FF7F50",
                "id": "CTL1",
                "label": "AIPROGRAM",
                "position": [
                  0,
                  0
                ],
                "properties": {
                  "URL": "https://owaspai.org/docs/1_general_controls/#aiprogram",
                  "label": "AIPROGRAM"
                },
                "scale_factor": 1,
                "size": [
                  55,
                  55
                ],
                "styles": {},
                "type": "#FF7F50"
              },
              {
                "color": "#FF7F50",
                "id": "CTL2",
                "label": "SECPROGRAM",
                "position": [
                  0,
                  0
                ],
                "properties": {
                  "URL": "https://owaspai.org/docs/1_general_controls/#secprogram",
                  "label": "SECPROGRAM"
                },
                "scale_factor": 1,
                "size": [
                  55,
                  55
                ],
                "styles": {},
                "type": "#FF7F50"
              },
              {
                "color": "#FF7F50",
                "id": "CTL3",
                "label": "SECDEVPROGRAM",
                "position": [
                  0,
                  0
                ],
                "properties": {
                  "URL": "https://owaspai.org/docs/1_general_controls/#secdevprogram",
                  "label": "SECDEVPROGRAM"
                },
                "scale_factor": 1,
                "size": [
                  55,
                  55
                ],
                "styles": {},
                "type": "#FF7F50"
              },
              {
                "color": "#FF7F50",
                "id": "CTL4",
                "label": "DEVPROGRAM",
                "position": [
                  0,
                  0
                ],
                "properties": {
                  "URL": "https://owaspai.org/docs/1_general_controls/#devprogram",
                  "label": "DEVPROGRAM"
                },
                "scale_factor": 1,
                "size": [
                  55,
                  55
                ],
                "styles": {},
                "type": "#FF7F50"
              },
              {
                "color": "#FF7F50",
                "id": "CTL5",
                "label": "CHECKCOMPLIANCE",
                "position": [
                  0,
                  0
                ],
                "properties": {
                  "URL": "https://owaspai.org/docs/1_general_controls/#checkcompliance",
                  "label": "CHECKCOMPLIANCE"
                },
                "scale_factor": 1,
                "size": [
                  55,
                  55
                ],
                "styles": {},
                "type": "#FF7F50"
              },
              {
                "color": "#FF7F50",
                "id": "CTL6",
                "label": "SECEDUCATE",
                "position": [
                  0,
                  0
                ],
                "properties": {
                  "URL": "https://owaspai.org/docs/1_general_controls/#seceducate",
                  "label": "SECEDUCATE"
                },
                "scale_factor": 1,
                "size": [
                  55,
                  55
                ],
                "styles": {},
                "type": "#FF7F50"
              },
              {
                "color": "#FF7F50",
                "id": "CTL7",
                "label": "OVERSIGHT",
                "position": [
                  0,
                  0
                ],
                "properties": {
                  "URL": "https://owaspai.org/docs/1_general_controls/#oversight",
                  "label": "OVERSIGHT"
                },
                "scale_factor": 1,
                "size": [
                  55,
                  55
                ],
                "styles": {},
                "type": "#FF7F50"
              },
              {
                "color": "#FF7F50",
                "id": "CTL8",
                "label": "LEASTMODELPRIVILEGE",
                "position": [
                  0,
                  0
                ],
                "properties": {
                  "URL": "https://owaspai.org/docs/1_general_controls/#leastmodelprivilege",
                  "label": "LEASTMODELPRIVILEGE"
                },
                "scale_factor": 1,
                "size": [
                  55,
                  55
                ],
                "styles": {},
                "type": "#FF7F50"
              },
              {
                "color": "#FF7F50",
                "id": "CTL9",
                "label": "AITRANSPARENCY",
                "position": [
                  0,
                  0
                ],
                "properties": {
                  "URL": "https://owaspai.org/docs/1_general_controls/#aitransparency",
                  "label": "AITRANSPARENCY"
                },
                "scale_factor": 1,
                "size": [
                  55,
                  55
                ],
                "styles": {},
                "type": "#FF7F50"
              },
              {
                "color": "#FF7F50",
                "id": "CTL10",
                "label": "CONTINUOUSVALIDATION",
                "position": [
                  0,
                  0
                ],
                "properties": {
                  "URL": "https://owaspai.org/docs/1_general_controls/#continuousvalidation",
                  "label": "CONTINUOUSVALIDATION"
                },
                "scale_factor": 1,
                "size": [
                  55,
                  55
                ],
                "styles": {},
                "type": "#FF7F50"
              },
              {
                "color": "#FF7F50",
                "id": "CTL11",
                "label": "EXPLAINABILITY",
                "position": [
                  0,
                  0
                ],
                "properties": {
                  "URL": "https://owaspai.org/docs/1_general_controls/#explainability",
                  "label": "EXPLAINABILITY"
                },
                "scale_factor": 1,
                "size": [
                  55,
                  55
                ],
                "styles": {},
                "type": "#FF7F50"
              },
              {
                "color": "#FF7F50",
                "id": "CTL12",
                "label": "UNWANTEDBIASTESTING",
                "position": [
                  0,
                  0
                ],
                "properties": {
                  "URL": "https://owaspai.org/docs/1_general_controls/#unwantedbiastesting",
                  "label": "UNWANTEDBIASTESTING"
                },
                "scale_factor": 1,
                "size": [
                  55,
                  55
                ],
                "styles": {},
                "type": "#FF7F50"
              },
              {
                "color": "#FF7F50",
                "id": "CTL13",
                "label": "DATAMINIMIZE",
                "position": [
                  0,
                  0
                ],
                "properties": {
                  "URL": "https://owaspai.org/docs/1_general_controls/#dataminimize",
                  "label": "DATAMINIMIZE"
                },
                "scale_factor": 1,
                "size": [
                  55,
                  55
                ],
                "styles": {},
                "type": "#FF7F50"
              },
              {
                "color": "#FF7F50",
                "id": "CTL14",
                "label": "ALLOWEDDATA",
                "position": [
                  0,
                  0
                ],
                "properties": {
                  "URL": "https://owaspai.org/docs/1_general_controls/#alloweddata",
                  "label": "ALLOWEDDATA"
                },
                "scale_factor": 1,
                "size": [
                  55,
                  55
                ],
                "styles": {},
                "type": "#FF7F50"
              },
              {
                "color": "#FF7F50",
                "id": "CTL15",
                "label": "SHORTRETAIN",
                "position": [
                  0,
                  0
                ],
                "properties": {
                  "URL": "https://owaspai.org/docs/1_general_controls/#shortretain",
                  "label": "SHORTRETAIN"
                },
                "scale_factor": 1,
                "size": [
                  55,
                  55
                ],
                "styles": {},
                "type": "#FF7F50"
              },
              {
                "color": "#FF7F50",
                "id": "CTL15",
                "label": "OBFUSCATETRAININGDATA",
                "position": [
                  0,
                  0
                ],
                "properties": {
                  "URL": "https://owaspai.org/docs/1_general_controls/#obfuscatetrainingdata",
                  "label": "OBFUSCATETRAININGDATA"
                },
                "scale_factor": 1,
                "size": [
                  55,
                  55
                ],
                "styles": {},
                "type": "#FF7F50"
              },
              {
                "color": "#FF7F50",
                "id": "CTL16",
                "label": "DISCRETE",
                "position": [
                  0,
                  0
                ],
                "properties": {
                  "URL": "https://owaspai.org/docs/1_general_controls/#discrete",
                  "label": "DISCRETE"
                },
                "scale_factor": 1,
                "size": [
                  55,
                  55
                ],
                "styles": {},
                "type": "#FF7F50"
              },
              {
                "color": "#FF7F50",
                "id": "CTL17",
                "label": "MONITORUSE",
                "position": [
                  0,
                  0
                ],
                "properties": {
                  "URL": "https://owaspai.org/docs/2_threats_through_use/#monitoruse",
                  "label": "MONITORUSE"
                },
                "scale_factor": 1,
                "size": [
                  55,
                  55
                ],
                "styles": {},
                "type": "#FF7F50"
              },
              {
                "color": "#FF7F50",
                "id": "CTL18",
                "label": "RATELIMIT",
                "position": [
                  0,
                  0
                ],
                "properties": {
                  "URL": "https://owaspai.org/docs/2_threats_through_use/#ratelimit",
                  "label": "RATELIMIT"
                },
                "scale_factor": 1,
                "size": [
                  55,
                  55
                ],
                "styles": {},
                "type": "#FF7F50"
              },
              {
                "color": "#FF7F50",
                "id": "CTL19",
                "label": "MODELACCESSCONTROL",
                "position": [
                  0,
                  0
                ],
                "properties": {
                  "URL": "https://owaspai.org/docs/2_threats_through_use/#modelaccesscontrol",
                  "label": "MODELACCESSCONTROL"
                },
                "scale_factor": 1,
                "size": [
                  55,
                  55
                ],
                "styles": {},
                "type": "#FF7F50"
              },
              {
                "color": "#FF7F50",
                "id": "CTL20",
                "label": "DETECTODDINPUT",
                "position": [
                  0,
                  0
                ],
                "properties": {
                  "URL": "https://owaspai.org/docs/2_threats_through_use/#detectoddinput",
                  "label": "DETECTODDINPUT"
                },
                "scale_factor": 1,
                "size": [
                  55,
                  55
                ],
                "styles": {},
                "type": "#FF7F50"
              },
              {
                "color": "#FF7F50",
                "id": "CTL21",
                "label": "DETECTADVERSARIALINPUT",
                "position": [
                  0,
                  0
                ],
                "properties": {
                  "URL": "https://owaspai.org/docs/2_threats_through_use/#detectadversarialinput",
                  "label": "DETECTADVERSARIALINPUT"
                },
                "scale_factor": 1,
                "size": [
                  55,
                  55
                ],
                "styles": {},
                "type": "#FF7F50"
              },
              {
                "color": "#FF7F50",
                "id": "CTL22",
                "label": "EVASIONROBUSTMODEL",
                "position": [
                  0,
                  0
                ],
                "properties": {
                  "URL": "https://owaspai.org/docs/2_threats_through_use/#evasionrobustmodel",
                  "label": "EVASIONROBUSTMODEL"
                },
                "scale_factor": 1,
                "size": [
                  55,
                  55
                ],
                "styles": {},
                "type": "#FF7F50"
              },
              {
                "color": "#FF7F50",
                "id": "CTL23",
                "label": "TRAINADVERSARIAL",
                "position": [
                  0,
                  0
                ],
                "properties": {
                  "URL": "https://owaspai.org/docs/2_threats_through_use/#trainadversarial",
                  "label": "TRAINADVERSARIAL"
                },
                "scale_factor": 1,
                "size": [
                  55,
                  55
                ],
                "styles": {},
                "type": "#FF7F50"
              },
              {
                "color": "#FF7F50",
                "id": "CTL24",
                "label": "INPUTDISTORTION",
                "position": [
                  0,
                  0
                ],
                "properties": {
                  "URL": "https://owaspai.org/docs/2_threats_through_use/#inputdistortion",
                  "label": "INPUTDISTORTION"
                },
                "scale_factor": 1,
                "size": [
                  55,
                  55
                ],
                "styles": {},
                "type": "#FF7F50"
              },
              {
                "color": "#FF7F50",
                "id": "CTL25",
                "label": "ADVERSARIALROBUSTDISTILLATION",
                "position": [
                  0,
                  0
                ],
                "properties": {
                  "URL": "https://owaspai.org/docs/2_threats_through_use/#adversarialrobustdistillation",
                  "label": "ADVERSARIALROBUSTDISTILLATION"
                },
                "scale_factor": 1,
                "size": [
                  55,
                  55
                ],
                "styles": {},
                "type": "#FF7F50"
              },
              {
                "color": "#FF7F50",
                "id": "CTL26",
                "label": "FILTERSENSITIVEMODELOUTPUT",
                "position": [
                  0,
                  0
                ],
                "properties": {
                  "URL": "https://owaspai.org/docs/2_threats_through_use/#filtersensitivemodeloutput",
                  "label": "FILTERSENSITIVEMODELOUTPUT"
                },
                "scale_factor": 1,
                "size": [
                  55,
                  55
                ],
                "styles": {},
                "type": "#FF7F50"
              },
              {
                "color": "#FF7F50",
                "id": "CTL27",
                "label": "OBSCURECONFIDENCE",
                "position": [
                  0,
                  0
                ],
                "properties": {
                  "URL": "https://owaspai.org/docs/2_threats_through_use/#obscureconfidence",
                  "label": "OBSCURECONFIDENCE"
                },
                "scale_factor": 1,
                "size": [
                  55,
                  55
                ],
                "styles": {},
                "type": "#FF7F50"
              },
              {
                "color": "#FF7F50",
                "id": "CTL28",
                "label": "SMALLMODEL",
                "position": [
                  0,
                  0
                ],
                "properties": {
                  "URL": "https://owaspai.org/docs/2_threats_through_use/#smallmodel",
                  "label": "SMALLMODEL"
                },
                "scale_factor": 1,
                "size": [
                  55,
                  55
                ],
                "styles": {},
                "type": "#FF7F50"
              },
              {
                "color": "#FF7F50",
                "id": "CTL29",
                "label": "DOSINPUTVALIDATION",
                "position": [
                  0,
                  0
                ],
                "properties": {
                  "URL": "https://owaspai.org/docs/2_threats_through_use/#dosinputvalidation",
                  "label": "DOSINPUTVALIDATION"
                },
                "scale_factor": 1,
                "size": [
                  55,
                  55
                ],
                "styles": {},
                "type": "#FF7F50"
              },
              {
                "color": "#FF7F50",
                "id": "CTL30",
                "label": "LIMITRESOURCES",
                "position": [
                  0,
                  0
                ],
                "properties": {
                  "URL": "https://owaspai.org/docs/2_threats_through_use/#limitresources",
                  "label": "LIMITRESOURCES"
                },
                "scale_factor": 1,
                "size": [
                  55,
                  55
                ],
                "styles": {},
                "type": "#FF7F50"
              },
              {
                "color": "#FF7F50",
                "id": "CTL31",
                "label": "DEVDATAPROTECT",
                "position": [
                  0,
                  0
                ],
                "properties": {
                  "URL": "https://owaspai.org/docs/3_development_time_threats/#devdataprotect",
                  "label": "DEVDATAPROTECT"
                },
                "scale_factor": 1,
                "size": [
                  55,
                  55
                ],
                "styles": {},
                "type": "#FF7F50"
              },
              {
                "color": "#FF7F50",
                "id": "CTL32",
                "label": "DEVSECURITY",
                "position": [
                  0,
                  0
                ],
                "properties": {
                  "URL": "https://owaspai.org/docs/3_development_time_threats/#devsecurity",
                  "label": "DEVSECURITY"
                },
                "scale_factor": 1,
                "size": [
                  55,
                  55
                ],
                "styles": {},
                "type": "#FF7F50"
              },
              {
                "color": "#FF7F50",
                "id": "CTL33",
                "label": "SEGREGATEDATA",
                "position": [
                  0,
                  0
                ],
                "properties": {
                  "URL": "https://owaspai.org/docs/3_development_time_threats/#segregatedata",
                  "label": "SEGREGATEDATA"
                },
                "scale_factor": 1,
                "size": [
                  55,
                  55
                ],
                "styles": {},
                "type": "#FF7F50"
              },
              {
                "color": "#FF7F50",
                "id": "CTL34",
                "label": "CONFCOMPUTE",
                "position": [
                  0,
                  0
                ],
                "properties": {
                  "URL": "https://owaspai.org/docs/3_development_time_threats/#confcompute",
                  "label": "CONFCOMPUTE"
                },
                "scale_factor": 1,
                "size": [
                  55,
                  55
                ],
                "styles": {},
                "type": "#FF7F50"
              },
              {
                "color": "#FF7F50",
                "id": "CTL35",
                "label": "FEDERATEDLEARNING",
                "position": [
                  0,
                  0
                ],
                "properties": {
                  "URL": "https://owaspai.org/docs/3_development_time_threats/#federatedlearning",
                  "label": "FEDERATEDLEARNING"
                },
                "scale_factor": 1,
                "size": [
                  55,
                  55
                ],
                "styles": {},
                "type": "#FF7F50"
              },
              {
                "color": "#FF7F50",
                "id": "CTL36",
                "label": "SUPPLYCHAINIMAGE",
                "position": [
                  0,
                  0
                ],
                "properties": {
                  "URL": "https://owaspai.org/docs/3_development_time_threats/#supplychainmanage",
                  "label": "SUPPLYCHAINIMAGE"
                },
                "scale_factor": 1,
                "size": [
                  55,
                  55
                ],
                "styles": {},
                "type": "#FF7F50"
              },
              {
                "color": "#FF7F50",
                "id": "CTL37",
                "label": "MODELENSEMBLE",
                "position": [
                  0,
                  0
                ],
                "properties": {
                  "URL": "https://owaspai.org/docs/3_development_time_threats/#modelensemble",
                  "label": "MODELENSEMBLE"
                },
                "scale_factor": 1,
                "size": [
                  55,
                  55
                ],
                "styles": {},
                "type": "#FF7F50"
              },
              {
                "color": "#FF7F50",
                "id": "CTL38",
                "label": "MORETRAINDATA",
                "position": [
                  0,
                  0
                ],
                "properties": {
                  "URL": "https://owaspai.org/docs/3_development_time_threats/#moretraindata",
                  "label": "MORETRAINDATA"
                },
                "scale_factor": 1,
                "size": [
                  55,
                  55
                ],
                "styles": {},
                "type": "#FF7F50"
              },
              {
                "color": "#FF7F50",
                "id": "CTL39",
                "label": "DATAQUALITYCONTROL",
                "position": [
                  0,
                  0
                ],
                "properties": {
                  "URL": "https://owaspai.org/docs/3_development_time_threats/#dataqualitycontrol",
                  "label": "DATAQUALITYCONTROL"
                },
                "scale_factor": 1,
                "size": [
                  55,
                  55
                ],
                "styles": {},
                "type": "#FF7F50"
              },
              {
                "color": "#FF7F50",
                "id": "CTL40",
                "label": "TRAINDATADISTORTION",
                "position": [
                  0,
                  0
                ],
                "properties": {
                  "URL": "https://owaspai.org/docs/3_development_time_threats/#traindatadistortion",
                  "label": "TRAINDATADISTORTION"
                },
                "scale_factor": 1,
                "size": [
                  55,
                  55
                ],
                "styles": {},
                "type": "#FF7F50"
              },
              {
                "color": "#FF7F50",
                "id": "CTL41",
                "label": "POISONROBUSTMODEL",
                "position": [
                  0,
                  0
                ],
                "properties": {
                  "URL": "https://owaspai.org/docs/3_development_time_threats/#poisonrobustmodel",
                  "label": "POISONROBUSTMODEL"
                },
                "scale_factor": 1,
                "size": [
                  55,
                  55
                ],
                "styles": {},
                "type": "#FF7F50"
              },
              {
                "color": "#FF7F50",
                "id": "CTL42",
                "label": "Technical AppSec Controls",
                "position": [
                  0,
                  0
                ],
                "properties": {
                  "URL": "https://www.opencre.org/cre/636-660",
                  "label": "Technical AppSec Controls"
                },
                "scale_factor": 1,
                "size": [
                  55,
                  55
                ],
                "styles": {},
                "type": "#FF7F50"
              },
              {
                "color": "#FF7F50",
                "id": "CTL43",
                "label": "Operational Security",
                "position": [
                  0,
                  0
                ],
                "properties": {
                  "URL": "https://www.opencre.org/cre/862-452",
                  "label": "Operational Security"
                },
                "scale_factor": 1,
                "size": [
                  55,
                  55
                ],
                "styles": {},
                "type": "#FF7F50"
              },
              {
                "color": "#FF7F50",
                "id": "CTL44",
                "label": "ENCODEMODELOUTPUT",
                "position": [
                  0,
                  0
                ],
                "properties": {
                  "URL": "https://owaspai.org/docs/4_runtime_application_security_threats/#encodemodeloutput",
                  "label": "ENCODEMODELOUTPUT"
                },
                "scale_factor": 1,
                "size": [
                  55,
                  55
                ],
                "styles": {},
                "type": "#FF7F50"
              },
              {
                "color": "#FF7F50",
                "id": "CTL45",
                "label": "MODELINPUTCONFIDENTIALITY",
                "position": [
                  0,
                  0
                ],
                "properties": {
                  "URL": "https://owaspai.org/docs/4_runtime_application_security_threats/#modelinputconfidentiality",
                  "label": "MODELINPUTCONFIDENTIALITY"
                },
                "scale_factor": 1,
                "size": [
                  55,
                  55
                ],
                "styles": {},
                "type": "#FF7F50"
              },
              {
                "color": "#FF7F50",
                "id": "CTL46",
                "label": "RUNTIMEMODELINTEGRITY",
                "position": [
                  0,
                  0
                ],
                "properties": {
                  "URL": "https://owaspai.org/docs/4_runtime_application_security_threats/#runtimemodelintegrity",
                  "label": "RUNTIMEMODELINTEGRITY"
                },
                "scale_factor": 1,
                "size": [
                  55,
                  55
                ],
                "styles": {},
                "type": "#FF7F50"
              },
              {
                "color": "#FF7F50",
                "id": "CTL47",
                "label": "RUNTIMEMODELIOINTEGRITY",
                "position": [
                  0,
                  0
                ],
                "properties": {
                  "URL": "https://owaspai.org/docs/4_runtime_application_security_threats/#runtimemodeliointegrity",
                  "label": "RUNTIMEMODELIOINTEGRITY"
                },
                "scale_factor": 1,
                "size": [
                  55,
                  55
                ],
                "styles": {},
                "type": "#FF7F50"
              },
              {
                "color": "#FF7F50",
                "id": "CTL48",
                "label": "Embedded In Model",
                "position": [
                  0,
                  0
                ],
                "properties": {
                  "URL": "https://llmtop10.com/llm01/",
                  "label": "Embedded In Model"
                },
                "scale_factor": 1,
                "size": [
                  55,
                  55
                ],
                "styles": {},
                "type": "#FF7F50"
              },
              {
                "color": "#FF7F50",
                "id": "CTL49",
                "label": "RUNTIMEMODELCONFIDENTIALITY",
                "position": [
                  0,
                  0
                ],
                "properties": {
                  "URL": "https://owaspai.org/docs/4_runtime_application_security_threats/#runtimemodelconfidentiality",
                  "label": "RUNTIMEMODELCONFIDENTIALITY"
                },
                "scale_factor": 1,
                "size": [
                  55,
                  55
                ],
                "styles": {},
                "type": "#FF7F50"
              },
              {
                "color": "#FF7F50",
                "id": "CTL50",
                "label": "MODELOBFUSCATION",
                "position": [
                  0,
                  0
                ],
                "properties": {
                  "URL": "https://owaspai.org/docs/4_runtime_application_security_threats/#modelobfuscation",
                  "label": "MODELOBFUSCATION"
                },
                "scale_factor": 1,
                "size": [
                  55,
                  55
                ],
                "styles": {},
                "type": "#FF7F50"
              },
              {
                "color": "#FF7F50",
                "id": "CTL51",
                "label": "PROMPTINPUTVALIDATION",
                "position": [
                  0,
                  0
                ],
                "properties": {
                  "URL": "https://owaspai.org/docs/4_runtime_application_security_threats/#promptinputvalidation",
                  "label": "PROMPTINPUTVALIDATION"
                },
                "scale_factor": 1,
                "size": [
                  55,
                  55
                ],
                "styles": {},
                "type": "#FF7F50"
              },
              {
                "color": "#FF7F50",
                "id": "CTL52",
                "label": "INPUTSEGREGATION",
                "position": [
                  0,
                  0
                ],
                "properties": {
                  "URL": "https://owaspai.org/docs/4_runtime_application_security_threats/#inputsegregation",
                  "label": "INPUTSEGREGATION"
                },
                "scale_factor": 1,
                "size": [
                  55,
                  55
                ],
                "styles": {},
                "type": "#FF7F50"
              }
            ],
            "_overview": {
              "enabled": null,
              "overview_set": false
            },
            "_selected_graph": [
              [],
              []
            ],
            "_sidebar": {
              "enabled": true,
              "start_with": ""
            },
            "_view_count": null,
            "_view_module": "yfiles-jupyter-graphs",
            "_view_module_version": "^1.6.2",
            "_view_name": "GraphView",
            "layout": "IPY_MODEL_221f47fff78549d0b0bf83e7a24731b3"
          }
        },
        "199e51bb71394d2d9fad486ce9a2b5a0": {
          "model_module": "@jupyter-widgets/base",
          "model_module_version": "1.2.0",
          "model_name": "LayoutModel",
          "state": {
            "_model_module": "@jupyter-widgets/base",
            "_model_module_version": "1.2.0",
            "_model_name": "LayoutModel",
            "_view_count": null,
            "_view_module": "@jupyter-widgets/base",
            "_view_module_version": "1.2.0",
            "_view_name": "LayoutView",
            "align_content": null,
            "align_items": null,
            "align_self": null,
            "border": null,
            "bottom": null,
            "display": null,
            "flex": null,
            "flex_flow": null,
            "grid_area": null,
            "grid_auto_columns": null,
            "grid_auto_flow": null,
            "grid_auto_rows": null,
            "grid_column": null,
            "grid_gap": null,
            "grid_row": null,
            "grid_template_areas": null,
            "grid_template_columns": null,
            "grid_template_rows": null,
            "height": "500px",
            "justify_content": null,
            "justify_items": null,
            "left": null,
            "margin": null,
            "max_height": null,
            "max_width": null,
            "min_height": null,
            "min_width": null,
            "object_fit": null,
            "object_position": null,
            "order": null,
            "overflow": null,
            "overflow_x": null,
            "overflow_y": null,
            "padding": null,
            "right": null,
            "top": null,
            "visibility": null,
            "width": "100%"
          }
        },
        "221f47fff78549d0b0bf83e7a24731b3": {
          "model_module": "@jupyter-widgets/base",
          "model_module_version": "1.2.0",
          "model_name": "LayoutModel",
          "state": {
            "_model_module": "@jupyter-widgets/base",
            "_model_module_version": "1.2.0",
            "_model_name": "LayoutModel",
            "_view_count": null,
            "_view_module": "@jupyter-widgets/base",
            "_view_module_version": "1.2.0",
            "_view_name": "LayoutView",
            "align_content": null,
            "align_items": null,
            "align_self": null,
            "border": null,
            "bottom": null,
            "display": null,
            "flex": null,
            "flex_flow": null,
            "grid_area": null,
            "grid_auto_columns": null,
            "grid_auto_flow": null,
            "grid_auto_rows": null,
            "grid_column": null,
            "grid_gap": null,
            "grid_row": null,
            "grid_template_areas": null,
            "grid_template_columns": null,
            "grid_template_rows": null,
            "height": "800px",
            "justify_content": null,
            "justify_items": null,
            "left": null,
            "margin": null,
            "max_height": null,
            "max_width": null,
            "min_height": null,
            "min_width": null,
            "object_fit": null,
            "object_position": null,
            "order": null,
            "overflow": null,
            "overflow_x": null,
            "overflow_y": null,
            "padding": null,
            "right": null,
            "top": null,
            "visibility": null,
            "width": "100%"
          }
        },
        "3c3daa5784ff4a60ad397c4184309f28": {
          "model_module": "@jupyter-widgets/base",
          "model_module_version": "1.2.0",
          "model_name": "LayoutModel",
          "state": {
            "_model_module": "@jupyter-widgets/base",
            "_model_module_version": "1.2.0",
            "_model_name": "LayoutModel",
            "_view_count": null,
            "_view_module": "@jupyter-widgets/base",
            "_view_module_version": "1.2.0",
            "_view_name": "LayoutView",
            "align_content": null,
            "align_items": null,
            "align_self": null,
            "border": null,
            "bottom": null,
            "display": null,
            "flex": null,
            "flex_flow": null,
            "grid_area": null,
            "grid_auto_columns": null,
            "grid_auto_flow": null,
            "grid_auto_rows": null,
            "grid_column": null,
            "grid_gap": null,
            "grid_row": null,
            "grid_template_areas": null,
            "grid_template_columns": null,
            "grid_template_rows": null,
            "height": "780px",
            "justify_content": null,
            "justify_items": null,
            "left": null,
            "margin": null,
            "max_height": null,
            "max_width": null,
            "min_height": null,
            "min_width": null,
            "object_fit": null,
            "object_position": null,
            "order": null,
            "overflow": null,
            "overflow_x": null,
            "overflow_y": null,
            "padding": null,
            "right": null,
            "top": null,
            "visibility": null,
            "width": "100%"
          }
        },
        "7ec27616a66e4242a49e73afcd39bb73": {
          "model_module": "yfiles-jupyter-graphs",
          "model_module_version": "^1.6.2",
          "model_name": "GraphModel",
          "state": {
            "_context_pane_mapping": [
              {
                "id": "Neighborhood",
                "title": "Neighborhood"
              },
              {
                "id": "Data",
                "title": "Data"
              },
              {
                "id": "Search",
                "title": "Search"
              },
              {
                "id": "About",
                "title": "About"
              }
            ],
            "_data_importer": "unknown",
            "_directed": true,
            "_dom_classes": [],
            "_edges": [
              {
                "color": "#15AFAC",
                "directed": true,
                "end": "CAT2",
                "id": 50,
                "label": "IS_IN_CATEGORY",
                "properties": {
                  "label": "IS_IN_CATEGORY"
                },
                "start": "CTL17",
                "thickness_factor": 1
              },
              {
                "color": "#15AFAC",
                "directed": true,
                "end": "GRP4",
                "id": 51,
                "label": "IS_IN_GROUP",
                "properties": {
                  "label": "IS_IN_GROUP"
                },
                "start": "CTL17",
                "thickness_factor": 1
              },
              {
                "color": "#15AFAC",
                "directed": true,
                "end": "GRP5",
                "id": 52,
                "label": "IS_IN_GROUP",
                "properties": {
                  "label": "IS_IN_GROUP"
                },
                "start": "CTL17",
                "thickness_factor": 1
              },
              {
                "color": "#15AFAC",
                "directed": true,
                "end": "GRP7",
                "id": 53,
                "label": "IS_IN_GROUP",
                "properties": {
                  "label": "IS_IN_GROUP"
                },
                "start": "CTL17",
                "thickness_factor": 1
              },
              {
                "color": "#15AFAC",
                "directed": true,
                "end": "GRP8",
                "id": 54,
                "label": "IS_IN_GROUP",
                "properties": {
                  "label": "IS_IN_GROUP"
                },
                "start": "CTL17",
                "thickness_factor": 1
              },
              {
                "color": "#15AFAC",
                "directed": true,
                "end": "GRP9",
                "id": 55,
                "label": "IS_IN_GROUP",
                "properties": {
                  "label": "IS_IN_GROUP"
                },
                "start": "CTL17",
                "thickness_factor": 1
              },
              {
                "color": "#15AFAC",
                "directed": true,
                "end": "GRP10",
                "id": 56,
                "label": "IS_IN_GROUP",
                "properties": {
                  "label": "IS_IN_GROUP"
                },
                "start": "CTL17",
                "thickness_factor": 1
              },
              {
                "color": "#15AFAC",
                "directed": true,
                "end": "TYP1",
                "id": 57,
                "label": "IS_OF_TYPE",
                "properties": {
                  "label": "IS_OF_TYPE"
                },
                "start": "CTL17",
                "thickness_factor": 1
              },
              {
                "color": "#15AFAC",
                "directed": true,
                "end": "CAT2",
                "id": 58,
                "label": "IS_IN_CATEGORY",
                "properties": {
                  "label": "IS_IN_CATEGORY"
                },
                "start": "CTL18",
                "thickness_factor": 1
              },
              {
                "color": "#15AFAC",
                "directed": true,
                "end": "GRP4",
                "id": 59,
                "label": "IS_IN_GROUP",
                "properties": {
                  "label": "IS_IN_GROUP"
                },
                "start": "CTL18",
                "thickness_factor": 1
              },
              {
                "color": "#15AFAC",
                "directed": true,
                "end": "GRP5",
                "id": 60,
                "label": "IS_IN_GROUP",
                "properties": {
                  "label": "IS_IN_GROUP"
                },
                "start": "CTL18",
                "thickness_factor": 1
              },
              {
                "color": "#15AFAC",
                "directed": true,
                "end": "GRP7",
                "id": 61,
                "label": "IS_IN_GROUP",
                "properties": {
                  "label": "IS_IN_GROUP"
                },
                "start": "CTL18",
                "thickness_factor": 1
              },
              {
                "color": "#15AFAC",
                "directed": true,
                "end": "GRP8",
                "id": 62,
                "label": "IS_IN_GROUP",
                "properties": {
                  "label": "IS_IN_GROUP"
                },
                "start": "CTL18",
                "thickness_factor": 1
              },
              {
                "color": "#15AFAC",
                "directed": true,
                "end": "GRP9",
                "id": 63,
                "label": "IS_IN_GROUP",
                "properties": {
                  "label": "IS_IN_GROUP"
                },
                "start": "CTL18",
                "thickness_factor": 1
              },
              {
                "color": "#15AFAC",
                "directed": true,
                "end": "GRP10",
                "id": 64,
                "label": "IS_IN_GROUP",
                "properties": {
                  "label": "IS_IN_GROUP"
                },
                "start": "CTL18",
                "thickness_factor": 1
              },
              {
                "color": "#15AFAC",
                "directed": true,
                "end": "TYP1",
                "id": 65,
                "label": "IS_OF_TYPE",
                "properties": {
                  "label": "IS_OF_TYPE"
                },
                "start": "CTL18",
                "thickness_factor": 1
              },
              {
                "color": "#15AFAC",
                "directed": true,
                "end": "CAT2",
                "id": 66,
                "label": "IS_IN_CATEGORY",
                "properties": {
                  "label": "IS_IN_CATEGORY"
                },
                "start": "CTL19",
                "thickness_factor": 1
              },
              {
                "color": "#15AFAC",
                "directed": true,
                "end": "GRP4",
                "id": 67,
                "label": "IS_IN_GROUP",
                "properties": {
                  "label": "IS_IN_GROUP"
                },
                "start": "CTL19",
                "thickness_factor": 1
              },
              {
                "color": "#15AFAC",
                "directed": true,
                "end": "GRP5",
                "id": 68,
                "label": "IS_IN_GROUP",
                "properties": {
                  "label": "IS_IN_GROUP"
                },
                "start": "CTL19",
                "thickness_factor": 1
              },
              {
                "color": "#15AFAC",
                "directed": true,
                "end": "GRP7",
                "id": 69,
                "label": "IS_IN_GROUP",
                "properties": {
                  "label": "IS_IN_GROUP"
                },
                "start": "CTL19",
                "thickness_factor": 1
              },
              {
                "color": "#15AFAC",
                "directed": true,
                "end": "GRP8",
                "id": 70,
                "label": "IS_IN_GROUP",
                "properties": {
                  "label": "IS_IN_GROUP"
                },
                "start": "CTL19",
                "thickness_factor": 1
              },
              {
                "color": "#15AFAC",
                "directed": true,
                "end": "GRP9",
                "id": 71,
                "label": "IS_IN_GROUP",
                "properties": {
                  "label": "IS_IN_GROUP"
                },
                "start": "CTL19",
                "thickness_factor": 1
              },
              {
                "color": "#15AFAC",
                "directed": true,
                "end": "GRP10",
                "id": 72,
                "label": "IS_IN_GROUP",
                "properties": {
                  "label": "IS_IN_GROUP"
                },
                "start": "CTL19",
                "thickness_factor": 1
              },
              {
                "color": "#15AFAC",
                "directed": true,
                "end": "TYP1",
                "id": 73,
                "label": "IS_OF_TYPE",
                "properties": {
                  "label": "IS_OF_TYPE"
                },
                "start": "CTL19",
                "thickness_factor": 1
              },
              {
                "color": "#15AFAC",
                "directed": true,
                "end": "CAT3",
                "id": 107,
                "label": "IS_IN_CATEGORY",
                "properties": {
                  "label": "IS_IN_CATEGORY"
                },
                "start": "CTL31",
                "thickness_factor": 1
              },
              {
                "color": "#15AFAC",
                "directed": true,
                "end": "GRP11",
                "id": 108,
                "label": "IS_IN_GROUP",
                "properties": {
                  "label": "IS_IN_GROUP"
                },
                "start": "CTL31",
                "thickness_factor": 1
              },
              {
                "color": "#15AFAC",
                "directed": true,
                "end": "GRP12",
                "id": 109,
                "label": "IS_IN_GROUP",
                "properties": {
                  "label": "IS_IN_GROUP"
                },
                "start": "CTL31",
                "thickness_factor": 1
              },
              {
                "color": "#15AFAC",
                "directed": true,
                "end": "GRP13",
                "id": 110,
                "label": "IS_IN_GROUP",
                "properties": {
                  "label": "IS_IN_GROUP"
                },
                "start": "CTL31",
                "thickness_factor": 1
              },
              {
                "color": "#15AFAC",
                "directed": true,
                "end": "GRP14",
                "id": 111,
                "label": "IS_IN_GROUP",
                "properties": {
                  "label": "IS_IN_GROUP"
                },
                "start": "CTL31",
                "thickness_factor": 1
              },
              {
                "color": "#15AFAC",
                "directed": true,
                "end": "GRP17",
                "id": 112,
                "label": "IS_IN_GROUP",
                "properties": {
                  "label": "IS_IN_GROUP"
                },
                "start": "CTL31",
                "thickness_factor": 1
              },
              {
                "color": "#15AFAC",
                "directed": true,
                "end": "GRP18",
                "id": 113,
                "label": "IS_IN_GROUP",
                "properties": {
                  "label": "IS_IN_GROUP"
                },
                "start": "CTL31",
                "thickness_factor": 1
              },
              {
                "color": "#15AFAC",
                "directed": true,
                "end": "GRP19",
                "id": 114,
                "label": "IS_IN_GROUP",
                "properties": {
                  "label": "IS_IN_GROUP"
                },
                "start": "CTL31",
                "thickness_factor": 1
              },
              {
                "color": "#15AFAC",
                "directed": true,
                "end": "TYP1",
                "id": 115,
                "label": "IS_OF_TYPE",
                "properties": {
                  "label": "IS_OF_TYPE"
                },
                "start": "CTL31",
                "thickness_factor": 1
              },
              {
                "color": "#15AFAC",
                "directed": true,
                "end": "CAT3",
                "id": 116,
                "label": "IS_IN_CATEGORY",
                "properties": {
                  "label": "IS_IN_CATEGORY"
                },
                "start": "CTL32",
                "thickness_factor": 1
              },
              {
                "color": "#15AFAC",
                "directed": true,
                "end": "GRP11",
                "id": 117,
                "label": "IS_IN_GROUP",
                "properties": {
                  "label": "IS_IN_GROUP"
                },
                "start": "CTL32",
                "thickness_factor": 1
              },
              {
                "color": "#15AFAC",
                "directed": true,
                "end": "GRP12",
                "id": 118,
                "label": "IS_IN_GROUP",
                "properties": {
                  "label": "IS_IN_GROUP"
                },
                "start": "CTL32",
                "thickness_factor": 1
              },
              {
                "color": "#15AFAC",
                "directed": true,
                "end": "GRP13",
                "id": 119,
                "label": "IS_IN_GROUP",
                "properties": {
                  "label": "IS_IN_GROUP"
                },
                "start": "CTL32",
                "thickness_factor": 1
              },
              {
                "color": "#15AFAC",
                "directed": true,
                "end": "GRP14",
                "id": 120,
                "label": "IS_IN_GROUP",
                "properties": {
                  "label": "IS_IN_GROUP"
                },
                "start": "CTL32",
                "thickness_factor": 1
              },
              {
                "color": "#15AFAC",
                "directed": true,
                "end": "GRP17",
                "id": 121,
                "label": "IS_IN_GROUP",
                "properties": {
                  "label": "IS_IN_GROUP"
                },
                "start": "CTL32",
                "thickness_factor": 1
              },
              {
                "color": "#15AFAC",
                "directed": true,
                "end": "GRP18",
                "id": 122,
                "label": "IS_IN_GROUP",
                "properties": {
                  "label": "IS_IN_GROUP"
                },
                "start": "CTL32",
                "thickness_factor": 1
              },
              {
                "color": "#15AFAC",
                "directed": true,
                "end": "GRP19",
                "id": 123,
                "label": "IS_IN_GROUP",
                "properties": {
                  "label": "IS_IN_GROUP"
                },
                "start": "CTL32",
                "thickness_factor": 1
              },
              {
                "color": "#15AFAC",
                "directed": true,
                "end": "TYP1",
                "id": 124,
                "label": "IS_OF_TYPE",
                "properties": {
                  "label": "IS_OF_TYPE"
                },
                "start": "CTL32",
                "thickness_factor": 1
              },
              {
                "color": "#15AFAC",
                "directed": true,
                "end": "CAT3",
                "id": 125,
                "label": "IS_IN_CATEGORY",
                "properties": {
                  "label": "IS_IN_CATEGORY"
                },
                "start": "CTL33",
                "thickness_factor": 1
              },
              {
                "color": "#15AFAC",
                "directed": true,
                "end": "GRP11",
                "id": 126,
                "label": "IS_IN_GROUP",
                "properties": {
                  "label": "IS_IN_GROUP"
                },
                "start": "CTL33",
                "thickness_factor": 1
              },
              {
                "color": "#15AFAC",
                "directed": true,
                "end": "GRP12",
                "id": 127,
                "label": "IS_IN_GROUP",
                "properties": {
                  "label": "IS_IN_GROUP"
                },
                "start": "CTL33",
                "thickness_factor": 1
              },
              {
                "color": "#15AFAC",
                "directed": true,
                "end": "GRP13",
                "id": 128,
                "label": "IS_IN_GROUP",
                "properties": {
                  "label": "IS_IN_GROUP"
                },
                "start": "CTL33",
                "thickness_factor": 1
              },
              {
                "color": "#15AFAC",
                "directed": true,
                "end": "GRP14",
                "id": 129,
                "label": "IS_IN_GROUP",
                "properties": {
                  "label": "IS_IN_GROUP"
                },
                "start": "CTL33",
                "thickness_factor": 1
              },
              {
                "color": "#15AFAC",
                "directed": true,
                "end": "GRP17",
                "id": 130,
                "label": "IS_IN_GROUP",
                "properties": {
                  "label": "IS_IN_GROUP"
                },
                "start": "CTL33",
                "thickness_factor": 1
              },
              {
                "color": "#15AFAC",
                "directed": true,
                "end": "GRP18",
                "id": 131,
                "label": "IS_IN_GROUP",
                "properties": {
                  "label": "IS_IN_GROUP"
                },
                "start": "CTL33",
                "thickness_factor": 1
              },
              {
                "color": "#15AFAC",
                "directed": true,
                "end": "GRP19",
                "id": 132,
                "label": "IS_IN_GROUP",
                "properties": {
                  "label": "IS_IN_GROUP"
                },
                "start": "CTL33",
                "thickness_factor": 1
              },
              {
                "color": "#15AFAC",
                "directed": true,
                "end": "TYP1",
                "id": 133,
                "label": "IS_OF_TYPE",
                "properties": {
                  "label": "IS_OF_TYPE"
                },
                "start": "CTL33",
                "thickness_factor": 1
              },
              {
                "color": "#15AFAC",
                "directed": true,
                "end": "CAT3",
                "id": 134,
                "label": "IS_IN_CATEGORY",
                "properties": {
                  "label": "IS_IN_CATEGORY"
                },
                "start": "CTL34",
                "thickness_factor": 1
              },
              {
                "color": "#15AFAC",
                "directed": true,
                "end": "GRP11",
                "id": 135,
                "label": "IS_IN_GROUP",
                "properties": {
                  "label": "IS_IN_GROUP"
                },
                "start": "CTL34",
                "thickness_factor": 1
              },
              {
                "color": "#15AFAC",
                "directed": true,
                "end": "GRP12",
                "id": 136,
                "label": "IS_IN_GROUP",
                "properties": {
                  "label": "IS_IN_GROUP"
                },
                "start": "CTL34",
                "thickness_factor": 1
              },
              {
                "color": "#15AFAC",
                "directed": true,
                "end": "GRP13",
                "id": 137,
                "label": "IS_IN_GROUP",
                "properties": {
                  "label": "IS_IN_GROUP"
                },
                "start": "CTL34",
                "thickness_factor": 1
              },
              {
                "color": "#15AFAC",
                "directed": true,
                "end": "GRP14",
                "id": 138,
                "label": "IS_IN_GROUP",
                "properties": {
                  "label": "IS_IN_GROUP"
                },
                "start": "CTL34",
                "thickness_factor": 1
              },
              {
                "color": "#15AFAC",
                "directed": true,
                "end": "GRP17",
                "id": 139,
                "label": "IS_IN_GROUP",
                "properties": {
                  "label": "IS_IN_GROUP"
                },
                "start": "CTL34",
                "thickness_factor": 1
              },
              {
                "color": "#15AFAC",
                "directed": true,
                "end": "GRP18",
                "id": 140,
                "label": "IS_IN_GROUP",
                "properties": {
                  "label": "IS_IN_GROUP"
                },
                "start": "CTL34",
                "thickness_factor": 1
              },
              {
                "color": "#15AFAC",
                "directed": true,
                "end": "GRP19",
                "id": 141,
                "label": "IS_IN_GROUP",
                "properties": {
                  "label": "IS_IN_GROUP"
                },
                "start": "CTL34",
                "thickness_factor": 1
              },
              {
                "color": "#15AFAC",
                "directed": true,
                "end": "TYP4",
                "id": 142,
                "label": "IS_OF_TYPE",
                "properties": {
                  "label": "IS_OF_TYPE"
                },
                "start": "CTL34",
                "thickness_factor": 1
              },
              {
                "color": "#15AFAC",
                "directed": true,
                "end": "CAT3",
                "id": 143,
                "label": "IS_IN_CATEGORY",
                "properties": {
                  "label": "IS_IN_CATEGORY"
                },
                "start": "CTL35",
                "thickness_factor": 1
              },
              {
                "color": "#15AFAC",
                "directed": true,
                "end": "GRP11",
                "id": 144,
                "label": "IS_IN_GROUP",
                "properties": {
                  "label": "IS_IN_GROUP"
                },
                "start": "CTL35",
                "thickness_factor": 1
              },
              {
                "color": "#15AFAC",
                "directed": true,
                "end": "GRP12",
                "id": 145,
                "label": "IS_IN_GROUP",
                "properties": {
                  "label": "IS_IN_GROUP"
                },
                "start": "CTL35",
                "thickness_factor": 1
              },
              {
                "color": "#15AFAC",
                "directed": true,
                "end": "GRP13",
                "id": 146,
                "label": "IS_IN_GROUP",
                "properties": {
                  "label": "IS_IN_GROUP"
                },
                "start": "CTL35",
                "thickness_factor": 1
              },
              {
                "color": "#15AFAC",
                "directed": true,
                "end": "GRP14",
                "id": 147,
                "label": "IS_IN_GROUP",
                "properties": {
                  "label": "IS_IN_GROUP"
                },
                "start": "CTL35",
                "thickness_factor": 1
              },
              {
                "color": "#15AFAC",
                "directed": true,
                "end": "GRP17",
                "id": 148,
                "label": "IS_IN_GROUP",
                "properties": {
                  "label": "IS_IN_GROUP"
                },
                "start": "CTL35",
                "thickness_factor": 1
              },
              {
                "color": "#15AFAC",
                "directed": true,
                "end": "GRP18",
                "id": 149,
                "label": "IS_IN_GROUP",
                "properties": {
                  "label": "IS_IN_GROUP"
                },
                "start": "CTL35",
                "thickness_factor": 1
              },
              {
                "color": "#15AFAC",
                "directed": true,
                "end": "GRP19",
                "id": 150,
                "label": "IS_IN_GROUP",
                "properties": {
                  "label": "IS_IN_GROUP"
                },
                "start": "CTL35",
                "thickness_factor": 1
              },
              {
                "color": "#15AFAC",
                "directed": true,
                "end": "TYP3",
                "id": 151,
                "label": "IS_OF_TYPE",
                "properties": {
                  "label": "IS_OF_TYPE"
                },
                "start": "CTL35",
                "thickness_factor": 1
              },
              {
                "color": "#15AFAC",
                "directed": true,
                "end": "CAT3",
                "id": 152,
                "label": "IS_IN_CATEGORY",
                "properties": {
                  "label": "IS_IN_CATEGORY"
                },
                "start": "CTL36",
                "thickness_factor": 1
              },
              {
                "color": "#15AFAC",
                "directed": true,
                "end": "GRP11",
                "id": 153,
                "label": "IS_IN_GROUP",
                "properties": {
                  "label": "IS_IN_GROUP"
                },
                "start": "CTL36",
                "thickness_factor": 1
              },
              {
                "color": "#15AFAC",
                "directed": true,
                "end": "GRP12",
                "id": 154,
                "label": "IS_IN_GROUP",
                "properties": {
                  "label": "IS_IN_GROUP"
                },
                "start": "CTL36",
                "thickness_factor": 1
              },
              {
                "color": "#15AFAC",
                "directed": true,
                "end": "GRP13",
                "id": 155,
                "label": "IS_IN_GROUP",
                "properties": {
                  "label": "IS_IN_GROUP"
                },
                "start": "CTL36",
                "thickness_factor": 1
              },
              {
                "color": "#15AFAC",
                "directed": true,
                "end": "GRP14",
                "id": 156,
                "label": "IS_IN_GROUP",
                "properties": {
                  "label": "IS_IN_GROUP"
                },
                "start": "CTL36",
                "thickness_factor": 1
              },
              {
                "color": "#15AFAC",
                "directed": true,
                "end": "GRP15",
                "id": 157,
                "label": "IS_IN_GROUP",
                "properties": {
                  "label": "IS_IN_GROUP"
                },
                "start": "CTL36",
                "thickness_factor": 1
              },
              {
                "color": "#15AFAC",
                "directed": true,
                "end": "GRP17",
                "id": 158,
                "label": "IS_IN_GROUP",
                "properties": {
                  "label": "IS_IN_GROUP"
                },
                "start": "CTL36",
                "thickness_factor": 1
              },
              {
                "color": "#15AFAC",
                "directed": true,
                "end": "GRP18",
                "id": 159,
                "label": "IS_IN_GROUP",
                "properties": {
                  "label": "IS_IN_GROUP"
                },
                "start": "CTL36",
                "thickness_factor": 1
              },
              {
                "color": "#15AFAC",
                "directed": true,
                "end": "GRP19",
                "id": 160,
                "label": "IS_IN_GROUP",
                "properties": {
                  "label": "IS_IN_GROUP"
                },
                "start": "CTL36",
                "thickness_factor": 1
              },
              {
                "color": "#15AFAC",
                "directed": true,
                "end": "TYP1",
                "id": 161,
                "label": "IS_OF_TYPE",
                "properties": {
                  "label": "IS_OF_TYPE"
                },
                "start": "CTL36",
                "thickness_factor": 1
              }
            ],
            "_graph_layout": {},
            "_highlight": [],
            "_license": {},
            "_model_module": "yfiles-jupyter-graphs",
            "_model_module_version": "^1.6.2",
            "_model_name": "GraphModel",
            "_neighborhood": {},
            "_nodes": [
              {
                "color": "#FF7F50",
                "id": "CTL17",
                "label": "MONITORUSE",
                "position": [
                  0,
                  0
                ],
                "properties": {
                  "URL": "https://owaspai.org/docs/2_threats_through_use/#monitoruse",
                  "label": "MONITORUSE"
                },
                "scale_factor": 1,
                "size": [
                  55,
                  55
                ],
                "styles": {},
                "type": "#FF7F50"
              },
              {
                "color": "#FF7F50",
                "id": "CTL18",
                "label": "RATELIMIT",
                "position": [
                  0,
                  0
                ],
                "properties": {
                  "URL": "https://owaspai.org/docs/2_threats_through_use/#ratelimit",
                  "label": "RATELIMIT"
                },
                "scale_factor": 1,
                "size": [
                  55,
                  55
                ],
                "styles": {},
                "type": "#FF7F50"
              },
              {
                "color": "#FF7F50",
                "id": "CTL19",
                "label": "MODELACCESSCONTROL",
                "position": [
                  0,
                  0
                ],
                "properties": {
                  "URL": "https://owaspai.org/docs/2_threats_through_use/#modelaccesscontrol",
                  "label": "MODELACCESSCONTROL"
                },
                "scale_factor": 1,
                "size": [
                  55,
                  55
                ],
                "styles": {},
                "type": "#FF7F50"
              },
              {
                "color": "#FF7F50",
                "id": "CTL31",
                "label": "DEVDATAPROTECT",
                "position": [
                  0,
                  0
                ],
                "properties": {
                  "URL": "https://owaspai.org/docs/3_development_time_threats/#devdataprotect",
                  "label": "DEVDATAPROTECT"
                },
                "scale_factor": 1,
                "size": [
                  55,
                  55
                ],
                "styles": {},
                "type": "#FF7F50"
              },
              {
                "color": "#FF7F50",
                "id": "CTL32",
                "label": "DEVSECURITY",
                "position": [
                  0,
                  0
                ],
                "properties": {
                  "URL": "https://owaspai.org/docs/3_development_time_threats/#devsecurity",
                  "label": "DEVSECURITY"
                },
                "scale_factor": 1,
                "size": [
                  55,
                  55
                ],
                "styles": {},
                "type": "#FF7F50"
              },
              {
                "color": "#FF7F50",
                "id": "CTL33",
                "label": "SEGREGATEDATA",
                "position": [
                  0,
                  0
                ],
                "properties": {
                  "URL": "https://owaspai.org/docs/3_development_time_threats/#segregatedata",
                  "label": "SEGREGATEDATA"
                },
                "scale_factor": 1,
                "size": [
                  55,
                  55
                ],
                "styles": {},
                "type": "#FF7F50"
              },
              {
                "color": "#FF7F50",
                "id": "CTL34",
                "label": "CONFCOMPUTE",
                "position": [
                  0,
                  0
                ],
                "properties": {
                  "URL": "https://owaspai.org/docs/3_development_time_threats/#confcompute",
                  "label": "CONFCOMPUTE"
                },
                "scale_factor": 1,
                "size": [
                  55,
                  55
                ],
                "styles": {},
                "type": "#FF7F50"
              },
              {
                "color": "#FF7F50",
                "id": "CTL35",
                "label": "FEDERATEDLEARNING",
                "position": [
                  0,
                  0
                ],
                "properties": {
                  "URL": "https://owaspai.org/docs/3_development_time_threats/#federatedlearning",
                  "label": "FEDERATEDLEARNING"
                },
                "scale_factor": 1,
                "size": [
                  55,
                  55
                ],
                "styles": {},
                "type": "#FF7F50"
              },
              {
                "color": "#FF7F50",
                "id": "CTL36",
                "label": "SUPPLYCHAINIMAGE",
                "position": [
                  0,
                  0
                ],
                "properties": {
                  "URL": "https://owaspai.org/docs/3_development_time_threats/#supplychainmanage",
                  "label": "SUPPLYCHAINIMAGE"
                },
                "scale_factor": 1,
                "size": [
                  55,
                  55
                ],
                "styles": {},
                "type": "#FF7F50"
              },
              {
                "color": "#00BFFF",
                "id": "CAT2",
                "label": "Threats Through Use Controls",
                "position": [
                  0,
                  0
                ],
                "properties": {
                  "label": "Threats Through Use Controls"
                },
                "scale_factor": 1,
                "size": [
                  55,
                  55
                ],
                "styles": {},
                "type": "#00BFFF"
              },
              {
                "color": "#00BFFF",
                "id": "CAT3",
                "label": "Development-time Threat Controls",
                "position": [
                  0,
                  0
                ],
                "properties": {
                  "label": "Development-time Threat Controls"
                },
                "scale_factor": 1,
                "size": [
                  55,
                  55
                ],
                "styles": {},
                "type": "#00BFFF"
              },
              {
                "color": "#3CB371",
                "id": "GRP4",
                "label": "Always Against Use Threats",
                "position": [
                  0,
                  0
                ],
                "properties": {
                  "label": "Always Against Use Threats"
                },
                "scale_factor": 1,
                "size": [
                  55,
                  55
                ],
                "styles": {},
                "type": "#3CB371"
              },
              {
                "color": "#3CB371",
                "id": "GRP5",
                "label": "Against Evasion",
                "position": [
                  0,
                  0
                ],
                "properties": {
                  "label": "Against Evasion"
                },
                "scale_factor": 1,
                "size": [
                  55,
                  55
                ],
                "styles": {},
                "type": "#3CB371"
              },
              {
                "color": "#3CB371",
                "id": "GRP7",
                "label": "Against Data Disclosure by Model",
                "position": [
                  0,
                  0
                ],
                "properties": {
                  "label": "Against Data Disclosure by Model"
                },
                "scale_factor": 1,
                "size": [
                  55,
                  55
                ],
                "styles": {},
                "type": "#3CB371"
              },
              {
                "color": "#3CB371",
                "id": "GRP8",
                "label": "Against Model Inversion and Membership Inference",
                "position": [
                  0,
                  0
                ],
                "properties": {
                  "label": "Against Model Inversion and Membership Inference"
                },
                "scale_factor": 1,
                "size": [
                  55,
                  55
                ],
                "styles": {},
                "type": "#3CB371"
              },
              {
                "color": "#3CB371",
                "id": "GRP9",
                "label": "Against Model Theft by Use",
                "position": [
                  0,
                  0
                ],
                "properties": {
                  "label": "Against Model Theft by Use"
                },
                "scale_factor": 1,
                "size": [
                  55,
                  55
                ],
                "styles": {},
                "type": "#3CB371"
              },
              {
                "color": "#3CB371",
                "id": "GRP10",
                "label": "Against Failure by Use",
                "position": [
                  0,
                  0
                ],
                "properties": {
                  "label": "Against Failure by Use"
                },
                "scale_factor": 1,
                "size": [
                  55,
                  55
                ],
                "styles": {},
                "type": "#3CB371"
              },
              {
                "color": "#3CB371",
                "id": "GRP11",
                "label": "Always Against Dev-Time Threats",
                "position": [
                  0,
                  0
                ],
                "properties": {
                  "label": "Always Against Dev-Time Threats"
                },
                "scale_factor": 1,
                "size": [
                  55,
                  55
                ],
                "styles": {},
                "type": "#3CB371"
              },
              {
                "color": "#3CB371",
                "id": "GRP12",
                "label": "Against Broad Model Poisoning",
                "position": [
                  0,
                  0
                ],
                "properties": {
                  "label": "Against Broad Model Poisoning"
                },
                "scale_factor": 1,
                "size": [
                  55,
                  55
                ],
                "styles": {},
                "type": "#3CB371"
              },
              {
                "color": "#3CB371",
                "id": "GRP13",
                "label": "Against Data Poisoning",
                "position": [
                  0,
                  0
                ],
                "properties": {
                  "label": "Against Data Poisoning"
                },
                "scale_factor": 1,
                "size": [
                  55,
                  55
                ],
                "styles": {},
                "type": "#3CB371"
              },
              {
                "color": "#3CB371",
                "id": "GRP14",
                "label": "Against Dev-Time Model Poisoning",
                "position": [
                  0,
                  0
                ],
                "properties": {
                  "label": "Against Dev-Time Model Poisoning"
                },
                "scale_factor": 1,
                "size": [
                  55,
                  55
                ],
                "styles": {},
                "type": "#3CB371"
              },
              {
                "color": "#3CB371",
                "id": "GRP15",
                "label": "Against Transfer Learning Attacks",
                "position": [
                  0,
                  0
                ],
                "properties": {
                  "label": "Against Transfer Learning Attacks"
                },
                "scale_factor": 1,
                "size": [
                  55,
                  55
                ],
                "styles": {},
                "type": "#3CB371"
              },
              {
                "color": "#3CB371",
                "id": "GRP17",
                "label": "Against Train/Test Data Leak",
                "position": [
                  0,
                  0
                ],
                "properties": {
                  "label": "Against Train/Test Data Leak"
                },
                "scale_factor": 1,
                "size": [
                  55,
                  55
                ],
                "styles": {},
                "type": "#3CB371"
              },
              {
                "color": "#3CB371",
                "id": "GRP18",
                "label": "Against Dev-Time Model Leak",
                "position": [
                  0,
                  0
                ],
                "properties": {
                  "label": "Against Dev-Time Model Leak"
                },
                "scale_factor": 1,
                "size": [
                  55,
                  55
                ],
                "styles": {},
                "type": "#3CB371"
              },
              {
                "color": "#3CB371",
                "id": "GRP19",
                "label": "Against Source Code/Config Leak",
                "position": [
                  0,
                  0
                ],
                "properties": {
                  "label": "Against Source Code/Config Leak"
                },
                "scale_factor": 1,
                "size": [
                  55,
                  55
                ],
                "styles": {},
                "type": "#3CB371"
              },
              {
                "color": "#DAA520",
                "id": "TYP1",
                "label": "Standard InfoSec Control",
                "position": [
                  0,
                  0
                ],
                "properties": {
                  "label": "Standard InfoSec Control"
                },
                "scale_factor": 1,
                "size": [
                  55,
                  55
                ],
                "styles": {},
                "type": "#DAA520"
              },
              {
                "color": "#DAA520",
                "id": "TYP3",
                "label": "Development-time Data Science Control",
                "position": [
                  0,
                  0
                ],
                "properties": {
                  "label": "Development-time Data Science Control"
                },
                "scale_factor": 1,
                "size": [
                  55,
                  55
                ],
                "styles": {},
                "type": "#DAA520"
              },
              {
                "color": "#DAA520",
                "id": "TYP4",
                "label": "Other Control",
                "position": [
                  0,
                  0
                ],
                "properties": {
                  "label": "Other Control"
                },
                "scale_factor": 1,
                "size": [
                  55,
                  55
                ],
                "styles": {},
                "type": "#DAA520"
              }
            ],
            "_overview": {
              "enabled": null,
              "overview_set": false
            },
            "_selected_graph": [
              [
                {
                  "id": "CTL19",
                  "properties": {
                    "URL": "https://owaspai.org/docs/2_threats_through_use/#modelaccesscontrol",
                    "label": "MODELACCESSCONTROL"
                  }
                }
              ],
              []
            ],
            "_sidebar": {
              "enabled": true,
              "start_with": ""
            },
            "_view_count": null,
            "_view_module": "yfiles-jupyter-graphs",
            "_view_module_version": "^1.6.2",
            "_view_name": "GraphView",
            "layout": "IPY_MODEL_3c3daa5784ff4a60ad397c4184309f28"
          }
        },
        "a155a9e56624429c962ccfce4b37912d": {
          "model_module": "yfiles-jupyter-graphs",
          "model_module_version": "^1.6.2",
          "model_name": "GraphModel",
          "state": {
            "_context_pane_mapping": [
              {
                "id": "Neighborhood",
                "title": "Neighborhood"
              },
              {
                "id": "Data",
                "title": "Data"
              },
              {
                "id": "Search",
                "title": "Search"
              },
              {
                "id": "About",
                "title": "About"
              }
            ],
            "_data_importer": "unknown",
            "_directed": true,
            "_dom_classes": [],
            "_edges": [
              {
                "color": "#15AFAC",
                "directed": true,
                "end": "CAT1",
                "id": 1,
                "label": "IS_IN_CATEGORY",
                "properties": {
                  "label": "IS_IN_CATEGORY"
                },
                "start": "CTL1",
                "thickness_factor": 1
              },
              {
                "color": "#15AFAC",
                "directed": true,
                "end": "CAT1",
                "id": 4,
                "label": "IS_IN_CATEGORY",
                "properties": {
                  "label": "IS_IN_CATEGORY"
                },
                "start": "CTL2",
                "thickness_factor": 1
              },
              {
                "color": "#15AFAC",
                "directed": true,
                "end": "CAT1",
                "id": 7,
                "label": "IS_IN_CATEGORY",
                "properties": {
                  "label": "IS_IN_CATEGORY"
                },
                "start": "CTL3",
                "thickness_factor": 1
              },
              {
                "color": "#15AFAC",
                "directed": true,
                "end": "CAT1",
                "id": 10,
                "label": "IS_IN_CATEGORY",
                "properties": {
                  "label": "IS_IN_CATEGORY"
                },
                "start": "CTL4",
                "thickness_factor": 1
              },
              {
                "color": "#15AFAC",
                "directed": true,
                "end": "CAT1",
                "id": 13,
                "label": "IS_IN_CATEGORY",
                "properties": {
                  "label": "IS_IN_CATEGORY"
                },
                "start": "CTL5",
                "thickness_factor": 1
              },
              {
                "color": "#15AFAC",
                "directed": true,
                "end": "CAT1",
                "id": 16,
                "label": "IS_IN_CATEGORY",
                "properties": {
                  "label": "IS_IN_CATEGORY"
                },
                "start": "CTL6",
                "thickness_factor": 1
              },
              {
                "color": "#15AFAC",
                "directed": true,
                "end": "CAT1",
                "id": 19,
                "label": "IS_IN_CATEGORY",
                "properties": {
                  "label": "IS_IN_CATEGORY"
                },
                "start": "CTL7",
                "thickness_factor": 1
              },
              {
                "color": "#15AFAC",
                "directed": true,
                "end": "CAT1",
                "id": 22,
                "label": "IS_IN_CATEGORY",
                "properties": {
                  "label": "IS_IN_CATEGORY"
                },
                "start": "CTL8",
                "thickness_factor": 1
              },
              {
                "color": "#15AFAC",
                "directed": true,
                "end": "CAT1",
                "id": 25,
                "label": "IS_IN_CATEGORY",
                "properties": {
                  "label": "IS_IN_CATEGORY"
                },
                "start": "CTL9",
                "thickness_factor": 1
              },
              {
                "color": "#15AFAC",
                "directed": true,
                "end": "CAT1",
                "id": 28,
                "label": "IS_IN_CATEGORY",
                "properties": {
                  "label": "IS_IN_CATEGORY"
                },
                "start": "CTL10",
                "thickness_factor": 1
              },
              {
                "color": "#15AFAC",
                "directed": true,
                "end": "CAT1",
                "id": 32,
                "label": "IS_IN_CATEGORY",
                "properties": {
                  "label": "IS_IN_CATEGORY"
                },
                "start": "CTL11",
                "thickness_factor": 1
              },
              {
                "color": "#15AFAC",
                "directed": true,
                "end": "CAT1",
                "id": 35,
                "label": "IS_IN_CATEGORY",
                "properties": {
                  "label": "IS_IN_CATEGORY"
                },
                "start": "CTL12",
                "thickness_factor": 1
              },
              {
                "color": "#15AFAC",
                "directed": true,
                "end": "CAT1",
                "id": 38,
                "label": "IS_IN_CATEGORY",
                "properties": {
                  "label": "IS_IN_CATEGORY"
                },
                "start": "CTL13",
                "thickness_factor": 1
              },
              {
                "color": "#15AFAC",
                "directed": true,
                "end": "CAT1",
                "id": 41,
                "label": "IS_IN_CATEGORY",
                "properties": {
                  "label": "IS_IN_CATEGORY"
                },
                "start": "CTL14",
                "thickness_factor": 1
              },
              {
                "color": "#15AFAC",
                "directed": true,
                "end": "CAT1",
                "id": 44,
                "label": "IS_IN_CATEGORY",
                "properties": {
                  "label": "IS_IN_CATEGORY"
                },
                "start": "CTL15",
                "thickness_factor": 1
              },
              {
                "color": "#15AFAC",
                "directed": true,
                "end": "CAT1",
                "id": 47,
                "label": "IS_IN_CATEGORY",
                "properties": {
                  "label": "IS_IN_CATEGORY"
                },
                "start": "CTL16",
                "thickness_factor": 1
              },
              {
                "color": "#15AFAC",
                "directed": true,
                "end": "CAT2",
                "id": 50,
                "label": "IS_IN_CATEGORY",
                "properties": {
                  "label": "IS_IN_CATEGORY"
                },
                "start": "CTL17",
                "thickness_factor": 1
              },
              {
                "color": "#15AFAC",
                "directed": true,
                "end": "CAT2",
                "id": 58,
                "label": "IS_IN_CATEGORY",
                "properties": {
                  "label": "IS_IN_CATEGORY"
                },
                "start": "CTL18",
                "thickness_factor": 1
              },
              {
                "color": "#15AFAC",
                "directed": true,
                "end": "CAT2",
                "id": 66,
                "label": "IS_IN_CATEGORY",
                "properties": {
                  "label": "IS_IN_CATEGORY"
                },
                "start": "CTL19",
                "thickness_factor": 1
              },
              {
                "color": "#15AFAC",
                "directed": true,
                "end": "CAT2",
                "id": 74,
                "label": "IS_IN_CATEGORY",
                "properties": {
                  "label": "IS_IN_CATEGORY"
                },
                "start": "CTL20",
                "thickness_factor": 1
              },
              {
                "color": "#15AFAC",
                "directed": true,
                "end": "CAT2",
                "id": 77,
                "label": "IS_IN_CATEGORY",
                "properties": {
                  "label": "IS_IN_CATEGORY"
                },
                "start": "CTL21",
                "thickness_factor": 1
              },
              {
                "color": "#15AFAC",
                "directed": true,
                "end": "CAT2",
                "id": 80,
                "label": "IS_IN_CATEGORY",
                "properties": {
                  "label": "IS_IN_CATEGORY"
                },
                "start": "CTL22",
                "thickness_factor": 1
              },
              {
                "color": "#15AFAC",
                "directed": true,
                "end": "CAT2",
                "id": 83,
                "label": "IS_IN_CATEGORY",
                "properties": {
                  "label": "IS_IN_CATEGORY"
                },
                "start": "CTL23",
                "thickness_factor": 1
              },
              {
                "color": "#15AFAC",
                "directed": true,
                "end": "CAT2",
                "id": 86,
                "label": "IS_IN_CATEGORY",
                "properties": {
                  "label": "IS_IN_CATEGORY"
                },
                "start": "CTL24",
                "thickness_factor": 1
              },
              {
                "color": "#15AFAC",
                "directed": true,
                "end": "CAT2",
                "id": 89,
                "label": "IS_IN_CATEGORY",
                "properties": {
                  "label": "IS_IN_CATEGORY"
                },
                "start": "CTL25",
                "thickness_factor": 1
              },
              {
                "color": "#15AFAC",
                "directed": true,
                "end": "CAT2",
                "id": 92,
                "label": "IS_IN_CATEGORY",
                "properties": {
                  "label": "IS_IN_CATEGORY"
                },
                "start": "CTL26",
                "thickness_factor": 1
              },
              {
                "color": "#15AFAC",
                "directed": true,
                "end": "CAT2",
                "id": 95,
                "label": "IS_IN_CATEGORY",
                "properties": {
                  "label": "IS_IN_CATEGORY"
                },
                "start": "CTL27",
                "thickness_factor": 1
              },
              {
                "color": "#15AFAC",
                "directed": true,
                "end": "CAT2",
                "id": 98,
                "label": "IS_IN_CATEGORY",
                "properties": {
                  "label": "IS_IN_CATEGORY"
                },
                "start": "CTL28",
                "thickness_factor": 1
              },
              {
                "color": "#15AFAC",
                "directed": true,
                "end": "CAT2",
                "id": 101,
                "label": "IS_IN_CATEGORY",
                "properties": {
                  "label": "IS_IN_CATEGORY"
                },
                "start": "CTL29",
                "thickness_factor": 1
              },
              {
                "color": "#15AFAC",
                "directed": true,
                "end": "CAT2",
                "id": 104,
                "label": "IS_IN_CATEGORY",
                "properties": {
                  "label": "IS_IN_CATEGORY"
                },
                "start": "CTL30",
                "thickness_factor": 1
              },
              {
                "color": "#15AFAC",
                "directed": true,
                "end": "CAT3",
                "id": 107,
                "label": "IS_IN_CATEGORY",
                "properties": {
                  "label": "IS_IN_CATEGORY"
                },
                "start": "CTL31",
                "thickness_factor": 1
              },
              {
                "color": "#15AFAC",
                "directed": true,
                "end": "CAT3",
                "id": 116,
                "label": "IS_IN_CATEGORY",
                "properties": {
                  "label": "IS_IN_CATEGORY"
                },
                "start": "CTL32",
                "thickness_factor": 1
              },
              {
                "color": "#15AFAC",
                "directed": true,
                "end": "CAT3",
                "id": 125,
                "label": "IS_IN_CATEGORY",
                "properties": {
                  "label": "IS_IN_CATEGORY"
                },
                "start": "CTL33",
                "thickness_factor": 1
              },
              {
                "color": "#15AFAC",
                "directed": true,
                "end": "CAT3",
                "id": 134,
                "label": "IS_IN_CATEGORY",
                "properties": {
                  "label": "IS_IN_CATEGORY"
                },
                "start": "CTL34",
                "thickness_factor": 1
              },
              {
                "color": "#15AFAC",
                "directed": true,
                "end": "CAT3",
                "id": 143,
                "label": "IS_IN_CATEGORY",
                "properties": {
                  "label": "IS_IN_CATEGORY"
                },
                "start": "CTL35",
                "thickness_factor": 1
              },
              {
                "color": "#15AFAC",
                "directed": true,
                "end": "CAT3",
                "id": 152,
                "label": "IS_IN_CATEGORY",
                "properties": {
                  "label": "IS_IN_CATEGORY"
                },
                "start": "CTL36",
                "thickness_factor": 1
              },
              {
                "color": "#15AFAC",
                "directed": true,
                "end": "CAT3",
                "id": 162,
                "label": "IS_IN_CATEGORY",
                "properties": {
                  "label": "IS_IN_CATEGORY"
                },
                "start": "CTL37",
                "thickness_factor": 1
              },
              {
                "color": "#15AFAC",
                "directed": true,
                "end": "CAT3",
                "id": 165,
                "label": "IS_IN_CATEGORY",
                "properties": {
                  "label": "IS_IN_CATEGORY"
                },
                "start": "CTL38",
                "thickness_factor": 1
              },
              {
                "color": "#15AFAC",
                "directed": true,
                "end": "CAT3",
                "id": 168,
                "label": "IS_IN_CATEGORY",
                "properties": {
                  "label": "IS_IN_CATEGORY"
                },
                "start": "CTL39",
                "thickness_factor": 1
              },
              {
                "color": "#15AFAC",
                "directed": true,
                "end": "CAT3",
                "id": 171,
                "label": "IS_IN_CATEGORY",
                "properties": {
                  "label": "IS_IN_CATEGORY"
                },
                "start": "CTL40",
                "thickness_factor": 1
              },
              {
                "color": "#15AFAC",
                "directed": true,
                "end": "CAT3",
                "id": 174,
                "label": "IS_IN_CATEGORY",
                "properties": {
                  "label": "IS_IN_CATEGORY"
                },
                "start": "CTL41",
                "thickness_factor": 1
              },
              {
                "color": "#15AFAC",
                "directed": true,
                "end": "CAT4",
                "id": 177,
                "label": "IS_IN_CATEGORY",
                "properties": {
                  "label": "IS_IN_CATEGORY"
                },
                "start": "CTL42",
                "thickness_factor": 1
              },
              {
                "color": "#15AFAC",
                "directed": true,
                "end": "CAT4",
                "id": 180,
                "label": "IS_IN_CATEGORY",
                "properties": {
                  "label": "IS_IN_CATEGORY"
                },
                "start": "CTL43",
                "thickness_factor": 1
              },
              {
                "color": "#15AFAC",
                "directed": true,
                "end": "CAT4",
                "id": 183,
                "label": "IS_IN_CATEGORY",
                "properties": {
                  "label": "IS_IN_CATEGORY"
                },
                "start": "CTL44",
                "thickness_factor": 1
              },
              {
                "color": "#15AFAC",
                "directed": true,
                "end": "CAT4",
                "id": 186,
                "label": "IS_IN_CATEGORY",
                "properties": {
                  "label": "IS_IN_CATEGORY"
                },
                "start": "CTL45",
                "thickness_factor": 1
              },
              {
                "color": "#15AFAC",
                "directed": true,
                "end": "CAT4",
                "id": 189,
                "label": "IS_IN_CATEGORY",
                "properties": {
                  "label": "IS_IN_CATEGORY"
                },
                "start": "CTL46",
                "thickness_factor": 1
              },
              {
                "color": "#15AFAC",
                "directed": true,
                "end": "CAT4",
                "id": 192,
                "label": "IS_IN_CATEGORY",
                "properties": {
                  "label": "IS_IN_CATEGORY"
                },
                "start": "CTL47",
                "thickness_factor": 1
              },
              {
                "color": "#15AFAC",
                "directed": true,
                "end": "CAT4",
                "id": 195,
                "label": "IS_IN_CATEGORY",
                "properties": {
                  "label": "IS_IN_CATEGORY"
                },
                "start": "CTL48",
                "thickness_factor": 1
              },
              {
                "color": "#15AFAC",
                "directed": true,
                "end": "CAT4",
                "id": 198,
                "label": "IS_IN_CATEGORY",
                "properties": {
                  "label": "IS_IN_CATEGORY"
                },
                "start": "CTL49",
                "thickness_factor": 1
              },
              {
                "color": "#15AFAC",
                "directed": true,
                "end": "CAT4",
                "id": 201,
                "label": "IS_IN_CATEGORY",
                "properties": {
                  "label": "IS_IN_CATEGORY"
                },
                "start": "CTL50",
                "thickness_factor": 1
              },
              {
                "color": "#15AFAC",
                "directed": true,
                "end": "CAT4",
                "id": 204,
                "label": "IS_IN_CATEGORY",
                "properties": {
                  "label": "IS_IN_CATEGORY"
                },
                "start": "CTL51",
                "thickness_factor": 1
              },
              {
                "color": "#15AFAC",
                "directed": true,
                "end": "CAT4",
                "id": 207,
                "label": "IS_IN_CATEGORY",
                "properties": {
                  "label": "IS_IN_CATEGORY"
                },
                "start": "CTL52",
                "thickness_factor": 1
              }
            ],
            "_graph_layout": {},
            "_highlight": [],
            "_license": {},
            "_model_module": "yfiles-jupyter-graphs",
            "_model_module_version": "^1.6.2",
            "_model_name": "GraphModel",
            "_neighborhood": {},
            "_nodes": [
              {
                "color": "#00BFFF",
                "id": "CAT1",
                "label": "General Controls",
                "position": [
                  0,
                  0
                ],
                "properties": {
                  "label": "General Controls"
                },
                "scale_factor": 1,
                "size": [
                  55,
                  55
                ],
                "styles": {},
                "type": "#00BFFF"
              },
              {
                "color": "#00BFFF",
                "id": "CAT2",
                "label": "Threats Through Use Controls",
                "position": [
                  0,
                  0
                ],
                "properties": {
                  "label": "Threats Through Use Controls"
                },
                "scale_factor": 1,
                "size": [
                  55,
                  55
                ],
                "styles": {},
                "type": "#00BFFF"
              },
              {
                "color": "#00BFFF",
                "id": "CAT3",
                "label": "Development-time Threat Controls",
                "position": [
                  0,
                  0
                ],
                "properties": {
                  "label": "Development-time Threat Controls"
                },
                "scale_factor": 1,
                "size": [
                  55,
                  55
                ],
                "styles": {},
                "type": "#00BFFF"
              },
              {
                "color": "#00BFFF",
                "id": "CAT4",
                "label": "Runtime Application Security Threats Controls",
                "position": [
                  0,
                  0
                ],
                "properties": {
                  "label": "Runtime Application Security Threats Controls"
                },
                "scale_factor": 1,
                "size": [
                  55,
                  55
                ],
                "styles": {},
                "type": "#00BFFF"
              },
              {
                "color": "#FF7F50",
                "id": "CTL1",
                "label": "AIPROGRAM",
                "position": [
                  0,
                  0
                ],
                "properties": {
                  "URL": "https://owaspai.org/docs/1_general_controls/#aiprogram",
                  "label": "AIPROGRAM"
                },
                "scale_factor": 1,
                "size": [
                  55,
                  55
                ],
                "styles": {},
                "type": "#FF7F50"
              },
              {
                "color": "#FF7F50",
                "id": "CTL2",
                "label": "SECPROGRAM",
                "position": [
                  0,
                  0
                ],
                "properties": {
                  "URL": "https://owaspai.org/docs/1_general_controls/#secprogram",
                  "label": "SECPROGRAM"
                },
                "scale_factor": 1,
                "size": [
                  55,
                  55
                ],
                "styles": {},
                "type": "#FF7F50"
              },
              {
                "color": "#FF7F50",
                "id": "CTL3",
                "label": "SECDEVPROGRAM",
                "position": [
                  0,
                  0
                ],
                "properties": {
                  "URL": "https://owaspai.org/docs/1_general_controls/#secdevprogram",
                  "label": "SECDEVPROGRAM"
                },
                "scale_factor": 1,
                "size": [
                  55,
                  55
                ],
                "styles": {},
                "type": "#FF7F50"
              },
              {
                "color": "#FF7F50",
                "id": "CTL4",
                "label": "DEVPROGRAM",
                "position": [
                  0,
                  0
                ],
                "properties": {
                  "URL": "https://owaspai.org/docs/1_general_controls/#devprogram",
                  "label": "DEVPROGRAM"
                },
                "scale_factor": 1,
                "size": [
                  55,
                  55
                ],
                "styles": {},
                "type": "#FF7F50"
              },
              {
                "color": "#FF7F50",
                "id": "CTL5",
                "label": "CHECKCOMPLIANCE",
                "position": [
                  0,
                  0
                ],
                "properties": {
                  "URL": "https://owaspai.org/docs/1_general_controls/#checkcompliance",
                  "label": "CHECKCOMPLIANCE"
                },
                "scale_factor": 1,
                "size": [
                  55,
                  55
                ],
                "styles": {},
                "type": "#FF7F50"
              },
              {
                "color": "#FF7F50",
                "id": "CTL6",
                "label": "SECEDUCATE",
                "position": [
                  0,
                  0
                ],
                "properties": {
                  "URL": "https://owaspai.org/docs/1_general_controls/#seceducate",
                  "label": "SECEDUCATE"
                },
                "scale_factor": 1,
                "size": [
                  55,
                  55
                ],
                "styles": {},
                "type": "#FF7F50"
              },
              {
                "color": "#FF7F50",
                "id": "CTL7",
                "label": "OVERSIGHT",
                "position": [
                  0,
                  0
                ],
                "properties": {
                  "URL": "https://owaspai.org/docs/1_general_controls/#oversight",
                  "label": "OVERSIGHT"
                },
                "scale_factor": 1,
                "size": [
                  55,
                  55
                ],
                "styles": {},
                "type": "#FF7F50"
              },
              {
                "color": "#FF7F50",
                "id": "CTL8",
                "label": "LEASTMODELPRIVILEGE",
                "position": [
                  0,
                  0
                ],
                "properties": {
                  "URL": "https://owaspai.org/docs/1_general_controls/#leastmodelprivilege",
                  "label": "LEASTMODELPRIVILEGE"
                },
                "scale_factor": 1,
                "size": [
                  55,
                  55
                ],
                "styles": {},
                "type": "#FF7F50"
              },
              {
                "color": "#FF7F50",
                "id": "CTL9",
                "label": "AITRANSPARENCY",
                "position": [
                  0,
                  0
                ],
                "properties": {
                  "URL": "https://owaspai.org/docs/1_general_controls/#aitransparency",
                  "label": "AITRANSPARENCY"
                },
                "scale_factor": 1,
                "size": [
                  55,
                  55
                ],
                "styles": {},
                "type": "#FF7F50"
              },
              {
                "color": "#FF7F50",
                "id": "CTL10",
                "label": "CONTINUOUSVALIDATION",
                "position": [
                  0,
                  0
                ],
                "properties": {
                  "URL": "https://owaspai.org/docs/1_general_controls/#continuousvalidation",
                  "label": "CONTINUOUSVALIDATION"
                },
                "scale_factor": 1,
                "size": [
                  55,
                  55
                ],
                "styles": {},
                "type": "#FF7F50"
              },
              {
                "color": "#FF7F50",
                "id": "CTL11",
                "label": "EXPLAINABILITY",
                "position": [
                  0,
                  0
                ],
                "properties": {
                  "URL": "https://owaspai.org/docs/1_general_controls/#explainability",
                  "label": "EXPLAINABILITY"
                },
                "scale_factor": 1,
                "size": [
                  55,
                  55
                ],
                "styles": {},
                "type": "#FF7F50"
              },
              {
                "color": "#FF7F50",
                "id": "CTL12",
                "label": "UNWANTEDBIASTESTING",
                "position": [
                  0,
                  0
                ],
                "properties": {
                  "URL": "https://owaspai.org/docs/1_general_controls/#unwantedbiastesting",
                  "label": "UNWANTEDBIASTESTING"
                },
                "scale_factor": 1,
                "size": [
                  55,
                  55
                ],
                "styles": {},
                "type": "#FF7F50"
              },
              {
                "color": "#FF7F50",
                "id": "CTL13",
                "label": "DATAMINIMIZE",
                "position": [
                  0,
                  0
                ],
                "properties": {
                  "URL": "https://owaspai.org/docs/1_general_controls/#dataminimize",
                  "label": "DATAMINIMIZE"
                },
                "scale_factor": 1,
                "size": [
                  55,
                  55
                ],
                "styles": {},
                "type": "#FF7F50"
              },
              {
                "color": "#FF7F50",
                "id": "CTL14",
                "label": "ALLOWEDDATA",
                "position": [
                  0,
                  0
                ],
                "properties": {
                  "URL": "https://owaspai.org/docs/1_general_controls/#alloweddata",
                  "label": "ALLOWEDDATA"
                },
                "scale_factor": 1,
                "size": [
                  55,
                  55
                ],
                "styles": {},
                "type": "#FF7F50"
              },
              {
                "color": "#FF7F50",
                "id": "CTL15",
                "label": "SHORTRETAIN",
                "position": [
                  0,
                  0
                ],
                "properties": {
                  "URL": "https://owaspai.org/docs/1_general_controls/#shortretain",
                  "label": "SHORTRETAIN"
                },
                "scale_factor": 1,
                "size": [
                  55,
                  55
                ],
                "styles": {},
                "type": "#FF7F50"
              },
              {
                "color": "#FF7F50",
                "id": "CTL15",
                "label": "OBFUSCATETRAININGDATA",
                "position": [
                  0,
                  0
                ],
                "properties": {
                  "URL": "https://owaspai.org/docs/1_general_controls/#obfuscatetrainingdata",
                  "label": "OBFUSCATETRAININGDATA"
                },
                "scale_factor": 1,
                "size": [
                  55,
                  55
                ],
                "styles": {},
                "type": "#FF7F50"
              },
              {
                "color": "#FF7F50",
                "id": "CTL16",
                "label": "DISCRETE",
                "position": [
                  0,
                  0
                ],
                "properties": {
                  "URL": "https://owaspai.org/docs/1_general_controls/#discrete",
                  "label": "DISCRETE"
                },
                "scale_factor": 1,
                "size": [
                  55,
                  55
                ],
                "styles": {},
                "type": "#FF7F50"
              },
              {
                "color": "#FF7F50",
                "id": "CTL17",
                "label": "MONITORUSE",
                "position": [
                  0,
                  0
                ],
                "properties": {
                  "URL": "https://owaspai.org/docs/2_threats_through_use/#monitoruse",
                  "label": "MONITORUSE"
                },
                "scale_factor": 1,
                "size": [
                  55,
                  55
                ],
                "styles": {},
                "type": "#FF7F50"
              },
              {
                "color": "#FF7F50",
                "id": "CTL18",
                "label": "RATELIMIT",
                "position": [
                  0,
                  0
                ],
                "properties": {
                  "URL": "https://owaspai.org/docs/2_threats_through_use/#ratelimit",
                  "label": "RATELIMIT"
                },
                "scale_factor": 1,
                "size": [
                  55,
                  55
                ],
                "styles": {},
                "type": "#FF7F50"
              },
              {
                "color": "#FF7F50",
                "id": "CTL19",
                "label": "MODELACCESSCONTROL",
                "position": [
                  0,
                  0
                ],
                "properties": {
                  "URL": "https://owaspai.org/docs/2_threats_through_use/#modelaccesscontrol",
                  "label": "MODELACCESSCONTROL"
                },
                "scale_factor": 1,
                "size": [
                  55,
                  55
                ],
                "styles": {},
                "type": "#FF7F50"
              },
              {
                "color": "#FF7F50",
                "id": "CTL20",
                "label": "DETECTODDINPUT",
                "position": [
                  0,
                  0
                ],
                "properties": {
                  "URL": "https://owaspai.org/docs/2_threats_through_use/#detectoddinput",
                  "label": "DETECTODDINPUT"
                },
                "scale_factor": 1,
                "size": [
                  55,
                  55
                ],
                "styles": {},
                "type": "#FF7F50"
              },
              {
                "color": "#FF7F50",
                "id": "CTL21",
                "label": "DETECTADVERSARIALINPUT",
                "position": [
                  0,
                  0
                ],
                "properties": {
                  "URL": "https://owaspai.org/docs/2_threats_through_use/#detectadversarialinput",
                  "label": "DETECTADVERSARIALINPUT"
                },
                "scale_factor": 1,
                "size": [
                  55,
                  55
                ],
                "styles": {},
                "type": "#FF7F50"
              },
              {
                "color": "#FF7F50",
                "id": "CTL22",
                "label": "EVASIONROBUSTMODEL",
                "position": [
                  0,
                  0
                ],
                "properties": {
                  "URL": "https://owaspai.org/docs/2_threats_through_use/#evasionrobustmodel",
                  "label": "EVASIONROBUSTMODEL"
                },
                "scale_factor": 1,
                "size": [
                  55,
                  55
                ],
                "styles": {},
                "type": "#FF7F50"
              },
              {
                "color": "#FF7F50",
                "id": "CTL23",
                "label": "TRAINADVERSARIAL",
                "position": [
                  0,
                  0
                ],
                "properties": {
                  "URL": "https://owaspai.org/docs/2_threats_through_use/#trainadversarial",
                  "label": "TRAINADVERSARIAL"
                },
                "scale_factor": 1,
                "size": [
                  55,
                  55
                ],
                "styles": {},
                "type": "#FF7F50"
              },
              {
                "color": "#FF7F50",
                "id": "CTL24",
                "label": "INPUTDISTORTION",
                "position": [
                  0,
                  0
                ],
                "properties": {
                  "URL": "https://owaspai.org/docs/2_threats_through_use/#inputdistortion",
                  "label": "INPUTDISTORTION"
                },
                "scale_factor": 1,
                "size": [
                  55,
                  55
                ],
                "styles": {},
                "type": "#FF7F50"
              },
              {
                "color": "#FF7F50",
                "id": "CTL25",
                "label": "ADVERSARIALROBUSTDISTILLATION",
                "position": [
                  0,
                  0
                ],
                "properties": {
                  "URL": "https://owaspai.org/docs/2_threats_through_use/#adversarialrobustdistillation",
                  "label": "ADVERSARIALROBUSTDISTILLATION"
                },
                "scale_factor": 1,
                "size": [
                  55,
                  55
                ],
                "styles": {},
                "type": "#FF7F50"
              },
              {
                "color": "#FF7F50",
                "id": "CTL26",
                "label": "FILTERSENSITIVEMODELOUTPUT",
                "position": [
                  0,
                  0
                ],
                "properties": {
                  "URL": "https://owaspai.org/docs/2_threats_through_use/#filtersensitivemodeloutput",
                  "label": "FILTERSENSITIVEMODELOUTPUT"
                },
                "scale_factor": 1,
                "size": [
                  55,
                  55
                ],
                "styles": {},
                "type": "#FF7F50"
              },
              {
                "color": "#FF7F50",
                "id": "CTL27",
                "label": "OBSCURECONFIDENCE",
                "position": [
                  0,
                  0
                ],
                "properties": {
                  "URL": "https://owaspai.org/docs/2_threats_through_use/#obscureconfidence",
                  "label": "OBSCURECONFIDENCE"
                },
                "scale_factor": 1,
                "size": [
                  55,
                  55
                ],
                "styles": {},
                "type": "#FF7F50"
              },
              {
                "color": "#FF7F50",
                "id": "CTL28",
                "label": "SMALLMODEL",
                "position": [
                  0,
                  0
                ],
                "properties": {
                  "URL": "https://owaspai.org/docs/2_threats_through_use/#smallmodel",
                  "label": "SMALLMODEL"
                },
                "scale_factor": 1,
                "size": [
                  55,
                  55
                ],
                "styles": {},
                "type": "#FF7F50"
              },
              {
                "color": "#FF7F50",
                "id": "CTL29",
                "label": "DOSINPUTVALIDATION",
                "position": [
                  0,
                  0
                ],
                "properties": {
                  "URL": "https://owaspai.org/docs/2_threats_through_use/#dosinputvalidation",
                  "label": "DOSINPUTVALIDATION"
                },
                "scale_factor": 1,
                "size": [
                  55,
                  55
                ],
                "styles": {},
                "type": "#FF7F50"
              },
              {
                "color": "#FF7F50",
                "id": "CTL30",
                "label": "LIMITRESOURCES",
                "position": [
                  0,
                  0
                ],
                "properties": {
                  "URL": "https://owaspai.org/docs/2_threats_through_use/#limitresources",
                  "label": "LIMITRESOURCES"
                },
                "scale_factor": 1,
                "size": [
                  55,
                  55
                ],
                "styles": {},
                "type": "#FF7F50"
              },
              {
                "color": "#FF7F50",
                "id": "CTL31",
                "label": "DEVDATAPROTECT",
                "position": [
                  0,
                  0
                ],
                "properties": {
                  "URL": "https://owaspai.org/docs/3_development_time_threats/#devdataprotect",
                  "label": "DEVDATAPROTECT"
                },
                "scale_factor": 1,
                "size": [
                  55,
                  55
                ],
                "styles": {},
                "type": "#FF7F50"
              },
              {
                "color": "#FF7F50",
                "id": "CTL32",
                "label": "DEVSECURITY",
                "position": [
                  0,
                  0
                ],
                "properties": {
                  "URL": "https://owaspai.org/docs/3_development_time_threats/#devsecurity",
                  "label": "DEVSECURITY"
                },
                "scale_factor": 1,
                "size": [
                  55,
                  55
                ],
                "styles": {},
                "type": "#FF7F50"
              },
              {
                "color": "#FF7F50",
                "id": "CTL33",
                "label": "SEGREGATEDATA",
                "position": [
                  0,
                  0
                ],
                "properties": {
                  "URL": "https://owaspai.org/docs/3_development_time_threats/#segregatedata",
                  "label": "SEGREGATEDATA"
                },
                "scale_factor": 1,
                "size": [
                  55,
                  55
                ],
                "styles": {},
                "type": "#FF7F50"
              },
              {
                "color": "#FF7F50",
                "id": "CTL34",
                "label": "CONFCOMPUTE",
                "position": [
                  0,
                  0
                ],
                "properties": {
                  "URL": "https://owaspai.org/docs/3_development_time_threats/#confcompute",
                  "label": "CONFCOMPUTE"
                },
                "scale_factor": 1,
                "size": [
                  55,
                  55
                ],
                "styles": {},
                "type": "#FF7F50"
              },
              {
                "color": "#FF7F50",
                "id": "CTL35",
                "label": "FEDERATEDLEARNING",
                "position": [
                  0,
                  0
                ],
                "properties": {
                  "URL": "https://owaspai.org/docs/3_development_time_threats/#federatedlearning",
                  "label": "FEDERATEDLEARNING"
                },
                "scale_factor": 1,
                "size": [
                  55,
                  55
                ],
                "styles": {},
                "type": "#FF7F50"
              },
              {
                "color": "#FF7F50",
                "id": "CTL36",
                "label": "SUPPLYCHAINIMAGE",
                "position": [
                  0,
                  0
                ],
                "properties": {
                  "URL": "https://owaspai.org/docs/3_development_time_threats/#supplychainmanage",
                  "label": "SUPPLYCHAINIMAGE"
                },
                "scale_factor": 1,
                "size": [
                  55,
                  55
                ],
                "styles": {},
                "type": "#FF7F50"
              },
              {
                "color": "#FF7F50",
                "id": "CTL37",
                "label": "MODELENSEMBLE",
                "position": [
                  0,
                  0
                ],
                "properties": {
                  "URL": "https://owaspai.org/docs/3_development_time_threats/#modelensemble",
                  "label": "MODELENSEMBLE"
                },
                "scale_factor": 1,
                "size": [
                  55,
                  55
                ],
                "styles": {},
                "type": "#FF7F50"
              },
              {
                "color": "#FF7F50",
                "id": "CTL38",
                "label": "MORETRAINDATA",
                "position": [
                  0,
                  0
                ],
                "properties": {
                  "URL": "https://owaspai.org/docs/3_development_time_threats/#moretraindata",
                  "label": "MORETRAINDATA"
                },
                "scale_factor": 1,
                "size": [
                  55,
                  55
                ],
                "styles": {},
                "type": "#FF7F50"
              },
              {
                "color": "#FF7F50",
                "id": "CTL39",
                "label": "DATAQUALITYCONTROL",
                "position": [
                  0,
                  0
                ],
                "properties": {
                  "URL": "https://owaspai.org/docs/3_development_time_threats/#dataqualitycontrol",
                  "label": "DATAQUALITYCONTROL"
                },
                "scale_factor": 1,
                "size": [
                  55,
                  55
                ],
                "styles": {},
                "type": "#FF7F50"
              },
              {
                "color": "#FF7F50",
                "id": "CTL40",
                "label": "TRAINDATADISTORTION",
                "position": [
                  0,
                  0
                ],
                "properties": {
                  "URL": "https://owaspai.org/docs/3_development_time_threats/#traindatadistortion",
                  "label": "TRAINDATADISTORTION"
                },
                "scale_factor": 1,
                "size": [
                  55,
                  55
                ],
                "styles": {},
                "type": "#FF7F50"
              },
              {
                "color": "#FF7F50",
                "id": "CTL41",
                "label": "POISONROBUSTMODEL",
                "position": [
                  0,
                  0
                ],
                "properties": {
                  "URL": "https://owaspai.org/docs/3_development_time_threats/#poisonrobustmodel",
                  "label": "POISONROBUSTMODEL"
                },
                "scale_factor": 1,
                "size": [
                  55,
                  55
                ],
                "styles": {},
                "type": "#FF7F50"
              },
              {
                "color": "#FF7F50",
                "id": "CTL42",
                "label": "Technical AppSec Controls",
                "position": [
                  0,
                  0
                ],
                "properties": {
                  "URL": "https://www.opencre.org/cre/636-660",
                  "label": "Technical AppSec Controls"
                },
                "scale_factor": 1,
                "size": [
                  55,
                  55
                ],
                "styles": {},
                "type": "#FF7F50"
              },
              {
                "color": "#FF7F50",
                "id": "CTL43",
                "label": "Operational Security",
                "position": [
                  0,
                  0
                ],
                "properties": {
                  "URL": "https://www.opencre.org/cre/862-452",
                  "label": "Operational Security"
                },
                "scale_factor": 1,
                "size": [
                  55,
                  55
                ],
                "styles": {},
                "type": "#FF7F50"
              },
              {
                "color": "#FF7F50",
                "id": "CTL44",
                "label": "ENCODEMODELOUTPUT",
                "position": [
                  0,
                  0
                ],
                "properties": {
                  "URL": "https://owaspai.org/docs/4_runtime_application_security_threats/#encodemodeloutput",
                  "label": "ENCODEMODELOUTPUT"
                },
                "scale_factor": 1,
                "size": [
                  55,
                  55
                ],
                "styles": {},
                "type": "#FF7F50"
              },
              {
                "color": "#FF7F50",
                "id": "CTL45",
                "label": "MODELINPUTCONFIDENTIALITY",
                "position": [
                  0,
                  0
                ],
                "properties": {
                  "URL": "https://owaspai.org/docs/4_runtime_application_security_threats/#modelinputconfidentiality",
                  "label": "MODELINPUTCONFIDENTIALITY"
                },
                "scale_factor": 1,
                "size": [
                  55,
                  55
                ],
                "styles": {},
                "type": "#FF7F50"
              },
              {
                "color": "#FF7F50",
                "id": "CTL46",
                "label": "RUNTIMEMODELINTEGRITY",
                "position": [
                  0,
                  0
                ],
                "properties": {
                  "URL": "https://owaspai.org/docs/4_runtime_application_security_threats/#runtimemodelintegrity",
                  "label": "RUNTIMEMODELINTEGRITY"
                },
                "scale_factor": 1,
                "size": [
                  55,
                  55
                ],
                "styles": {},
                "type": "#FF7F50"
              },
              {
                "color": "#FF7F50",
                "id": "CTL47",
                "label": "RUNTIMEMODELIOINTEGRITY",
                "position": [
                  0,
                  0
                ],
                "properties": {
                  "URL": "https://owaspai.org/docs/4_runtime_application_security_threats/#runtimemodeliointegrity",
                  "label": "RUNTIMEMODELIOINTEGRITY"
                },
                "scale_factor": 1,
                "size": [
                  55,
                  55
                ],
                "styles": {},
                "type": "#FF7F50"
              },
              {
                "color": "#FF7F50",
                "id": "CTL48",
                "label": "Embedded In Model",
                "position": [
                  0,
                  0
                ],
                "properties": {
                  "URL": "https://llmtop10.com/llm01/",
                  "label": "Embedded In Model"
                },
                "scale_factor": 1,
                "size": [
                  55,
                  55
                ],
                "styles": {},
                "type": "#FF7F50"
              },
              {
                "color": "#FF7F50",
                "id": "CTL49",
                "label": "RUNTIMEMODELCONFIDENTIALITY",
                "position": [
                  0,
                  0
                ],
                "properties": {
                  "URL": "https://owaspai.org/docs/4_runtime_application_security_threats/#runtimemodelconfidentiality",
                  "label": "RUNTIMEMODELCONFIDENTIALITY"
                },
                "scale_factor": 1,
                "size": [
                  55,
                  55
                ],
                "styles": {},
                "type": "#FF7F50"
              },
              {
                "color": "#FF7F50",
                "id": "CTL50",
                "label": "MODELOBFUSCATION",
                "position": [
                  0,
                  0
                ],
                "properties": {
                  "URL": "https://owaspai.org/docs/4_runtime_application_security_threats/#modelobfuscation",
                  "label": "MODELOBFUSCATION"
                },
                "scale_factor": 1,
                "size": [
                  55,
                  55
                ],
                "styles": {},
                "type": "#FF7F50"
              },
              {
                "color": "#FF7F50",
                "id": "CTL51",
                "label": "PROMPTINPUTVALIDATION",
                "position": [
                  0,
                  0
                ],
                "properties": {
                  "URL": "https://owaspai.org/docs/4_runtime_application_security_threats/#promptinputvalidation",
                  "label": "PROMPTINPUTVALIDATION"
                },
                "scale_factor": 1,
                "size": [
                  55,
                  55
                ],
                "styles": {},
                "type": "#FF7F50"
              },
              {
                "color": "#FF7F50",
                "id": "CTL52",
                "label": "INPUTSEGREGATION",
                "position": [
                  0,
                  0
                ],
                "properties": {
                  "URL": "https://owaspai.org/docs/4_runtime_application_security_threats/#inputsegregation",
                  "label": "INPUTSEGREGATION"
                },
                "scale_factor": 1,
                "size": [
                  55,
                  55
                ],
                "styles": {},
                "type": "#FF7F50"
              }
            ],
            "_overview": {
              "enabled": null,
              "overview_set": false
            },
            "_selected_graph": [
              [],
              []
            ],
            "_sidebar": {
              "enabled": true,
              "start_with": ""
            },
            "_view_count": null,
            "_view_module": "yfiles-jupyter-graphs",
            "_view_module_version": "^1.6.2",
            "_view_name": "GraphView",
            "layout": "IPY_MODEL_da12a591227b4f589361fd4dd202a77c"
          }
        },
        "da12a591227b4f589361fd4dd202a77c": {
          "model_module": "@jupyter-widgets/base",
          "model_module_version": "1.2.0",
          "model_name": "LayoutModel",
          "state": {
            "_model_module": "@jupyter-widgets/base",
            "_model_module_version": "1.2.0",
            "_model_name": "LayoutModel",
            "_view_count": null,
            "_view_module": "@jupyter-widgets/base",
            "_view_module_version": "1.2.0",
            "_view_name": "LayoutView",
            "align_content": null,
            "align_items": null,
            "align_self": null,
            "border": null,
            "bottom": null,
            "display": null,
            "flex": null,
            "flex_flow": null,
            "grid_area": null,
            "grid_auto_columns": null,
            "grid_auto_flow": null,
            "grid_auto_rows": null,
            "grid_column": null,
            "grid_gap": null,
            "grid_row": null,
            "grid_template_areas": null,
            "grid_template_columns": null,
            "grid_template_rows": null,
            "height": "800px",
            "justify_content": null,
            "justify_items": null,
            "left": null,
            "margin": null,
            "max_height": null,
            "max_width": null,
            "min_height": null,
            "min_width": null,
            "object_fit": null,
            "object_position": null,
            "order": null,
            "overflow": null,
            "overflow_x": null,
            "overflow_y": null,
            "padding": null,
            "right": null,
            "top": null,
            "visibility": null,
            "width": "100%"
          }
        },
        "dd2ab1386eb94f48a0523d5fde4678ec": {
          "model_module": "@jupyter-widgets/base",
          "model_module_version": "1.2.0",
          "model_name": "LayoutModel",
          "state": {
            "_model_module": "@jupyter-widgets/base",
            "_model_module_version": "1.2.0",
            "_model_name": "LayoutModel",
            "_view_count": null,
            "_view_module": "@jupyter-widgets/base",
            "_view_module_version": "1.2.0",
            "_view_name": "LayoutView",
            "align_content": null,
            "align_items": null,
            "align_self": null,
            "border": null,
            "bottom": null,
            "display": null,
            "flex": null,
            "flex_flow": null,
            "grid_area": null,
            "grid_auto_columns": null,
            "grid_auto_flow": null,
            "grid_auto_rows": null,
            "grid_column": null,
            "grid_gap": null,
            "grid_row": null,
            "grid_template_areas": null,
            "grid_template_columns": null,
            "grid_template_rows": null,
            "height": "800px",
            "justify_content": null,
            "justify_items": null,
            "left": null,
            "margin": null,
            "max_height": null,
            "max_width": null,
            "min_height": null,
            "min_width": null,
            "object_fit": null,
            "object_position": null,
            "order": null,
            "overflow": null,
            "overflow_x": null,
            "overflow_y": null,
            "padding": null,
            "right": null,
            "top": null,
            "visibility": null,
            "width": "100%"
          }
        },
        "e251a286658346a18d436536c09bd67c": {
          "model_module": "yfiles-jupyter-graphs",
          "model_module_version": "^1.6.2",
          "model_name": "GraphModel",
          "state": {
            "_context_pane_mapping": [
              {
                "id": "Neighborhood",
                "title": "Neighborhood"
              },
              {
                "id": "Data",
                "title": "Data"
              },
              {
                "id": "Search",
                "title": "Search"
              },
              {
                "id": "About",
                "title": "About"
              }
            ],
            "_data_importer": "unknown",
            "_directed": true,
            "_dom_classes": [],
            "_edges": [
              {
                "color": "#15AFAC",
                "directed": true,
                "end": "CAT1",
                "id": 1,
                "label": "IS_IN_CATEGORY",
                "properties": {
                  "label": "IS_IN_CATEGORY"
                },
                "start": "CTL1",
                "thickness_factor": 1
              },
              {
                "color": "#15AFAC",
                "directed": true,
                "end": "GRP1",
                "id": 2,
                "label": "IS_IN_GROUP",
                "properties": {
                  "label": "IS_IN_GROUP"
                },
                "start": "CTL1",
                "thickness_factor": 1
              },
              {
                "color": "#15AFAC",
                "directed": true,
                "end": "TYP4",
                "id": 3,
                "label": "IS_OF_TYPE",
                "properties": {
                  "label": "IS_OF_TYPE"
                },
                "start": "CTL1",
                "thickness_factor": 1
              },
              {
                "color": "#15AFAC",
                "directed": true,
                "end": "CAT1",
                "id": 4,
                "label": "IS_IN_CATEGORY",
                "properties": {
                  "label": "IS_IN_CATEGORY"
                },
                "start": "CTL2",
                "thickness_factor": 1
              },
              {
                "color": "#15AFAC",
                "directed": true,
                "end": "GRP1",
                "id": 5,
                "label": "IS_IN_GROUP",
                "properties": {
                  "label": "IS_IN_GROUP"
                },
                "start": "CTL2",
                "thickness_factor": 1
              },
              {
                "color": "#15AFAC",
                "directed": true,
                "end": "TYP1",
                "id": 6,
                "label": "IS_OF_TYPE",
                "properties": {
                  "label": "IS_OF_TYPE"
                },
                "start": "CTL2",
                "thickness_factor": 1
              },
              {
                "color": "#15AFAC",
                "directed": true,
                "end": "CAT1",
                "id": 7,
                "label": "IS_IN_CATEGORY",
                "properties": {
                  "label": "IS_IN_CATEGORY"
                },
                "start": "CTL3",
                "thickness_factor": 1
              },
              {
                "color": "#15AFAC",
                "directed": true,
                "end": "GRP1",
                "id": 8,
                "label": "IS_IN_GROUP",
                "properties": {
                  "label": "IS_IN_GROUP"
                },
                "start": "CTL3",
                "thickness_factor": 1
              },
              {
                "color": "#15AFAC",
                "directed": true,
                "end": "TYP1",
                "id": 9,
                "label": "IS_OF_TYPE",
                "properties": {
                  "label": "IS_OF_TYPE"
                },
                "start": "CTL3",
                "thickness_factor": 1
              },
              {
                "color": "#15AFAC",
                "directed": true,
                "end": "CAT1",
                "id": 10,
                "label": "IS_IN_CATEGORY",
                "properties": {
                  "label": "IS_IN_CATEGORY"
                },
                "start": "CTL4",
                "thickness_factor": 1
              },
              {
                "color": "#15AFAC",
                "directed": true,
                "end": "GRP1",
                "id": 11,
                "label": "IS_IN_GROUP",
                "properties": {
                  "label": "IS_IN_GROUP"
                },
                "start": "CTL4",
                "thickness_factor": 1
              },
              {
                "color": "#15AFAC",
                "directed": true,
                "end": "TYP4",
                "id": 12,
                "label": "IS_OF_TYPE",
                "properties": {
                  "label": "IS_OF_TYPE"
                },
                "start": "CTL4",
                "thickness_factor": 1
              },
              {
                "color": "#15AFAC",
                "directed": true,
                "end": "CAT1",
                "id": 13,
                "label": "IS_IN_CATEGORY",
                "properties": {
                  "label": "IS_IN_CATEGORY"
                },
                "start": "CTL5",
                "thickness_factor": 1
              },
              {
                "color": "#15AFAC",
                "directed": true,
                "end": "GRP1",
                "id": 14,
                "label": "IS_IN_GROUP",
                "properties": {
                  "label": "IS_IN_GROUP"
                },
                "start": "CTL5",
                "thickness_factor": 1
              },
              {
                "color": "#15AFAC",
                "directed": true,
                "end": "TYP1",
                "id": 15,
                "label": "IS_OF_TYPE",
                "properties": {
                  "label": "IS_OF_TYPE"
                },
                "start": "CTL5",
                "thickness_factor": 1
              },
              {
                "color": "#15AFAC",
                "directed": true,
                "end": "CAT1",
                "id": 16,
                "label": "IS_IN_CATEGORY",
                "properties": {
                  "label": "IS_IN_CATEGORY"
                },
                "start": "CTL6",
                "thickness_factor": 1
              },
              {
                "color": "#15AFAC",
                "directed": true,
                "end": "GRP1",
                "id": 17,
                "label": "IS_IN_GROUP",
                "properties": {
                  "label": "IS_IN_GROUP"
                },
                "start": "CTL6",
                "thickness_factor": 1
              },
              {
                "color": "#15AFAC",
                "directed": true,
                "end": "TYP1",
                "id": 18,
                "label": "IS_OF_TYPE",
                "properties": {
                  "label": "IS_OF_TYPE"
                },
                "start": "CTL6",
                "thickness_factor": 1
              },
              {
                "color": "#15AFAC",
                "directed": true,
                "end": "CAT1",
                "id": 19,
                "label": "IS_IN_CATEGORY",
                "properties": {
                  "label": "IS_IN_CATEGORY"
                },
                "start": "CTL7",
                "thickness_factor": 1
              },
              {
                "color": "#15AFAC",
                "directed": true,
                "end": "GRP2",
                "id": 20,
                "label": "IS_IN_GROUP",
                "properties": {
                  "label": "IS_IN_GROUP"
                },
                "start": "CTL7",
                "thickness_factor": 1
              },
              {
                "color": "#15AFAC",
                "directed": true,
                "end": "TYP4",
                "id": 21,
                "label": "IS_OF_TYPE",
                "properties": {
                  "label": "IS_OF_TYPE"
                },
                "start": "CTL7",
                "thickness_factor": 1
              },
              {
                "color": "#15AFAC",
                "directed": true,
                "end": "CAT1",
                "id": 22,
                "label": "IS_IN_CATEGORY",
                "properties": {
                  "label": "IS_IN_CATEGORY"
                },
                "start": "CTL8",
                "thickness_factor": 1
              },
              {
                "color": "#15AFAC",
                "directed": true,
                "end": "GRP2",
                "id": 23,
                "label": "IS_IN_GROUP",
                "properties": {
                  "label": "IS_IN_GROUP"
                },
                "start": "CTL8",
                "thickness_factor": 1
              },
              {
                "color": "#15AFAC",
                "directed": true,
                "end": "TYP1",
                "id": 24,
                "label": "IS_OF_TYPE",
                "properties": {
                  "label": "IS_OF_TYPE"
                },
                "start": "CTL8",
                "thickness_factor": 1
              },
              {
                "color": "#15AFAC",
                "directed": true,
                "end": "CAT1",
                "id": 25,
                "label": "IS_IN_CATEGORY",
                "properties": {
                  "label": "IS_IN_CATEGORY"
                },
                "start": "CTL9",
                "thickness_factor": 1
              },
              {
                "color": "#15AFAC",
                "directed": true,
                "end": "GRP2",
                "id": 26,
                "label": "IS_IN_GROUP",
                "properties": {
                  "label": "IS_IN_GROUP"
                },
                "start": "CTL9",
                "thickness_factor": 1
              },
              {
                "color": "#15AFAC",
                "directed": true,
                "end": "TYP4",
                "id": 27,
                "label": "IS_OF_TYPE",
                "properties": {
                  "label": "IS_OF_TYPE"
                },
                "start": "CTL9",
                "thickness_factor": 1
              },
              {
                "color": "#15AFAC",
                "directed": true,
                "end": "CAT1",
                "id": 28,
                "label": "IS_IN_CATEGORY",
                "properties": {
                  "label": "IS_IN_CATEGORY"
                },
                "start": "CTL10",
                "thickness_factor": 1
              },
              {
                "color": "#15AFAC",
                "directed": true,
                "end": "GRP2",
                "id": 29,
                "label": "IS_IN_GROUP",
                "properties": {
                  "label": "IS_IN_GROUP"
                },
                "start": "CTL10",
                "thickness_factor": 1
              },
              {
                "color": "#15AFAC",
                "directed": true,
                "end": "TYP2",
                "id": 30,
                "label": "IS_OF_TYPE",
                "properties": {
                  "label": "IS_OF_TYPE"
                },
                "start": "CTL10",
                "thickness_factor": 1
              },
              {
                "color": "#15AFAC",
                "directed": true,
                "end": "TYP3",
                "id": 31,
                "label": "IS_OF_TYPE",
                "properties": {
                  "label": "IS_OF_TYPE"
                },
                "start": "CTL10",
                "thickness_factor": 1
              },
              {
                "color": "#15AFAC",
                "directed": true,
                "end": "CAT1",
                "id": 32,
                "label": "IS_IN_CATEGORY",
                "properties": {
                  "label": "IS_IN_CATEGORY"
                },
                "start": "CTL11",
                "thickness_factor": 1
              },
              {
                "color": "#15AFAC",
                "directed": true,
                "end": "GRP2",
                "id": 33,
                "label": "IS_IN_GROUP",
                "properties": {
                  "label": "IS_IN_GROUP"
                },
                "start": "CTL11",
                "thickness_factor": 1
              },
              {
                "color": "#15AFAC",
                "directed": true,
                "end": "TYP2",
                "id": 34,
                "label": "IS_OF_TYPE",
                "properties": {
                  "label": "IS_OF_TYPE"
                },
                "start": "CTL11",
                "thickness_factor": 1
              },
              {
                "color": "#15AFAC",
                "directed": true,
                "end": "CAT1",
                "id": 35,
                "label": "IS_IN_CATEGORY",
                "properties": {
                  "label": "IS_IN_CATEGORY"
                },
                "start": "CTL12",
                "thickness_factor": 1
              },
              {
                "color": "#15AFAC",
                "directed": true,
                "end": "GRP2",
                "id": 36,
                "label": "IS_IN_GROUP",
                "properties": {
                  "label": "IS_IN_GROUP"
                },
                "start": "CTL12",
                "thickness_factor": 1
              },
              {
                "color": "#15AFAC",
                "directed": true,
                "end": "TYP2",
                "id": 37,
                "label": "IS_OF_TYPE",
                "properties": {
                  "label": "IS_OF_TYPE"
                },
                "start": "CTL12",
                "thickness_factor": 1
              },
              {
                "color": "#15AFAC",
                "directed": true,
                "end": "CAT1",
                "id": 38,
                "label": "IS_IN_CATEGORY",
                "properties": {
                  "label": "IS_IN_CATEGORY"
                },
                "start": "CTL13",
                "thickness_factor": 1
              },
              {
                "color": "#15AFAC",
                "directed": true,
                "end": "GRP3",
                "id": 39,
                "label": "IS_IN_GROUP",
                "properties": {
                  "label": "IS_IN_GROUP"
                },
                "start": "CTL13",
                "thickness_factor": 1
              },
              {
                "color": "#15AFAC",
                "directed": true,
                "end": "TYP4",
                "id": 40,
                "label": "IS_OF_TYPE",
                "properties": {
                  "label": "IS_OF_TYPE"
                },
                "start": "CTL13",
                "thickness_factor": 1
              },
              {
                "color": "#15AFAC",
                "directed": true,
                "end": "CAT1",
                "id": 41,
                "label": "IS_IN_CATEGORY",
                "properties": {
                  "label": "IS_IN_CATEGORY"
                },
                "start": "CTL14",
                "thickness_factor": 1
              },
              {
                "color": "#15AFAC",
                "directed": true,
                "end": "GRP3",
                "id": 42,
                "label": "IS_IN_GROUP",
                "properties": {
                  "label": "IS_IN_GROUP"
                },
                "start": "CTL14",
                "thickness_factor": 1
              },
              {
                "color": "#15AFAC",
                "directed": true,
                "end": "TYP4",
                "id": 43,
                "label": "IS_OF_TYPE",
                "properties": {
                  "label": "IS_OF_TYPE"
                },
                "start": "CTL14",
                "thickness_factor": 1
              },
              {
                "color": "#15AFAC",
                "directed": true,
                "end": "CAT1",
                "id": 44,
                "label": "IS_IN_CATEGORY",
                "properties": {
                  "label": "IS_IN_CATEGORY"
                },
                "start": "CTL15",
                "thickness_factor": 1
              },
              {
                "color": "#15AFAC",
                "directed": true,
                "end": "GRP3",
                "id": 45,
                "label": "IS_IN_GROUP",
                "properties": {
                  "label": "IS_IN_GROUP"
                },
                "start": "CTL15",
                "thickness_factor": 1
              },
              {
                "color": "#15AFAC",
                "directed": true,
                "end": "TYP3",
                "id": 46,
                "label": "IS_OF_TYPE",
                "properties": {
                  "label": "IS_OF_TYPE"
                },
                "start": "CTL15",
                "thickness_factor": 1
              },
              {
                "color": "#15AFAC",
                "directed": true,
                "end": "CAT1",
                "id": 47,
                "label": "IS_IN_CATEGORY",
                "properties": {
                  "label": "IS_IN_CATEGORY"
                },
                "start": "CTL16",
                "thickness_factor": 1
              },
              {
                "color": "#15AFAC",
                "directed": true,
                "end": "GRP3",
                "id": 48,
                "label": "IS_IN_GROUP",
                "properties": {
                  "label": "IS_IN_GROUP"
                },
                "start": "CTL16",
                "thickness_factor": 1
              },
              {
                "color": "#15AFAC",
                "directed": true,
                "end": "TYP1",
                "id": 49,
                "label": "IS_OF_TYPE",
                "properties": {
                  "label": "IS_OF_TYPE"
                },
                "start": "CTL16",
                "thickness_factor": 1
              },
              {
                "color": "#15AFAC",
                "directed": true,
                "end": "CAT2",
                "id": 50,
                "label": "IS_IN_CATEGORY",
                "properties": {
                  "label": "IS_IN_CATEGORY"
                },
                "start": "CTL17",
                "thickness_factor": 1
              },
              {
                "color": "#15AFAC",
                "directed": true,
                "end": "GRP4",
                "id": 51,
                "label": "IS_IN_GROUP",
                "properties": {
                  "label": "IS_IN_GROUP"
                },
                "start": "CTL17",
                "thickness_factor": 1
              },
              {
                "color": "#15AFAC",
                "directed": true,
                "end": "GRP5",
                "id": 52,
                "label": "IS_IN_GROUP",
                "properties": {
                  "label": "IS_IN_GROUP"
                },
                "start": "CTL17",
                "thickness_factor": 1
              },
              {
                "color": "#15AFAC",
                "directed": true,
                "end": "GRP7",
                "id": 53,
                "label": "IS_IN_GROUP",
                "properties": {
                  "label": "IS_IN_GROUP"
                },
                "start": "CTL17",
                "thickness_factor": 1
              },
              {
                "color": "#15AFAC",
                "directed": true,
                "end": "GRP8",
                "id": 54,
                "label": "IS_IN_GROUP",
                "properties": {
                  "label": "IS_IN_GROUP"
                },
                "start": "CTL17",
                "thickness_factor": 1
              },
              {
                "color": "#15AFAC",
                "directed": true,
                "end": "GRP9",
                "id": 55,
                "label": "IS_IN_GROUP",
                "properties": {
                  "label": "IS_IN_GROUP"
                },
                "start": "CTL17",
                "thickness_factor": 1
              },
              {
                "color": "#15AFAC",
                "directed": true,
                "end": "GRP10",
                "id": 56,
                "label": "IS_IN_GROUP",
                "properties": {
                  "label": "IS_IN_GROUP"
                },
                "start": "CTL17",
                "thickness_factor": 1
              },
              {
                "color": "#15AFAC",
                "directed": true,
                "end": "TYP1",
                "id": 57,
                "label": "IS_OF_TYPE",
                "properties": {
                  "label": "IS_OF_TYPE"
                },
                "start": "CTL17",
                "thickness_factor": 1
              },
              {
                "color": "#15AFAC",
                "directed": true,
                "end": "CAT2",
                "id": 58,
                "label": "IS_IN_CATEGORY",
                "properties": {
                  "label": "IS_IN_CATEGORY"
                },
                "start": "CTL18",
                "thickness_factor": 1
              },
              {
                "color": "#15AFAC",
                "directed": true,
                "end": "GRP4",
                "id": 59,
                "label": "IS_IN_GROUP",
                "properties": {
                  "label": "IS_IN_GROUP"
                },
                "start": "CTL18",
                "thickness_factor": 1
              },
              {
                "color": "#15AFAC",
                "directed": true,
                "end": "GRP5",
                "id": 60,
                "label": "IS_IN_GROUP",
                "properties": {
                  "label": "IS_IN_GROUP"
                },
                "start": "CTL18",
                "thickness_factor": 1
              },
              {
                "color": "#15AFAC",
                "directed": true,
                "end": "GRP7",
                "id": 61,
                "label": "IS_IN_GROUP",
                "properties": {
                  "label": "IS_IN_GROUP"
                },
                "start": "CTL18",
                "thickness_factor": 1
              },
              {
                "color": "#15AFAC",
                "directed": true,
                "end": "GRP8",
                "id": 62,
                "label": "IS_IN_GROUP",
                "properties": {
                  "label": "IS_IN_GROUP"
                },
                "start": "CTL18",
                "thickness_factor": 1
              },
              {
                "color": "#15AFAC",
                "directed": true,
                "end": "GRP9",
                "id": 63,
                "label": "IS_IN_GROUP",
                "properties": {
                  "label": "IS_IN_GROUP"
                },
                "start": "CTL18",
                "thickness_factor": 1
              },
              {
                "color": "#15AFAC",
                "directed": true,
                "end": "GRP10",
                "id": 64,
                "label": "IS_IN_GROUP",
                "properties": {
                  "label": "IS_IN_GROUP"
                },
                "start": "CTL18",
                "thickness_factor": 1
              },
              {
                "color": "#15AFAC",
                "directed": true,
                "end": "TYP1",
                "id": 65,
                "label": "IS_OF_TYPE",
                "properties": {
                  "label": "IS_OF_TYPE"
                },
                "start": "CTL18",
                "thickness_factor": 1
              },
              {
                "color": "#15AFAC",
                "directed": true,
                "end": "CAT2",
                "id": 66,
                "label": "IS_IN_CATEGORY",
                "properties": {
                  "label": "IS_IN_CATEGORY"
                },
                "start": "CTL19",
                "thickness_factor": 1
              },
              {
                "color": "#15AFAC",
                "directed": true,
                "end": "GRP4",
                "id": 67,
                "label": "IS_IN_GROUP",
                "properties": {
                  "label": "IS_IN_GROUP"
                },
                "start": "CTL19",
                "thickness_factor": 1
              },
              {
                "color": "#15AFAC",
                "directed": true,
                "end": "GRP5",
                "id": 68,
                "label": "IS_IN_GROUP",
                "properties": {
                  "label": "IS_IN_GROUP"
                },
                "start": "CTL19",
                "thickness_factor": 1
              },
              {
                "color": "#15AFAC",
                "directed": true,
                "end": "GRP7",
                "id": 69,
                "label": "IS_IN_GROUP",
                "properties": {
                  "label": "IS_IN_GROUP"
                },
                "start": "CTL19",
                "thickness_factor": 1
              },
              {
                "color": "#15AFAC",
                "directed": true,
                "end": "GRP8",
                "id": 70,
                "label": "IS_IN_GROUP",
                "properties": {
                  "label": "IS_IN_GROUP"
                },
                "start": "CTL19",
                "thickness_factor": 1
              },
              {
                "color": "#15AFAC",
                "directed": true,
                "end": "GRP9",
                "id": 71,
                "label": "IS_IN_GROUP",
                "properties": {
                  "label": "IS_IN_GROUP"
                },
                "start": "CTL19",
                "thickness_factor": 1
              },
              {
                "color": "#15AFAC",
                "directed": true,
                "end": "GRP10",
                "id": 72,
                "label": "IS_IN_GROUP",
                "properties": {
                  "label": "IS_IN_GROUP"
                },
                "start": "CTL19",
                "thickness_factor": 1
              },
              {
                "color": "#15AFAC",
                "directed": true,
                "end": "TYP1",
                "id": 73,
                "label": "IS_OF_TYPE",
                "properties": {
                  "label": "IS_OF_TYPE"
                },
                "start": "CTL19",
                "thickness_factor": 1
              },
              {
                "color": "#15AFAC",
                "directed": true,
                "end": "CAT2",
                "id": 74,
                "label": "IS_IN_CATEGORY",
                "properties": {
                  "label": "IS_IN_CATEGORY"
                },
                "start": "CTL20",
                "thickness_factor": 1
              },
              {
                "color": "#15AFAC",
                "directed": true,
                "end": "GRP5",
                "id": 75,
                "label": "IS_IN_GROUP",
                "properties": {
                  "label": "IS_IN_GROUP"
                },
                "start": "CTL20",
                "thickness_factor": 1
              },
              {
                "color": "#15AFAC",
                "directed": true,
                "end": "TYP2",
                "id": 76,
                "label": "IS_OF_TYPE",
                "properties": {
                  "label": "IS_OF_TYPE"
                },
                "start": "CTL20",
                "thickness_factor": 1
              },
              {
                "color": "#15AFAC",
                "directed": true,
                "end": "CAT2",
                "id": 77,
                "label": "IS_IN_CATEGORY",
                "properties": {
                  "label": "IS_IN_CATEGORY"
                },
                "start": "CTL21",
                "thickness_factor": 1
              },
              {
                "color": "#15AFAC",
                "directed": true,
                "end": "GRP5",
                "id": 78,
                "label": "IS_IN_GROUP",
                "properties": {
                  "label": "IS_IN_GROUP"
                },
                "start": "CTL21",
                "thickness_factor": 1
              },
              {
                "color": "#15AFAC",
                "directed": true,
                "end": "TYP2",
                "id": 79,
                "label": "IS_OF_TYPE",
                "properties": {
                  "label": "IS_OF_TYPE"
                },
                "start": "CTL21",
                "thickness_factor": 1
              },
              {
                "color": "#15AFAC",
                "directed": true,
                "end": "CAT2",
                "id": 80,
                "label": "IS_IN_CATEGORY",
                "properties": {
                  "label": "IS_IN_CATEGORY"
                },
                "start": "CTL22",
                "thickness_factor": 1
              },
              {
                "color": "#15AFAC",
                "directed": true,
                "end": "GRP5",
                "id": 81,
                "label": "IS_IN_GROUP",
                "properties": {
                  "label": "IS_IN_GROUP"
                },
                "start": "CTL22",
                "thickness_factor": 1
              },
              {
                "color": "#15AFAC",
                "directed": true,
                "end": "TYP3",
                "id": 82,
                "label": "IS_OF_TYPE",
                "properties": {
                  "label": "IS_OF_TYPE"
                },
                "start": "CTL22",
                "thickness_factor": 1
              },
              {
                "color": "#15AFAC",
                "directed": true,
                "end": "CAT2",
                "id": 83,
                "label": "IS_IN_CATEGORY",
                "properties": {
                  "label": "IS_IN_CATEGORY"
                },
                "start": "CTL23",
                "thickness_factor": 1
              },
              {
                "color": "#15AFAC",
                "directed": true,
                "end": "GRP5",
                "id": 84,
                "label": "IS_IN_GROUP",
                "properties": {
                  "label": "IS_IN_GROUP"
                },
                "start": "CTL23",
                "thickness_factor": 1
              },
              {
                "color": "#15AFAC",
                "directed": true,
                "end": "TYP3",
                "id": 85,
                "label": "IS_OF_TYPE",
                "properties": {
                  "label": "IS_OF_TYPE"
                },
                "start": "CTL23",
                "thickness_factor": 1
              },
              {
                "color": "#15AFAC",
                "directed": true,
                "end": "CAT2",
                "id": 86,
                "label": "IS_IN_CATEGORY",
                "properties": {
                  "label": "IS_IN_CATEGORY"
                },
                "start": "CTL24",
                "thickness_factor": 1
              },
              {
                "color": "#15AFAC",
                "directed": true,
                "end": "GRP5",
                "id": 87,
                "label": "IS_IN_GROUP",
                "properties": {
                  "label": "IS_IN_GROUP"
                },
                "start": "CTL24",
                "thickness_factor": 1
              },
              {
                "color": "#15AFAC",
                "directed": true,
                "end": "TYP3",
                "id": 88,
                "label": "IS_OF_TYPE",
                "properties": {
                  "label": "IS_OF_TYPE"
                },
                "start": "CTL24",
                "thickness_factor": 1
              },
              {
                "color": "#15AFAC",
                "directed": true,
                "end": "CAT2",
                "id": 89,
                "label": "IS_IN_CATEGORY",
                "properties": {
                  "label": "IS_IN_CATEGORY"
                },
                "start": "CTL25",
                "thickness_factor": 1
              },
              {
                "color": "#15AFAC",
                "directed": true,
                "end": "GRP5",
                "id": 90,
                "label": "IS_IN_GROUP",
                "properties": {
                  "label": "IS_IN_GROUP"
                },
                "start": "CTL25",
                "thickness_factor": 1
              },
              {
                "color": "#15AFAC",
                "directed": true,
                "end": "TYP3",
                "id": 91,
                "label": "IS_OF_TYPE",
                "properties": {
                  "label": "IS_OF_TYPE"
                },
                "start": "CTL25",
                "thickness_factor": 1
              },
              {
                "color": "#15AFAC",
                "directed": true,
                "end": "CAT2",
                "id": 92,
                "label": "IS_IN_CATEGORY",
                "properties": {
                  "label": "IS_IN_CATEGORY"
                },
                "start": "CTL26",
                "thickness_factor": 1
              },
              {
                "color": "#15AFAC",
                "directed": true,
                "end": "GRP7",
                "id": 93,
                "label": "IS_IN_GROUP",
                "properties": {
                  "label": "IS_IN_GROUP"
                },
                "start": "CTL26",
                "thickness_factor": 1
              },
              {
                "color": "#15AFAC",
                "directed": true,
                "end": "TYP4",
                "id": 94,
                "label": "IS_OF_TYPE",
                "properties": {
                  "label": "IS_OF_TYPE"
                },
                "start": "CTL26",
                "thickness_factor": 1
              },
              {
                "color": "#15AFAC",
                "directed": true,
                "end": "CAT2",
                "id": 95,
                "label": "IS_IN_CATEGORY",
                "properties": {
                  "label": "IS_IN_CATEGORY"
                },
                "start": "CTL27",
                "thickness_factor": 1
              },
              {
                "color": "#15AFAC",
                "directed": true,
                "end": "GRP8",
                "id": 96,
                "label": "IS_IN_GROUP",
                "properties": {
                  "label": "IS_IN_GROUP"
                },
                "start": "CTL27",
                "thickness_factor": 1
              },
              {
                "color": "#15AFAC",
                "directed": true,
                "end": "TYP4",
                "id": 97,
                "label": "IS_OF_TYPE",
                "properties": {
                  "label": "IS_OF_TYPE"
                },
                "start": "CTL27",
                "thickness_factor": 1
              },
              {
                "color": "#15AFAC",
                "directed": true,
                "end": "CAT2",
                "id": 98,
                "label": "IS_IN_CATEGORY",
                "properties": {
                  "label": "IS_IN_CATEGORY"
                },
                "start": "CTL28",
                "thickness_factor": 1
              },
              {
                "color": "#15AFAC",
                "directed": true,
                "end": "GRP8",
                "id": 99,
                "label": "IS_IN_GROUP",
                "properties": {
                  "label": "IS_IN_GROUP"
                },
                "start": "CTL28",
                "thickness_factor": 1
              },
              {
                "color": "#15AFAC",
                "directed": true,
                "end": "TYP3",
                "id": 100,
                "label": "IS_OF_TYPE",
                "properties": {
                  "label": "IS_OF_TYPE"
                },
                "start": "CTL28",
                "thickness_factor": 1
              },
              {
                "color": "#15AFAC",
                "directed": true,
                "end": "CAT2",
                "id": 101,
                "label": "IS_IN_CATEGORY",
                "properties": {
                  "label": "IS_IN_CATEGORY"
                },
                "start": "CTL29",
                "thickness_factor": 1
              },
              {
                "color": "#15AFAC",
                "directed": true,
                "end": "GRP10",
                "id": 102,
                "label": "IS_IN_GROUP",
                "properties": {
                  "label": "IS_IN_GROUP"
                },
                "start": "CTL29",
                "thickness_factor": 1
              },
              {
                "color": "#15AFAC",
                "directed": true,
                "end": "TYP1",
                "id": 103,
                "label": "IS_OF_TYPE",
                "properties": {
                  "label": "IS_OF_TYPE"
                },
                "start": "CTL29",
                "thickness_factor": 1
              },
              {
                "color": "#15AFAC",
                "directed": true,
                "end": "CAT2",
                "id": 104,
                "label": "IS_IN_CATEGORY",
                "properties": {
                  "label": "IS_IN_CATEGORY"
                },
                "start": "CTL30",
                "thickness_factor": 1
              },
              {
                "color": "#15AFAC",
                "directed": true,
                "end": "GRP10",
                "id": 105,
                "label": "IS_IN_GROUP",
                "properties": {
                  "label": "IS_IN_GROUP"
                },
                "start": "CTL30",
                "thickness_factor": 1
              },
              {
                "color": "#15AFAC",
                "directed": true,
                "end": "TYP1",
                "id": 106,
                "label": "IS_OF_TYPE",
                "properties": {
                  "label": "IS_OF_TYPE"
                },
                "start": "CTL30",
                "thickness_factor": 1
              },
              {
                "color": "#15AFAC",
                "directed": true,
                "end": "CAT3",
                "id": 107,
                "label": "IS_IN_CATEGORY",
                "properties": {
                  "label": "IS_IN_CATEGORY"
                },
                "start": "CTL31",
                "thickness_factor": 1
              },
              {
                "color": "#15AFAC",
                "directed": true,
                "end": "GRP11",
                "id": 108,
                "label": "IS_IN_GROUP",
                "properties": {
                  "label": "IS_IN_GROUP"
                },
                "start": "CTL31",
                "thickness_factor": 1
              },
              {
                "color": "#15AFAC",
                "directed": true,
                "end": "GRP12",
                "id": 109,
                "label": "IS_IN_GROUP",
                "properties": {
                  "label": "IS_IN_GROUP"
                },
                "start": "CTL31",
                "thickness_factor": 1
              },
              {
                "color": "#15AFAC",
                "directed": true,
                "end": "GRP13",
                "id": 110,
                "label": "IS_IN_GROUP",
                "properties": {
                  "label": "IS_IN_GROUP"
                },
                "start": "CTL31",
                "thickness_factor": 1
              },
              {
                "color": "#15AFAC",
                "directed": true,
                "end": "GRP14",
                "id": 111,
                "label": "IS_IN_GROUP",
                "properties": {
                  "label": "IS_IN_GROUP"
                },
                "start": "CTL31",
                "thickness_factor": 1
              },
              {
                "color": "#15AFAC",
                "directed": true,
                "end": "GRP17",
                "id": 112,
                "label": "IS_IN_GROUP",
                "properties": {
                  "label": "IS_IN_GROUP"
                },
                "start": "CTL31",
                "thickness_factor": 1
              },
              {
                "color": "#15AFAC",
                "directed": true,
                "end": "GRP18",
                "id": 113,
                "label": "IS_IN_GROUP",
                "properties": {
                  "label": "IS_IN_GROUP"
                },
                "start": "CTL31",
                "thickness_factor": 1
              },
              {
                "color": "#15AFAC",
                "directed": true,
                "end": "GRP19",
                "id": 114,
                "label": "IS_IN_GROUP",
                "properties": {
                  "label": "IS_IN_GROUP"
                },
                "start": "CTL31",
                "thickness_factor": 1
              },
              {
                "color": "#15AFAC",
                "directed": true,
                "end": "TYP1",
                "id": 115,
                "label": "IS_OF_TYPE",
                "properties": {
                  "label": "IS_OF_TYPE"
                },
                "start": "CTL31",
                "thickness_factor": 1
              },
              {
                "color": "#15AFAC",
                "directed": true,
                "end": "CAT3",
                "id": 116,
                "label": "IS_IN_CATEGORY",
                "properties": {
                  "label": "IS_IN_CATEGORY"
                },
                "start": "CTL32",
                "thickness_factor": 1
              },
              {
                "color": "#15AFAC",
                "directed": true,
                "end": "GRP11",
                "id": 117,
                "label": "IS_IN_GROUP",
                "properties": {
                  "label": "IS_IN_GROUP"
                },
                "start": "CTL32",
                "thickness_factor": 1
              },
              {
                "color": "#15AFAC",
                "directed": true,
                "end": "GRP12",
                "id": 118,
                "label": "IS_IN_GROUP",
                "properties": {
                  "label": "IS_IN_GROUP"
                },
                "start": "CTL32",
                "thickness_factor": 1
              },
              {
                "color": "#15AFAC",
                "directed": true,
                "end": "GRP13",
                "id": 119,
                "label": "IS_IN_GROUP",
                "properties": {
                  "label": "IS_IN_GROUP"
                },
                "start": "CTL32",
                "thickness_factor": 1
              },
              {
                "color": "#15AFAC",
                "directed": true,
                "end": "GRP14",
                "id": 120,
                "label": "IS_IN_GROUP",
                "properties": {
                  "label": "IS_IN_GROUP"
                },
                "start": "CTL32",
                "thickness_factor": 1
              },
              {
                "color": "#15AFAC",
                "directed": true,
                "end": "GRP17",
                "id": 121,
                "label": "IS_IN_GROUP",
                "properties": {
                  "label": "IS_IN_GROUP"
                },
                "start": "CTL32",
                "thickness_factor": 1
              },
              {
                "color": "#15AFAC",
                "directed": true,
                "end": "GRP18",
                "id": 122,
                "label": "IS_IN_GROUP",
                "properties": {
                  "label": "IS_IN_GROUP"
                },
                "start": "CTL32",
                "thickness_factor": 1
              },
              {
                "color": "#15AFAC",
                "directed": true,
                "end": "GRP19",
                "id": 123,
                "label": "IS_IN_GROUP",
                "properties": {
                  "label": "IS_IN_GROUP"
                },
                "start": "CTL32",
                "thickness_factor": 1
              },
              {
                "color": "#15AFAC",
                "directed": true,
                "end": "TYP1",
                "id": 124,
                "label": "IS_OF_TYPE",
                "properties": {
                  "label": "IS_OF_TYPE"
                },
                "start": "CTL32",
                "thickness_factor": 1
              },
              {
                "color": "#15AFAC",
                "directed": true,
                "end": "CAT3",
                "id": 125,
                "label": "IS_IN_CATEGORY",
                "properties": {
                  "label": "IS_IN_CATEGORY"
                },
                "start": "CTL33",
                "thickness_factor": 1
              },
              {
                "color": "#15AFAC",
                "directed": true,
                "end": "GRP11",
                "id": 126,
                "label": "IS_IN_GROUP",
                "properties": {
                  "label": "IS_IN_GROUP"
                },
                "start": "CTL33",
                "thickness_factor": 1
              },
              {
                "color": "#15AFAC",
                "directed": true,
                "end": "GRP12",
                "id": 127,
                "label": "IS_IN_GROUP",
                "properties": {
                  "label": "IS_IN_GROUP"
                },
                "start": "CTL33",
                "thickness_factor": 1
              },
              {
                "color": "#15AFAC",
                "directed": true,
                "end": "GRP13",
                "id": 128,
                "label": "IS_IN_GROUP",
                "properties": {
                  "label": "IS_IN_GROUP"
                },
                "start": "CTL33",
                "thickness_factor": 1
              },
              {
                "color": "#15AFAC",
                "directed": true,
                "end": "GRP14",
                "id": 129,
                "label": "IS_IN_GROUP",
                "properties": {
                  "label": "IS_IN_GROUP"
                },
                "start": "CTL33",
                "thickness_factor": 1
              },
              {
                "color": "#15AFAC",
                "directed": true,
                "end": "GRP17",
                "id": 130,
                "label": "IS_IN_GROUP",
                "properties": {
                  "label": "IS_IN_GROUP"
                },
                "start": "CTL33",
                "thickness_factor": 1
              },
              {
                "color": "#15AFAC",
                "directed": true,
                "end": "GRP18",
                "id": 131,
                "label": "IS_IN_GROUP",
                "properties": {
                  "label": "IS_IN_GROUP"
                },
                "start": "CTL33",
                "thickness_factor": 1
              },
              {
                "color": "#15AFAC",
                "directed": true,
                "end": "GRP19",
                "id": 132,
                "label": "IS_IN_GROUP",
                "properties": {
                  "label": "IS_IN_GROUP"
                },
                "start": "CTL33",
                "thickness_factor": 1
              },
              {
                "color": "#15AFAC",
                "directed": true,
                "end": "TYP1",
                "id": 133,
                "label": "IS_OF_TYPE",
                "properties": {
                  "label": "IS_OF_TYPE"
                },
                "start": "CTL33",
                "thickness_factor": 1
              },
              {
                "color": "#15AFAC",
                "directed": true,
                "end": "CAT3",
                "id": 134,
                "label": "IS_IN_CATEGORY",
                "properties": {
                  "label": "IS_IN_CATEGORY"
                },
                "start": "CTL34",
                "thickness_factor": 1
              },
              {
                "color": "#15AFAC",
                "directed": true,
                "end": "GRP11",
                "id": 135,
                "label": "IS_IN_GROUP",
                "properties": {
                  "label": "IS_IN_GROUP"
                },
                "start": "CTL34",
                "thickness_factor": 1
              },
              {
                "color": "#15AFAC",
                "directed": true,
                "end": "GRP12",
                "id": 136,
                "label": "IS_IN_GROUP",
                "properties": {
                  "label": "IS_IN_GROUP"
                },
                "start": "CTL34",
                "thickness_factor": 1
              },
              {
                "color": "#15AFAC",
                "directed": true,
                "end": "GRP13",
                "id": 137,
                "label": "IS_IN_GROUP",
                "properties": {
                  "label": "IS_IN_GROUP"
                },
                "start": "CTL34",
                "thickness_factor": 1
              },
              {
                "color": "#15AFAC",
                "directed": true,
                "end": "GRP14",
                "id": 138,
                "label": "IS_IN_GROUP",
                "properties": {
                  "label": "IS_IN_GROUP"
                },
                "start": "CTL34",
                "thickness_factor": 1
              },
              {
                "color": "#15AFAC",
                "directed": true,
                "end": "GRP17",
                "id": 139,
                "label": "IS_IN_GROUP",
                "properties": {
                  "label": "IS_IN_GROUP"
                },
                "start": "CTL34",
                "thickness_factor": 1
              },
              {
                "color": "#15AFAC",
                "directed": true,
                "end": "GRP18",
                "id": 140,
                "label": "IS_IN_GROUP",
                "properties": {
                  "label": "IS_IN_GROUP"
                },
                "start": "CTL34",
                "thickness_factor": 1
              },
              {
                "color": "#15AFAC",
                "directed": true,
                "end": "GRP19",
                "id": 141,
                "label": "IS_IN_GROUP",
                "properties": {
                  "label": "IS_IN_GROUP"
                },
                "start": "CTL34",
                "thickness_factor": 1
              },
              {
                "color": "#15AFAC",
                "directed": true,
                "end": "TYP4",
                "id": 142,
                "label": "IS_OF_TYPE",
                "properties": {
                  "label": "IS_OF_TYPE"
                },
                "start": "CTL34",
                "thickness_factor": 1
              },
              {
                "color": "#15AFAC",
                "directed": true,
                "end": "CAT3",
                "id": 143,
                "label": "IS_IN_CATEGORY",
                "properties": {
                  "label": "IS_IN_CATEGORY"
                },
                "start": "CTL35",
                "thickness_factor": 1
              },
              {
                "color": "#15AFAC",
                "directed": true,
                "end": "GRP11",
                "id": 144,
                "label": "IS_IN_GROUP",
                "properties": {
                  "label": "IS_IN_GROUP"
                },
                "start": "CTL35",
                "thickness_factor": 1
              },
              {
                "color": "#15AFAC",
                "directed": true,
                "end": "GRP12",
                "id": 145,
                "label": "IS_IN_GROUP",
                "properties": {
                  "label": "IS_IN_GROUP"
                },
                "start": "CTL35",
                "thickness_factor": 1
              },
              {
                "color": "#15AFAC",
                "directed": true,
                "end": "GRP13",
                "id": 146,
                "label": "IS_IN_GROUP",
                "properties": {
                  "label": "IS_IN_GROUP"
                },
                "start": "CTL35",
                "thickness_factor": 1
              },
              {
                "color": "#15AFAC",
                "directed": true,
                "end": "GRP14",
                "id": 147,
                "label": "IS_IN_GROUP",
                "properties": {
                  "label": "IS_IN_GROUP"
                },
                "start": "CTL35",
                "thickness_factor": 1
              },
              {
                "color": "#15AFAC",
                "directed": true,
                "end": "GRP17",
                "id": 148,
                "label": "IS_IN_GROUP",
                "properties": {
                  "label": "IS_IN_GROUP"
                },
                "start": "CTL35",
                "thickness_factor": 1
              },
              {
                "color": "#15AFAC",
                "directed": true,
                "end": "GRP18",
                "id": 149,
                "label": "IS_IN_GROUP",
                "properties": {
                  "label": "IS_IN_GROUP"
                },
                "start": "CTL35",
                "thickness_factor": 1
              },
              {
                "color": "#15AFAC",
                "directed": true,
                "end": "GRP19",
                "id": 150,
                "label": "IS_IN_GROUP",
                "properties": {
                  "label": "IS_IN_GROUP"
                },
                "start": "CTL35",
                "thickness_factor": 1
              },
              {
                "color": "#15AFAC",
                "directed": true,
                "end": "TYP3",
                "id": 151,
                "label": "IS_OF_TYPE",
                "properties": {
                  "label": "IS_OF_TYPE"
                },
                "start": "CTL35",
                "thickness_factor": 1
              },
              {
                "color": "#15AFAC",
                "directed": true,
                "end": "CAT3",
                "id": 152,
                "label": "IS_IN_CATEGORY",
                "properties": {
                  "label": "IS_IN_CATEGORY"
                },
                "start": "CTL36",
                "thickness_factor": 1
              },
              {
                "color": "#15AFAC",
                "directed": true,
                "end": "GRP11",
                "id": 153,
                "label": "IS_IN_GROUP",
                "properties": {
                  "label": "IS_IN_GROUP"
                },
                "start": "CTL36",
                "thickness_factor": 1
              },
              {
                "color": "#15AFAC",
                "directed": true,
                "end": "GRP12",
                "id": 154,
                "label": "IS_IN_GROUP",
                "properties": {
                  "label": "IS_IN_GROUP"
                },
                "start": "CTL36",
                "thickness_factor": 1
              },
              {
                "color": "#15AFAC",
                "directed": true,
                "end": "GRP13",
                "id": 155,
                "label": "IS_IN_GROUP",
                "properties": {
                  "label": "IS_IN_GROUP"
                },
                "start": "CTL36",
                "thickness_factor": 1
              },
              {
                "color": "#15AFAC",
                "directed": true,
                "end": "GRP14",
                "id": 156,
                "label": "IS_IN_GROUP",
                "properties": {
                  "label": "IS_IN_GROUP"
                },
                "start": "CTL36",
                "thickness_factor": 1
              },
              {
                "color": "#15AFAC",
                "directed": true,
                "end": "GRP15",
                "id": 157,
                "label": "IS_IN_GROUP",
                "properties": {
                  "label": "IS_IN_GROUP"
                },
                "start": "CTL36",
                "thickness_factor": 1
              },
              {
                "color": "#15AFAC",
                "directed": true,
                "end": "GRP17",
                "id": 158,
                "label": "IS_IN_GROUP",
                "properties": {
                  "label": "IS_IN_GROUP"
                },
                "start": "CTL36",
                "thickness_factor": 1
              },
              {
                "color": "#15AFAC",
                "directed": true,
                "end": "GRP18",
                "id": 159,
                "label": "IS_IN_GROUP",
                "properties": {
                  "label": "IS_IN_GROUP"
                },
                "start": "CTL36",
                "thickness_factor": 1
              },
              {
                "color": "#15AFAC",
                "directed": true,
                "end": "GRP19",
                "id": 160,
                "label": "IS_IN_GROUP",
                "properties": {
                  "label": "IS_IN_GROUP"
                },
                "start": "CTL36",
                "thickness_factor": 1
              },
              {
                "color": "#15AFAC",
                "directed": true,
                "end": "TYP1",
                "id": 161,
                "label": "IS_OF_TYPE",
                "properties": {
                  "label": "IS_OF_TYPE"
                },
                "start": "CTL36",
                "thickness_factor": 1
              },
              {
                "color": "#15AFAC",
                "directed": true,
                "end": "CAT3",
                "id": 162,
                "label": "IS_IN_CATEGORY",
                "properties": {
                  "label": "IS_IN_CATEGORY"
                },
                "start": "CTL37",
                "thickness_factor": 1
              },
              {
                "color": "#15AFAC",
                "directed": true,
                "end": "GRP12",
                "id": 163,
                "label": "IS_IN_GROUP",
                "properties": {
                  "label": "IS_IN_GROUP"
                },
                "start": "CTL37",
                "thickness_factor": 1
              },
              {
                "color": "#15AFAC",
                "directed": true,
                "end": "TYP3",
                "id": 164,
                "label": "IS_OF_TYPE",
                "properties": {
                  "label": "IS_OF_TYPE"
                },
                "start": "CTL37",
                "thickness_factor": 1
              },
              {
                "color": "#15AFAC",
                "directed": true,
                "end": "CAT3",
                "id": 165,
                "label": "IS_IN_CATEGORY",
                "properties": {
                  "label": "IS_IN_CATEGORY"
                },
                "start": "CTL38",
                "thickness_factor": 1
              },
              {
                "color": "#15AFAC",
                "directed": true,
                "end": "GRP13",
                "id": 166,
                "label": "IS_IN_GROUP",
                "properties": {
                  "label": "IS_IN_GROUP"
                },
                "start": "CTL38",
                "thickness_factor": 1
              },
              {
                "color": "#15AFAC",
                "directed": true,
                "end": "TYP3",
                "id": 167,
                "label": "IS_OF_TYPE",
                "properties": {
                  "label": "IS_OF_TYPE"
                },
                "start": "CTL38",
                "thickness_factor": 1
              },
              {
                "color": "#15AFAC",
                "directed": true,
                "end": "CAT3",
                "id": 168,
                "label": "IS_IN_CATEGORY",
                "properties": {
                  "label": "IS_IN_CATEGORY"
                },
                "start": "CTL39",
                "thickness_factor": 1
              },
              {
                "color": "#15AFAC",
                "directed": true,
                "end": "GRP13",
                "id": 169,
                "label": "IS_IN_GROUP",
                "properties": {
                  "label": "IS_IN_GROUP"
                },
                "start": "CTL39",
                "thickness_factor": 1
              },
              {
                "color": "#15AFAC",
                "directed": true,
                "end": "TYP3",
                "id": 170,
                "label": "IS_OF_TYPE",
                "properties": {
                  "label": "IS_OF_TYPE"
                },
                "start": "CTL39",
                "thickness_factor": 1
              },
              {
                "color": "#15AFAC",
                "directed": true,
                "end": "CAT3",
                "id": 171,
                "label": "IS_IN_CATEGORY",
                "properties": {
                  "label": "IS_IN_CATEGORY"
                },
                "start": "CTL40",
                "thickness_factor": 1
              },
              {
                "color": "#15AFAC",
                "directed": true,
                "end": "GRP13",
                "id": 172,
                "label": "IS_IN_GROUP",
                "properties": {
                  "label": "IS_IN_GROUP"
                },
                "start": "CTL40",
                "thickness_factor": 1
              },
              {
                "color": "#15AFAC",
                "directed": true,
                "end": "TYP3",
                "id": 173,
                "label": "IS_OF_TYPE",
                "properties": {
                  "label": "IS_OF_TYPE"
                },
                "start": "CTL40",
                "thickness_factor": 1
              },
              {
                "color": "#15AFAC",
                "directed": true,
                "end": "CAT3",
                "id": 174,
                "label": "IS_IN_CATEGORY",
                "properties": {
                  "label": "IS_IN_CATEGORY"
                },
                "start": "CTL41",
                "thickness_factor": 1
              },
              {
                "color": "#15AFAC",
                "directed": true,
                "end": "GRP13",
                "id": 175,
                "label": "IS_IN_GROUP",
                "properties": {
                  "label": "IS_IN_GROUP"
                },
                "start": "CTL41",
                "thickness_factor": 1
              },
              {
                "color": "#15AFAC",
                "directed": true,
                "end": "TYP3",
                "id": 176,
                "label": "IS_OF_TYPE",
                "properties": {
                  "label": "IS_OF_TYPE"
                },
                "start": "CTL41",
                "thickness_factor": 1
              },
              {
                "color": "#15AFAC",
                "directed": true,
                "end": "CAT4",
                "id": 177,
                "label": "IS_IN_CATEGORY",
                "properties": {
                  "label": "IS_IN_CATEGORY"
                },
                "start": "CTL42",
                "thickness_factor": 1
              },
              {
                "color": "#15AFAC",
                "directed": true,
                "end": "GRP20",
                "id": 178,
                "label": "IS_IN_GROUP",
                "properties": {
                  "label": "IS_IN_GROUP"
                },
                "start": "CTL42",
                "thickness_factor": 1
              },
              {
                "color": "#15AFAC",
                "directed": true,
                "end": "TYP1",
                "id": 179,
                "label": "IS_OF_TYPE",
                "properties": {
                  "label": "IS_OF_TYPE"
                },
                "start": "CTL42",
                "thickness_factor": 1
              },
              {
                "color": "#15AFAC",
                "directed": true,
                "end": "CAT4",
                "id": 180,
                "label": "IS_IN_CATEGORY",
                "properties": {
                  "label": "IS_IN_CATEGORY"
                },
                "start": "CTL43",
                "thickness_factor": 1
              },
              {
                "color": "#15AFAC",
                "directed": true,
                "end": "GRP20",
                "id": 181,
                "label": "IS_IN_GROUP",
                "properties": {
                  "label": "IS_IN_GROUP"
                },
                "start": "CTL43",
                "thickness_factor": 1
              },
              {
                "color": "#15AFAC",
                "directed": true,
                "end": "TYP1",
                "id": 182,
                "label": "IS_OF_TYPE",
                "properties": {
                  "label": "IS_OF_TYPE"
                },
                "start": "CTL43",
                "thickness_factor": 1
              },
              {
                "color": "#15AFAC",
                "directed": true,
                "end": "CAT4",
                "id": 183,
                "label": "IS_IN_CATEGORY",
                "properties": {
                  "label": "IS_IN_CATEGORY"
                },
                "start": "CTL44",
                "thickness_factor": 1
              },
              {
                "color": "#15AFAC",
                "directed": true,
                "end": "GRP21",
                "id": 184,
                "label": "IS_IN_GROUP",
                "properties": {
                  "label": "IS_IN_GROUP"
                },
                "start": "CTL44",
                "thickness_factor": 1
              },
              {
                "color": "#15AFAC",
                "directed": true,
                "end": "TYP1",
                "id": 185,
                "label": "IS_OF_TYPE",
                "properties": {
                  "label": "IS_OF_TYPE"
                },
                "start": "CTL44",
                "thickness_factor": 1
              },
              {
                "color": "#15AFAC",
                "directed": true,
                "end": "CAT4",
                "id": 186,
                "label": "IS_IN_CATEGORY",
                "properties": {
                  "label": "IS_IN_CATEGORY"
                },
                "start": "CTL45",
                "thickness_factor": 1
              },
              {
                "color": "#15AFAC",
                "directed": true,
                "end": "GRP22",
                "id": 187,
                "label": "IS_IN_GROUP",
                "properties": {
                  "label": "IS_IN_GROUP"
                },
                "start": "CTL45",
                "thickness_factor": 1
              },
              {
                "color": "#15AFAC",
                "directed": true,
                "end": "TYP1",
                "id": 188,
                "label": "IS_OF_TYPE",
                "properties": {
                  "label": "IS_OF_TYPE"
                },
                "start": "CTL45",
                "thickness_factor": 1
              },
              {
                "color": "#15AFAC",
                "directed": true,
                "end": "CAT4",
                "id": 189,
                "label": "IS_IN_CATEGORY",
                "properties": {
                  "label": "IS_IN_CATEGORY"
                },
                "start": "CTL46",
                "thickness_factor": 1
              },
              {
                "color": "#15AFAC",
                "directed": true,
                "end": "GRP23",
                "id": 190,
                "label": "IS_IN_GROUP",
                "properties": {
                  "label": "IS_IN_GROUP"
                },
                "start": "CTL46",
                "thickness_factor": 1
              },
              {
                "color": "#15AFAC",
                "directed": true,
                "end": "TYP1",
                "id": 191,
                "label": "IS_OF_TYPE",
                "properties": {
                  "label": "IS_OF_TYPE"
                },
                "start": "CTL46",
                "thickness_factor": 1
              },
              {
                "color": "#15AFAC",
                "directed": true,
                "end": "CAT4",
                "id": 192,
                "label": "IS_IN_CATEGORY",
                "properties": {
                  "label": "IS_IN_CATEGORY"
                },
                "start": "CTL47",
                "thickness_factor": 1
              },
              {
                "color": "#15AFAC",
                "directed": true,
                "end": "GRP23",
                "id": 193,
                "label": "IS_IN_GROUP",
                "properties": {
                  "label": "IS_IN_GROUP"
                },
                "start": "CTL47",
                "thickness_factor": 1
              },
              {
                "color": "#15AFAC",
                "directed": true,
                "end": "TYP1",
                "id": 194,
                "label": "IS_OF_TYPE",
                "properties": {
                  "label": "IS_OF_TYPE"
                },
                "start": "CTL47",
                "thickness_factor": 1
              },
              {
                "color": "#15AFAC",
                "directed": true,
                "end": "CAT4",
                "id": 195,
                "label": "IS_IN_CATEGORY",
                "properties": {
                  "label": "IS_IN_CATEGORY"
                },
                "start": "CTL48",
                "thickness_factor": 1
              },
              {
                "color": "#15AFAC",
                "directed": true,
                "end": "GRP24",
                "id": 196,
                "label": "IS_IN_GROUP",
                "properties": {
                  "label": "IS_IN_GROUP"
                },
                "start": "CTL48",
                "thickness_factor": 1
              },
              {
                "color": "#15AFAC",
                "directed": true,
                "end": "TYP4",
                "id": 197,
                "label": "IS_OF_TYPE",
                "properties": {
                  "label": "IS_OF_TYPE"
                },
                "start": "CTL48",
                "thickness_factor": 1
              },
              {
                "color": "#15AFAC",
                "directed": true,
                "end": "CAT4",
                "id": 198,
                "label": "IS_IN_CATEGORY",
                "properties": {
                  "label": "IS_IN_CATEGORY"
                },
                "start": "CTL49",
                "thickness_factor": 1
              },
              {
                "color": "#15AFAC",
                "directed": true,
                "end": "GRP25",
                "id": 199,
                "label": "IS_IN_GROUP",
                "properties": {
                  "label": "IS_IN_GROUP"
                },
                "start": "CTL49",
                "thickness_factor": 1
              },
              {
                "color": "#15AFAC",
                "directed": true,
                "end": "TYP1",
                "id": 200,
                "label": "IS_OF_TYPE",
                "properties": {
                  "label": "IS_OF_TYPE"
                },
                "start": "CTL49",
                "thickness_factor": 1
              },
              {
                "color": "#15AFAC",
                "directed": true,
                "end": "CAT4",
                "id": 201,
                "label": "IS_IN_CATEGORY",
                "properties": {
                  "label": "IS_IN_CATEGORY"
                },
                "start": "CTL50",
                "thickness_factor": 1
              },
              {
                "color": "#15AFAC",
                "directed": true,
                "end": "GRP25",
                "id": 202,
                "label": "IS_IN_GROUP",
                "properties": {
                  "label": "IS_IN_GROUP"
                },
                "start": "CTL50",
                "thickness_factor": 1
              },
              {
                "color": "#15AFAC",
                "directed": true,
                "end": "TYP4",
                "id": 203,
                "label": "IS_OF_TYPE",
                "properties": {
                  "label": "IS_OF_TYPE"
                },
                "start": "CTL50",
                "thickness_factor": 1
              },
              {
                "color": "#15AFAC",
                "directed": true,
                "end": "CAT4",
                "id": 204,
                "label": "IS_IN_CATEGORY",
                "properties": {
                  "label": "IS_IN_CATEGORY"
                },
                "start": "CTL51",
                "thickness_factor": 1
              },
              {
                "color": "#15AFAC",
                "directed": true,
                "end": "GRP26",
                "id": 205,
                "label": "IS_IN_GROUP",
                "properties": {
                  "label": "IS_IN_GROUP"
                },
                "start": "CTL51",
                "thickness_factor": 1
              },
              {
                "color": "#15AFAC",
                "directed": true,
                "end": "TYP4",
                "id": 206,
                "label": "IS_OF_TYPE",
                "properties": {
                  "label": "IS_OF_TYPE"
                },
                "start": "CTL51",
                "thickness_factor": 1
              },
              {
                "color": "#15AFAC",
                "directed": true,
                "end": "CAT4",
                "id": 207,
                "label": "IS_IN_CATEGORY",
                "properties": {
                  "label": "IS_IN_CATEGORY"
                },
                "start": "CTL52",
                "thickness_factor": 1
              },
              {
                "color": "#15AFAC",
                "directed": true,
                "end": "GRP26",
                "id": 208,
                "label": "IS_IN_GROUP",
                "properties": {
                  "label": "IS_IN_GROUP"
                },
                "start": "CTL52",
                "thickness_factor": 1
              },
              {
                "color": "#15AFAC",
                "directed": true,
                "end": "TYP4",
                "id": 209,
                "label": "IS_OF_TYPE",
                "properties": {
                  "label": "IS_OF_TYPE"
                },
                "start": "CTL52",
                "thickness_factor": 1
              }
            ],
            "_graph_layout": {},
            "_highlight": [],
            "_license": {},
            "_model_module": "yfiles-jupyter-graphs",
            "_model_module_version": "^1.6.2",
            "_model_name": "GraphModel",
            "_neighborhood": {},
            "_nodes": [
              {
                "color": "#FF7F50",
                "id": "CTL1",
                "label": "AIPROGRAM",
                "position": [
                  0,
                  0
                ],
                "properties": {
                  "URL": "https://owaspai.org/docs/1_general_controls/#aiprogram",
                  "label": "AIPROGRAM"
                },
                "scale_factor": 1,
                "size": [
                  55,
                  55
                ],
                "styles": {},
                "type": "#FF7F50"
              },
              {
                "color": "#FF7F50",
                "id": "CTL2",
                "label": "SECPROGRAM",
                "position": [
                  0,
                  0
                ],
                "properties": {
                  "URL": "https://owaspai.org/docs/1_general_controls/#secprogram",
                  "label": "SECPROGRAM"
                },
                "scale_factor": 1,
                "size": [
                  55,
                  55
                ],
                "styles": {},
                "type": "#FF7F50"
              },
              {
                "color": "#FF7F50",
                "id": "CTL3",
                "label": "SECDEVPROGRAM",
                "position": [
                  0,
                  0
                ],
                "properties": {
                  "URL": "https://owaspai.org/docs/1_general_controls/#secdevprogram",
                  "label": "SECDEVPROGRAM"
                },
                "scale_factor": 1,
                "size": [
                  55,
                  55
                ],
                "styles": {},
                "type": "#FF7F50"
              },
              {
                "color": "#FF7F50",
                "id": "CTL4",
                "label": "DEVPROGRAM",
                "position": [
                  0,
                  0
                ],
                "properties": {
                  "URL": "https://owaspai.org/docs/1_general_controls/#devprogram",
                  "label": "DEVPROGRAM"
                },
                "scale_factor": 1,
                "size": [
                  55,
                  55
                ],
                "styles": {},
                "type": "#FF7F50"
              },
              {
                "color": "#FF7F50",
                "id": "CTL5",
                "label": "CHECKCOMPLIANCE",
                "position": [
                  0,
                  0
                ],
                "properties": {
                  "URL": "https://owaspai.org/docs/1_general_controls/#checkcompliance",
                  "label": "CHECKCOMPLIANCE"
                },
                "scale_factor": 1,
                "size": [
                  55,
                  55
                ],
                "styles": {},
                "type": "#FF7F50"
              },
              {
                "color": "#FF7F50",
                "id": "CTL6",
                "label": "SECEDUCATE",
                "position": [
                  0,
                  0
                ],
                "properties": {
                  "URL": "https://owaspai.org/docs/1_general_controls/#seceducate",
                  "label": "SECEDUCATE"
                },
                "scale_factor": 1,
                "size": [
                  55,
                  55
                ],
                "styles": {},
                "type": "#FF7F50"
              },
              {
                "color": "#FF7F50",
                "id": "CTL7",
                "label": "OVERSIGHT",
                "position": [
                  0,
                  0
                ],
                "properties": {
                  "URL": "https://owaspai.org/docs/1_general_controls/#oversight",
                  "label": "OVERSIGHT"
                },
                "scale_factor": 1,
                "size": [
                  55,
                  55
                ],
                "styles": {},
                "type": "#FF7F50"
              },
              {
                "color": "#FF7F50",
                "id": "CTL8",
                "label": "LEASTMODELPRIVILEGE",
                "position": [
                  0,
                  0
                ],
                "properties": {
                  "URL": "https://owaspai.org/docs/1_general_controls/#leastmodelprivilege",
                  "label": "LEASTMODELPRIVILEGE"
                },
                "scale_factor": 1,
                "size": [
                  55,
                  55
                ],
                "styles": {},
                "type": "#FF7F50"
              },
              {
                "color": "#FF7F50",
                "id": "CTL9",
                "label": "AITRANSPARENCY",
                "position": [
                  0,
                  0
                ],
                "properties": {
                  "URL": "https://owaspai.org/docs/1_general_controls/#aitransparency",
                  "label": "AITRANSPARENCY"
                },
                "scale_factor": 1,
                "size": [
                  55,
                  55
                ],
                "styles": {},
                "type": "#FF7F50"
              },
              {
                "color": "#FF7F50",
                "id": "CTL10",
                "label": "CONTINUOUSVALIDATION",
                "position": [
                  0,
                  0
                ],
                "properties": {
                  "URL": "https://owaspai.org/docs/1_general_controls/#continuousvalidation",
                  "label": "CONTINUOUSVALIDATION"
                },
                "scale_factor": 1,
                "size": [
                  55,
                  55
                ],
                "styles": {},
                "type": "#FF7F50"
              },
              {
                "color": "#FF7F50",
                "id": "CTL11",
                "label": "EXPLAINABILITY",
                "position": [
                  0,
                  0
                ],
                "properties": {
                  "URL": "https://owaspai.org/docs/1_general_controls/#explainability",
                  "label": "EXPLAINABILITY"
                },
                "scale_factor": 1,
                "size": [
                  55,
                  55
                ],
                "styles": {},
                "type": "#FF7F50"
              },
              {
                "color": "#FF7F50",
                "id": "CTL12",
                "label": "UNWANTEDBIASTESTING",
                "position": [
                  0,
                  0
                ],
                "properties": {
                  "URL": "https://owaspai.org/docs/1_general_controls/#unwantedbiastesting",
                  "label": "UNWANTEDBIASTESTING"
                },
                "scale_factor": 1,
                "size": [
                  55,
                  55
                ],
                "styles": {},
                "type": "#FF7F50"
              },
              {
                "color": "#FF7F50",
                "id": "CTL13",
                "label": "DATAMINIMIZE",
                "position": [
                  0,
                  0
                ],
                "properties": {
                  "URL": "https://owaspai.org/docs/1_general_controls/#dataminimize",
                  "label": "DATAMINIMIZE"
                },
                "scale_factor": 1,
                "size": [
                  55,
                  55
                ],
                "styles": {},
                "type": "#FF7F50"
              },
              {
                "color": "#FF7F50",
                "id": "CTL14",
                "label": "ALLOWEDDATA",
                "position": [
                  0,
                  0
                ],
                "properties": {
                  "URL": "https://owaspai.org/docs/1_general_controls/#alloweddata",
                  "label": "ALLOWEDDATA"
                },
                "scale_factor": 1,
                "size": [
                  55,
                  55
                ],
                "styles": {},
                "type": "#FF7F50"
              },
              {
                "color": "#FF7F50",
                "id": "CTL15",
                "label": "SHORTRETAIN",
                "position": [
                  0,
                  0
                ],
                "properties": {
                  "URL": "https://owaspai.org/docs/1_general_controls/#shortretain",
                  "label": "SHORTRETAIN"
                },
                "scale_factor": 1,
                "size": [
                  55,
                  55
                ],
                "styles": {},
                "type": "#FF7F50"
              },
              {
                "color": "#FF7F50",
                "id": "CTL15",
                "label": "OBFUSCATETRAININGDATA",
                "position": [
                  0,
                  0
                ],
                "properties": {
                  "URL": "https://owaspai.org/docs/1_general_controls/#obfuscatetrainingdata",
                  "label": "OBFUSCATETRAININGDATA"
                },
                "scale_factor": 1,
                "size": [
                  55,
                  55
                ],
                "styles": {},
                "type": "#FF7F50"
              },
              {
                "color": "#FF7F50",
                "id": "CTL16",
                "label": "DISCRETE",
                "position": [
                  0,
                  0
                ],
                "properties": {
                  "URL": "https://owaspai.org/docs/1_general_controls/#discrete",
                  "label": "DISCRETE"
                },
                "scale_factor": 1,
                "size": [
                  55,
                  55
                ],
                "styles": {},
                "type": "#FF7F50"
              },
              {
                "color": "#FF7F50",
                "id": "CTL17",
                "label": "MONITORUSE",
                "position": [
                  0,
                  0
                ],
                "properties": {
                  "URL": "https://owaspai.org/docs/2_threats_through_use/#monitoruse",
                  "label": "MONITORUSE"
                },
                "scale_factor": 1,
                "size": [
                  55,
                  55
                ],
                "styles": {},
                "type": "#FF7F50"
              },
              {
                "color": "#FF7F50",
                "id": "CTL18",
                "label": "RATELIMIT",
                "position": [
                  0,
                  0
                ],
                "properties": {
                  "URL": "https://owaspai.org/docs/2_threats_through_use/#ratelimit",
                  "label": "RATELIMIT"
                },
                "scale_factor": 1,
                "size": [
                  55,
                  55
                ],
                "styles": {},
                "type": "#FF7F50"
              },
              {
                "color": "#FF7F50",
                "id": "CTL19",
                "label": "MODELACCESSCONTROL",
                "position": [
                  0,
                  0
                ],
                "properties": {
                  "URL": "https://owaspai.org/docs/2_threats_through_use/#modelaccesscontrol",
                  "label": "MODELACCESSCONTROL"
                },
                "scale_factor": 1,
                "size": [
                  55,
                  55
                ],
                "styles": {},
                "type": "#FF7F50"
              },
              {
                "color": "#FF7F50",
                "id": "CTL20",
                "label": "DETECTODDINPUT",
                "position": [
                  0,
                  0
                ],
                "properties": {
                  "URL": "https://owaspai.org/docs/2_threats_through_use/#detectoddinput",
                  "label": "DETECTODDINPUT"
                },
                "scale_factor": 1,
                "size": [
                  55,
                  55
                ],
                "styles": {},
                "type": "#FF7F50"
              },
              {
                "color": "#FF7F50",
                "id": "CTL21",
                "label": "DETECTADVERSARIALINPUT",
                "position": [
                  0,
                  0
                ],
                "properties": {
                  "URL": "https://owaspai.org/docs/2_threats_through_use/#detectadversarialinput",
                  "label": "DETECTADVERSARIALINPUT"
                },
                "scale_factor": 1,
                "size": [
                  55,
                  55
                ],
                "styles": {},
                "type": "#FF7F50"
              },
              {
                "color": "#FF7F50",
                "id": "CTL22",
                "label": "EVASIONROBUSTMODEL",
                "position": [
                  0,
                  0
                ],
                "properties": {
                  "URL": "https://owaspai.org/docs/2_threats_through_use/#evasionrobustmodel",
                  "label": "EVASIONROBUSTMODEL"
                },
                "scale_factor": 1,
                "size": [
                  55,
                  55
                ],
                "styles": {},
                "type": "#FF7F50"
              },
              {
                "color": "#FF7F50",
                "id": "CTL23",
                "label": "TRAINADVERSARIAL",
                "position": [
                  0,
                  0
                ],
                "properties": {
                  "URL": "https://owaspai.org/docs/2_threats_through_use/#trainadversarial",
                  "label": "TRAINADVERSARIAL"
                },
                "scale_factor": 1,
                "size": [
                  55,
                  55
                ],
                "styles": {},
                "type": "#FF7F50"
              },
              {
                "color": "#FF7F50",
                "id": "CTL24",
                "label": "INPUTDISTORTION",
                "position": [
                  0,
                  0
                ],
                "properties": {
                  "URL": "https://owaspai.org/docs/2_threats_through_use/#inputdistortion",
                  "label": "INPUTDISTORTION"
                },
                "scale_factor": 1,
                "size": [
                  55,
                  55
                ],
                "styles": {},
                "type": "#FF7F50"
              },
              {
                "color": "#FF7F50",
                "id": "CTL25",
                "label": "ADVERSARIALROBUSTDISTILLATION",
                "position": [
                  0,
                  0
                ],
                "properties": {
                  "URL": "https://owaspai.org/docs/2_threats_through_use/#adversarialrobustdistillation",
                  "label": "ADVERSARIALROBUSTDISTILLATION"
                },
                "scale_factor": 1,
                "size": [
                  55,
                  55
                ],
                "styles": {},
                "type": "#FF7F50"
              },
              {
                "color": "#FF7F50",
                "id": "CTL26",
                "label": "FILTERSENSITIVEMODELOUTPUT",
                "position": [
                  0,
                  0
                ],
                "properties": {
                  "URL": "https://owaspai.org/docs/2_threats_through_use/#filtersensitivemodeloutput",
                  "label": "FILTERSENSITIVEMODELOUTPUT"
                },
                "scale_factor": 1,
                "size": [
                  55,
                  55
                ],
                "styles": {},
                "type": "#FF7F50"
              },
              {
                "color": "#FF7F50",
                "id": "CTL27",
                "label": "OBSCURECONFIDENCE",
                "position": [
                  0,
                  0
                ],
                "properties": {
                  "URL": "https://owaspai.org/docs/2_threats_through_use/#obscureconfidence",
                  "label": "OBSCURECONFIDENCE"
                },
                "scale_factor": 1,
                "size": [
                  55,
                  55
                ],
                "styles": {},
                "type": "#FF7F50"
              },
              {
                "color": "#FF7F50",
                "id": "CTL28",
                "label": "SMALLMODEL",
                "position": [
                  0,
                  0
                ],
                "properties": {
                  "URL": "https://owaspai.org/docs/2_threats_through_use/#smallmodel",
                  "label": "SMALLMODEL"
                },
                "scale_factor": 1,
                "size": [
                  55,
                  55
                ],
                "styles": {},
                "type": "#FF7F50"
              },
              {
                "color": "#FF7F50",
                "id": "CTL29",
                "label": "DOSINPUTVALIDATION",
                "position": [
                  0,
                  0
                ],
                "properties": {
                  "URL": "https://owaspai.org/docs/2_threats_through_use/#dosinputvalidation",
                  "label": "DOSINPUTVALIDATION"
                },
                "scale_factor": 1,
                "size": [
                  55,
                  55
                ],
                "styles": {},
                "type": "#FF7F50"
              },
              {
                "color": "#FF7F50",
                "id": "CTL30",
                "label": "LIMITRESOURCES",
                "position": [
                  0,
                  0
                ],
                "properties": {
                  "URL": "https://owaspai.org/docs/2_threats_through_use/#limitresources",
                  "label": "LIMITRESOURCES"
                },
                "scale_factor": 1,
                "size": [
                  55,
                  55
                ],
                "styles": {},
                "type": "#FF7F50"
              },
              {
                "color": "#FF7F50",
                "id": "CTL31",
                "label": "DEVDATAPROTECT",
                "position": [
                  0,
                  0
                ],
                "properties": {
                  "URL": "https://owaspai.org/docs/3_development_time_threats/#devdataprotect",
                  "label": "DEVDATAPROTECT"
                },
                "scale_factor": 1,
                "size": [
                  55,
                  55
                ],
                "styles": {},
                "type": "#FF7F50"
              },
              {
                "color": "#FF7F50",
                "id": "CTL32",
                "label": "DEVSECURITY",
                "position": [
                  0,
                  0
                ],
                "properties": {
                  "URL": "https://owaspai.org/docs/3_development_time_threats/#devsecurity",
                  "label": "DEVSECURITY"
                },
                "scale_factor": 1,
                "size": [
                  55,
                  55
                ],
                "styles": {},
                "type": "#FF7F50"
              },
              {
                "color": "#FF7F50",
                "id": "CTL33",
                "label": "SEGREGATEDATA",
                "position": [
                  0,
                  0
                ],
                "properties": {
                  "URL": "https://owaspai.org/docs/3_development_time_threats/#segregatedata",
                  "label": "SEGREGATEDATA"
                },
                "scale_factor": 1,
                "size": [
                  55,
                  55
                ],
                "styles": {},
                "type": "#FF7F50"
              },
              {
                "color": "#FF7F50",
                "id": "CTL34",
                "label": "CONFCOMPUTE",
                "position": [
                  0,
                  0
                ],
                "properties": {
                  "URL": "https://owaspai.org/docs/3_development_time_threats/#confcompute",
                  "label": "CONFCOMPUTE"
                },
                "scale_factor": 1,
                "size": [
                  55,
                  55
                ],
                "styles": {},
                "type": "#FF7F50"
              },
              {
                "color": "#FF7F50",
                "id": "CTL35",
                "label": "FEDERATEDLEARNING",
                "position": [
                  0,
                  0
                ],
                "properties": {
                  "URL": "https://owaspai.org/docs/3_development_time_threats/#federatedlearning",
                  "label": "FEDERATEDLEARNING"
                },
                "scale_factor": 1,
                "size": [
                  55,
                  55
                ],
                "styles": {},
                "type": "#FF7F50"
              },
              {
                "color": "#FF7F50",
                "id": "CTL36",
                "label": "SUPPLYCHAINIMAGE",
                "position": [
                  0,
                  0
                ],
                "properties": {
                  "URL": "https://owaspai.org/docs/3_development_time_threats/#supplychainmanage",
                  "label": "SUPPLYCHAINIMAGE"
                },
                "scale_factor": 1,
                "size": [
                  55,
                  55
                ],
                "styles": {},
                "type": "#FF7F50"
              },
              {
                "color": "#FF7F50",
                "id": "CTL37",
                "label": "MODELENSEMBLE",
                "position": [
                  0,
                  0
                ],
                "properties": {
                  "URL": "https://owaspai.org/docs/3_development_time_threats/#modelensemble",
                  "label": "MODELENSEMBLE"
                },
                "scale_factor": 1,
                "size": [
                  55,
                  55
                ],
                "styles": {},
                "type": "#FF7F50"
              },
              {
                "color": "#FF7F50",
                "id": "CTL38",
                "label": "MORETRAINDATA",
                "position": [
                  0,
                  0
                ],
                "properties": {
                  "URL": "https://owaspai.org/docs/3_development_time_threats/#moretraindata",
                  "label": "MORETRAINDATA"
                },
                "scale_factor": 1,
                "size": [
                  55,
                  55
                ],
                "styles": {},
                "type": "#FF7F50"
              },
              {
                "color": "#FF7F50",
                "id": "CTL39",
                "label": "DATAQUALITYCONTROL",
                "position": [
                  0,
                  0
                ],
                "properties": {
                  "URL": "https://owaspai.org/docs/3_development_time_threats/#dataqualitycontrol",
                  "label": "DATAQUALITYCONTROL"
                },
                "scale_factor": 1,
                "size": [
                  55,
                  55
                ],
                "styles": {},
                "type": "#FF7F50"
              },
              {
                "color": "#FF7F50",
                "id": "CTL40",
                "label": "TRAINDATADISTORTION",
                "position": [
                  0,
                  0
                ],
                "properties": {
                  "URL": "https://owaspai.org/docs/3_development_time_threats/#traindatadistortion",
                  "label": "TRAINDATADISTORTION"
                },
                "scale_factor": 1,
                "size": [
                  55,
                  55
                ],
                "styles": {},
                "type": "#FF7F50"
              },
              {
                "color": "#FF7F50",
                "id": "CTL41",
                "label": "POISONROBUSTMODEL",
                "position": [
                  0,
                  0
                ],
                "properties": {
                  "URL": "https://owaspai.org/docs/3_development_time_threats/#poisonrobustmodel",
                  "label": "POISONROBUSTMODEL"
                },
                "scale_factor": 1,
                "size": [
                  55,
                  55
                ],
                "styles": {},
                "type": "#FF7F50"
              },
              {
                "color": "#FF7F50",
                "id": "CTL42",
                "label": "Technical AppSec Controls",
                "position": [
                  0,
                  0
                ],
                "properties": {
                  "URL": "https://www.opencre.org/cre/636-660",
                  "label": "Technical AppSec Controls"
                },
                "scale_factor": 1,
                "size": [
                  55,
                  55
                ],
                "styles": {},
                "type": "#FF7F50"
              },
              {
                "color": "#FF7F50",
                "id": "CTL43",
                "label": "Operational Security",
                "position": [
                  0,
                  0
                ],
                "properties": {
                  "URL": "https://www.opencre.org/cre/862-452",
                  "label": "Operational Security"
                },
                "scale_factor": 1,
                "size": [
                  55,
                  55
                ],
                "styles": {},
                "type": "#FF7F50"
              },
              {
                "color": "#FF7F50",
                "id": "CTL44",
                "label": "ENCODEMODELOUTPUT",
                "position": [
                  0,
                  0
                ],
                "properties": {
                  "URL": "https://owaspai.org/docs/4_runtime_application_security_threats/#encodemodeloutput",
                  "label": "ENCODEMODELOUTPUT"
                },
                "scale_factor": 1,
                "size": [
                  55,
                  55
                ],
                "styles": {},
                "type": "#FF7F50"
              },
              {
                "color": "#FF7F50",
                "id": "CTL45",
                "label": "MODELINPUTCONFIDENTIALITY",
                "position": [
                  0,
                  0
                ],
                "properties": {
                  "URL": "https://owaspai.org/docs/4_runtime_application_security_threats/#modelinputconfidentiality",
                  "label": "MODELINPUTCONFIDENTIALITY"
                },
                "scale_factor": 1,
                "size": [
                  55,
                  55
                ],
                "styles": {},
                "type": "#FF7F50"
              },
              {
                "color": "#FF7F50",
                "id": "CTL46",
                "label": "RUNTIMEMODELINTEGRITY",
                "position": [
                  0,
                  0
                ],
                "properties": {
                  "URL": "https://owaspai.org/docs/4_runtime_application_security_threats/#runtimemodelintegrity",
                  "label": "RUNTIMEMODELINTEGRITY"
                },
                "scale_factor": 1,
                "size": [
                  55,
                  55
                ],
                "styles": {},
                "type": "#FF7F50"
              },
              {
                "color": "#FF7F50",
                "id": "CTL47",
                "label": "RUNTIMEMODELIOINTEGRITY",
                "position": [
                  0,
                  0
                ],
                "properties": {
                  "URL": "https://owaspai.org/docs/4_runtime_application_security_threats/#runtimemodeliointegrity",
                  "label": "RUNTIMEMODELIOINTEGRITY"
                },
                "scale_factor": 1,
                "size": [
                  55,
                  55
                ],
                "styles": {},
                "type": "#FF7F50"
              },
              {
                "color": "#FF7F50",
                "id": "CTL48",
                "label": "Embedded In Model",
                "position": [
                  0,
                  0
                ],
                "properties": {
                  "URL": "https://llmtop10.com/llm01/",
                  "label": "Embedded In Model"
                },
                "scale_factor": 1,
                "size": [
                  55,
                  55
                ],
                "styles": {},
                "type": "#FF7F50"
              },
              {
                "color": "#FF7F50",
                "id": "CTL49",
                "label": "RUNTIMEMODELCONFIDENTIALITY",
                "position": [
                  0,
                  0
                ],
                "properties": {
                  "URL": "https://owaspai.org/docs/4_runtime_application_security_threats/#runtimemodelconfidentiality",
                  "label": "RUNTIMEMODELCONFIDENTIALITY"
                },
                "scale_factor": 1,
                "size": [
                  55,
                  55
                ],
                "styles": {},
                "type": "#FF7F50"
              },
              {
                "color": "#FF7F50",
                "id": "CTL50",
                "label": "MODELOBFUSCATION",
                "position": [
                  0,
                  0
                ],
                "properties": {
                  "URL": "https://owaspai.org/docs/4_runtime_application_security_threats/#modelobfuscation",
                  "label": "MODELOBFUSCATION"
                },
                "scale_factor": 1,
                "size": [
                  55,
                  55
                ],
                "styles": {},
                "type": "#FF7F50"
              },
              {
                "color": "#FF7F50",
                "id": "CTL51",
                "label": "PROMPTINPUTVALIDATION",
                "position": [
                  0,
                  0
                ],
                "properties": {
                  "URL": "https://owaspai.org/docs/4_runtime_application_security_threats/#promptinputvalidation",
                  "label": "PROMPTINPUTVALIDATION"
                },
                "scale_factor": 1,
                "size": [
                  55,
                  55
                ],
                "styles": {},
                "type": "#FF7F50"
              },
              {
                "color": "#FF7F50",
                "id": "CTL52",
                "label": "INPUTSEGREGATION",
                "position": [
                  0,
                  0
                ],
                "properties": {
                  "URL": "https://owaspai.org/docs/4_runtime_application_security_threats/#inputsegregation",
                  "label": "INPUTSEGREGATION"
                },
                "scale_factor": 1,
                "size": [
                  55,
                  55
                ],
                "styles": {},
                "type": "#FF7F50"
              },
              {
                "color": "#00BFFF",
                "id": "CAT1",
                "label": "General Controls",
                "position": [
                  0,
                  0
                ],
                "properties": {
                  "label": "General Controls"
                },
                "scale_factor": 1,
                "size": [
                  55,
                  55
                ],
                "styles": {},
                "type": "#00BFFF"
              },
              {
                "color": "#00BFFF",
                "id": "CAT2",
                "label": "Threats Through Use Controls",
                "position": [
                  0,
                  0
                ],
                "properties": {
                  "label": "Threats Through Use Controls"
                },
                "scale_factor": 1,
                "size": [
                  55,
                  55
                ],
                "styles": {},
                "type": "#00BFFF"
              },
              {
                "color": "#00BFFF",
                "id": "CAT3",
                "label": "Development-time Threat Controls",
                "position": [
                  0,
                  0
                ],
                "properties": {
                  "label": "Development-time Threat Controls"
                },
                "scale_factor": 1,
                "size": [
                  55,
                  55
                ],
                "styles": {},
                "type": "#00BFFF"
              },
              {
                "color": "#00BFFF",
                "id": "CAT4",
                "label": "Runtime Application Security Threats Controls",
                "position": [
                  0,
                  0
                ],
                "properties": {
                  "label": "Runtime Application Security Threats Controls"
                },
                "scale_factor": 1,
                "size": [
                  55,
                  55
                ],
                "styles": {},
                "type": "#00BFFF"
              },
              {
                "color": "#3CB371",
                "id": "GRP1",
                "label": "Governance",
                "position": [
                  0,
                  0
                ],
                "properties": {
                  "color": "#d65749",
                  "label": "Governance"
                },
                "scale_factor": 1,
                "size": [
                  55,
                  55
                ],
                "styles": {},
                "type": "#3CB371"
              },
              {
                "color": "#3CB371",
                "id": "GRP2",
                "label": "Behaviour Integrity",
                "position": [
                  0,
                  0
                ],
                "properties": {
                  "label": "Behaviour Integrity"
                },
                "scale_factor": 1,
                "size": [
                  55,
                  55
                ],
                "styles": {},
                "type": "#3CB371"
              },
              {
                "color": "#3CB371",
                "id": "GRP3",
                "label": "Sensitive Data Limitation",
                "position": [
                  0,
                  0
                ],
                "properties": {
                  "label": "Sensitive Data Limitation"
                },
                "scale_factor": 1,
                "size": [
                  55,
                  55
                ],
                "styles": {},
                "type": "#3CB371"
              },
              {
                "color": "#3CB371",
                "id": "GRP4",
                "label": "Always Against Use Threats",
                "position": [
                  0,
                  0
                ],
                "properties": {
                  "label": "Always Against Use Threats"
                },
                "scale_factor": 1,
                "size": [
                  55,
                  55
                ],
                "styles": {},
                "type": "#3CB371"
              },
              {
                "color": "#3CB371",
                "id": "GRP5",
                "label": "Against Evasion",
                "position": [
                  0,
                  0
                ],
                "properties": {
                  "label": "Against Evasion"
                },
                "scale_factor": 1,
                "size": [
                  55,
                  55
                ],
                "styles": {},
                "type": "#3CB371"
              },
              {
                "color": "#3CB371",
                "id": "GRP6",
                "label": "Against Data Disclosure by Use",
                "position": [
                  0,
                  0
                ],
                "properties": {
                  "label": "Against Data Disclosure by Use"
                },
                "scale_factor": 1,
                "size": [
                  55,
                  55
                ],
                "styles": {},
                "type": "#3CB371"
              },
              {
                "color": "#3CB371",
                "id": "GRP7",
                "label": "Against Data Disclosure by Model",
                "position": [
                  0,
                  0
                ],
                "properties": {
                  "label": "Against Data Disclosure by Model"
                },
                "scale_factor": 1,
                "size": [
                  55,
                  55
                ],
                "styles": {},
                "type": "#3CB371"
              },
              {
                "color": "#3CB371",
                "id": "GRP8",
                "label": "Against Model Inversion and Membership Inference",
                "position": [
                  0,
                  0
                ],
                "properties": {
                  "label": "Against Model Inversion and Membership Inference"
                },
                "scale_factor": 1,
                "size": [
                  55,
                  55
                ],
                "styles": {},
                "type": "#3CB371"
              },
              {
                "color": "#3CB371",
                "id": "GRP9",
                "label": "Against Model Theft by Use",
                "position": [
                  0,
                  0
                ],
                "properties": {
                  "label": "Against Model Theft by Use"
                },
                "scale_factor": 1,
                "size": [
                  55,
                  55
                ],
                "styles": {},
                "type": "#3CB371"
              },
              {
                "color": "#3CB371",
                "id": "GRP10",
                "label": "Against Failure by Use",
                "position": [
                  0,
                  0
                ],
                "properties": {
                  "label": "Against Failure by Use"
                },
                "scale_factor": 1,
                "size": [
                  55,
                  55
                ],
                "styles": {},
                "type": "#3CB371"
              },
              {
                "color": "#3CB371",
                "id": "GRP11",
                "label": "Always Against Dev-Time Threats",
                "position": [
                  0,
                  0
                ],
                "properties": {
                  "label": "Always Against Dev-Time Threats"
                },
                "scale_factor": 1,
                "size": [
                  55,
                  55
                ],
                "styles": {},
                "type": "#3CB371"
              },
              {
                "color": "#3CB371",
                "id": "GRP12",
                "label": "Against Broad Model Poisoning",
                "position": [
                  0,
                  0
                ],
                "properties": {
                  "label": "Against Broad Model Poisoning"
                },
                "scale_factor": 1,
                "size": [
                  55,
                  55
                ],
                "styles": {},
                "type": "#3CB371"
              },
              {
                "color": "#3CB371",
                "id": "GRP13",
                "label": "Against Data Poisoning",
                "position": [
                  0,
                  0
                ],
                "properties": {
                  "label": "Against Data Poisoning"
                },
                "scale_factor": 1,
                "size": [
                  55,
                  55
                ],
                "styles": {},
                "type": "#3CB371"
              },
              {
                "color": "#3CB371",
                "id": "GRP14",
                "label": "Against Dev-Time Model Poisoning",
                "position": [
                  0,
                  0
                ],
                "properties": {
                  "label": "Against Dev-Time Model Poisoning"
                },
                "scale_factor": 1,
                "size": [
                  55,
                  55
                ],
                "styles": {},
                "type": "#3CB371"
              },
              {
                "color": "#3CB371",
                "id": "GRP15",
                "label": "Against Transfer Learning Attacks",
                "position": [
                  0,
                  0
                ],
                "properties": {
                  "label": "Against Transfer Learning Attacks"
                },
                "scale_factor": 1,
                "size": [
                  55,
                  55
                ],
                "styles": {},
                "type": "#3CB371"
              },
              {
                "color": "#3CB371",
                "id": "GRP16",
                "label": "Against Data Leak Dev-Time",
                "position": [
                  0,
                  0
                ],
                "properties": {
                  "label": "Against Data Leak Dev-Time"
                },
                "scale_factor": 1,
                "size": [
                  55,
                  55
                ],
                "styles": {},
                "type": "#3CB371"
              },
              {
                "color": "#3CB371",
                "id": "GRP17",
                "label": "Against Train/Test Data Leak",
                "position": [
                  0,
                  0
                ],
                "properties": {
                  "label": "Against Train/Test Data Leak"
                },
                "scale_factor": 1,
                "size": [
                  55,
                  55
                ],
                "styles": {},
                "type": "#3CB371"
              },
              {
                "color": "#3CB371",
                "id": "GRP18",
                "label": "Against Dev-Time Model Leak",
                "position": [
                  0,
                  0
                ],
                "properties": {
                  "label": "Against Dev-Time Model Leak"
                },
                "scale_factor": 1,
                "size": [
                  55,
                  55
                ],
                "styles": {},
                "type": "#3CB371"
              },
              {
                "color": "#3CB371",
                "id": "GRP19",
                "label": "Against Source Code/Config Leak",
                "position": [
                  0,
                  0
                ],
                "properties": {
                  "label": "Against Source Code/Config Leak"
                },
                "scale_factor": 1,
                "size": [
                  55,
                  55
                ],
                "styles": {},
                "type": "#3CB371"
              },
              {
                "color": "#3CB371",
                "id": "GRP20",
                "label": "Against Non AI-Specific AppSec Threats",
                "position": [
                  0,
                  0
                ],
                "properties": {
                  "label": "Against Non AI-Specific AppSec Threats"
                },
                "scale_factor": 1,
                "size": [
                  55,
                  55
                ],
                "styles": {},
                "type": "#3CB371"
              },
              {
                "color": "#3CB371",
                "id": "GRP21",
                "label": "Against Insecure Output Handling",
                "position": [
                  0,
                  0
                ],
                "properties": {
                  "label": "Against Insecure Output Handling"
                },
                "scale_factor": 1,
                "size": [
                  55,
                  55
                ],
                "styles": {},
                "type": "#3CB371"
              },
              {
                "color": "#3CB371",
                "id": "GRP22",
                "label": "Against Leaking Input Data",
                "position": [
                  0,
                  0
                ],
                "properties": {
                  "label": "Against Leaking Input Data"
                },
                "scale_factor": 1,
                "size": [
                  55,
                  55
                ],
                "styles": {},
                "type": "#3CB371"
              },
              {
                "color": "#3CB371",
                "id": "GRP23",
                "label": "Against Runtime Model Poisoning",
                "position": [
                  0,
                  0
                ],
                "properties": {
                  "label": "Against Runtime Model Poisoning"
                },
                "scale_factor": 1,
                "size": [
                  55,
                  55
                ],
                "styles": {},
                "type": "#3CB371"
              },
              {
                "color": "#3CB371",
                "id": "GRP24",
                "label": "Against Direct Prompt Injection",
                "position": [
                  0,
                  0
                ],
                "properties": {
                  "label": "Against Direct Prompt Injection"
                },
                "scale_factor": 1,
                "size": [
                  55,
                  55
                ],
                "styles": {},
                "type": "#3CB371"
              },
              {
                "color": "#3CB371",
                "id": "GRP25",
                "label": "Against Runtime Model Theft",
                "position": [
                  0,
                  0
                ],
                "properties": {
                  "label": "Against Runtime Model Theft"
                },
                "scale_factor": 1,
                "size": [
                  55,
                  55
                ],
                "styles": {},
                "type": "#3CB371"
              },
              {
                "color": "#3CB371",
                "id": "GRP26",
                "label": "Against Indirect Prompt Injection",
                "position": [
                  0,
                  0
                ],
                "properties": {
                  "label": "Against Indirect Prompt Injection"
                },
                "scale_factor": 1,
                "size": [
                  55,
                  55
                ],
                "styles": {},
                "type": "#3CB371"
              },
              {
                "color": "#DAA520",
                "id": "TYP1",
                "label": "Standard InfoSec Control",
                "position": [
                  0,
                  0
                ],
                "properties": {
                  "label": "Standard InfoSec Control"
                },
                "scale_factor": 1,
                "size": [
                  55,
                  55
                ],
                "styles": {},
                "type": "#DAA520"
              },
              {
                "color": "#DAA520",
                "id": "TYP2",
                "label": "Runtime Data Science Control",
                "position": [
                  0,
                  0
                ],
                "properties": {
                  "label": "Runtime Data Science Control"
                },
                "scale_factor": 1,
                "size": [
                  55,
                  55
                ],
                "styles": {},
                "type": "#DAA520"
              },
              {
                "color": "#DAA520",
                "id": "TYP3",
                "label": "Development-time Data Science Control",
                "position": [
                  0,
                  0
                ],
                "properties": {
                  "label": "Development-time Data Science Control"
                },
                "scale_factor": 1,
                "size": [
                  55,
                  55
                ],
                "styles": {},
                "type": "#DAA520"
              },
              {
                "color": "#DAA520",
                "id": "TYP4",
                "label": "Other Control",
                "position": [
                  0,
                  0
                ],
                "properties": {
                  "label": "Other Control"
                },
                "scale_factor": 1,
                "size": [
                  55,
                  55
                ],
                "styles": {},
                "type": "#DAA520"
              }
            ],
            "_overview": {
              "enabled": null,
              "overview_set": false
            },
            "_selected_graph": [
              [],
              []
            ],
            "_sidebar": {
              "enabled": true,
              "start_with": ""
            },
            "_view_count": null,
            "_view_module": "yfiles-jupyter-graphs",
            "_view_module_version": "^1.6.2",
            "_view_name": "GraphView",
            "layout": "IPY_MODEL_dd2ab1386eb94f48a0523d5fde4678ec"
          }
        },
        "f57966e3c00548788b16a770a0102c50": {
          "model_module": "yfiles-jupyter-graphs",
          "model_module_version": "^1.6.2",
          "model_name": "GraphModel",
          "state": {
            "_context_pane_mapping": [
              {
                "id": "Neighborhood",
                "title": "Neighborhood"
              },
              {
                "id": "Data",
                "title": "Data"
              },
              {
                "id": "Search",
                "title": "Search"
              },
              {
                "id": "About",
                "title": "About"
              }
            ],
            "_data_importer": "unknown",
            "_directed": true,
            "_dom_classes": [],
            "_edges": [
              {
                "color": "#15AFAC",
                "directed": true,
                "end": "CAT1",
                "id": 1,
                "label": "IS_IN_CATEGORY",
                "properties": {
                  "label": "IS_IN_CATEGORY"
                },
                "start": "CTL1",
                "thickness_factor": 1
              },
              {
                "color": "#15AFAC",
                "directed": true,
                "end": "GRP1",
                "id": 2,
                "label": "IS_IN_GROUP",
                "properties": {
                  "label": "IS_IN_GROUP"
                },
                "start": "CTL1",
                "thickness_factor": 1
              },
              {
                "color": "#15AFAC",
                "directed": true,
                "end": "TYP4",
                "id": 3,
                "label": "IS_OF_TYPE",
                "properties": {
                  "label": "IS_OF_TYPE"
                },
                "start": "CTL1",
                "thickness_factor": 1
              },
              {
                "color": "#15AFAC",
                "directed": true,
                "end": "CAT1",
                "id": 4,
                "label": "IS_IN_CATEGORY",
                "properties": {
                  "label": "IS_IN_CATEGORY"
                },
                "start": "CTL2",
                "thickness_factor": 1
              },
              {
                "color": "#15AFAC",
                "directed": true,
                "end": "GRP1",
                "id": 5,
                "label": "IS_IN_GROUP",
                "properties": {
                  "label": "IS_IN_GROUP"
                },
                "start": "CTL2",
                "thickness_factor": 1
              },
              {
                "color": "#15AFAC",
                "directed": true,
                "end": "TYP1",
                "id": 6,
                "label": "IS_OF_TYPE",
                "properties": {
                  "label": "IS_OF_TYPE"
                },
                "start": "CTL2",
                "thickness_factor": 1
              },
              {
                "color": "#15AFAC",
                "directed": true,
                "end": "CAT1",
                "id": 7,
                "label": "IS_IN_CATEGORY",
                "properties": {
                  "label": "IS_IN_CATEGORY"
                },
                "start": "CTL3",
                "thickness_factor": 1
              },
              {
                "color": "#15AFAC",
                "directed": true,
                "end": "GRP1",
                "id": 8,
                "label": "IS_IN_GROUP",
                "properties": {
                  "label": "IS_IN_GROUP"
                },
                "start": "CTL3",
                "thickness_factor": 1
              },
              {
                "color": "#15AFAC",
                "directed": true,
                "end": "TYP1",
                "id": 9,
                "label": "IS_OF_TYPE",
                "properties": {
                  "label": "IS_OF_TYPE"
                },
                "start": "CTL3",
                "thickness_factor": 1
              },
              {
                "color": "#15AFAC",
                "directed": true,
                "end": "CAT1",
                "id": 10,
                "label": "IS_IN_CATEGORY",
                "properties": {
                  "label": "IS_IN_CATEGORY"
                },
                "start": "CTL4",
                "thickness_factor": 1
              },
              {
                "color": "#15AFAC",
                "directed": true,
                "end": "GRP1",
                "id": 11,
                "label": "IS_IN_GROUP",
                "properties": {
                  "label": "IS_IN_GROUP"
                },
                "start": "CTL4",
                "thickness_factor": 1
              },
              {
                "color": "#15AFAC",
                "directed": true,
                "end": "TYP4",
                "id": 12,
                "label": "IS_OF_TYPE",
                "properties": {
                  "label": "IS_OF_TYPE"
                },
                "start": "CTL4",
                "thickness_factor": 1
              },
              {
                "color": "#15AFAC",
                "directed": true,
                "end": "CAT1",
                "id": 13,
                "label": "IS_IN_CATEGORY",
                "properties": {
                  "label": "IS_IN_CATEGORY"
                },
                "start": "CTL5",
                "thickness_factor": 1
              },
              {
                "color": "#15AFAC",
                "directed": true,
                "end": "GRP1",
                "id": 14,
                "label": "IS_IN_GROUP",
                "properties": {
                  "label": "IS_IN_GROUP"
                },
                "start": "CTL5",
                "thickness_factor": 1
              },
              {
                "color": "#15AFAC",
                "directed": true,
                "end": "TYP1",
                "id": 15,
                "label": "IS_OF_TYPE",
                "properties": {
                  "label": "IS_OF_TYPE"
                },
                "start": "CTL5",
                "thickness_factor": 1
              },
              {
                "color": "#15AFAC",
                "directed": true,
                "end": "CAT1",
                "id": 16,
                "label": "IS_IN_CATEGORY",
                "properties": {
                  "label": "IS_IN_CATEGORY"
                },
                "start": "CTL6",
                "thickness_factor": 1
              },
              {
                "color": "#15AFAC",
                "directed": true,
                "end": "GRP1",
                "id": 17,
                "label": "IS_IN_GROUP",
                "properties": {
                  "label": "IS_IN_GROUP"
                },
                "start": "CTL6",
                "thickness_factor": 1
              },
              {
                "color": "#15AFAC",
                "directed": true,
                "end": "TYP1",
                "id": 18,
                "label": "IS_OF_TYPE",
                "properties": {
                  "label": "IS_OF_TYPE"
                },
                "start": "CTL6",
                "thickness_factor": 1
              }
            ],
            "_graph_layout": {},
            "_highlight": [],
            "_license": {},
            "_model_module": "yfiles-jupyter-graphs",
            "_model_module_version": "^1.6.2",
            "_model_name": "GraphModel",
            "_neighborhood": {},
            "_nodes": [
              {
                "color": "#FF7F50",
                "id": "CTL1",
                "label": "AIPROGRAM",
                "position": [
                  0,
                  0
                ],
                "properties": {
                  "URL": "https://owaspai.org/docs/1_general_controls/#aiprogram",
                  "label": "AIPROGRAM"
                },
                "scale_factor": 1,
                "size": [
                  55,
                  55
                ],
                "styles": {},
                "type": "#FF7F50"
              },
              {
                "color": "#FF7F50",
                "id": "CTL2",
                "label": "SECPROGRAM",
                "position": [
                  0,
                  0
                ],
                "properties": {
                  "URL": "https://owaspai.org/docs/1_general_controls/#secprogram",
                  "label": "SECPROGRAM"
                },
                "scale_factor": 1,
                "size": [
                  55,
                  55
                ],
                "styles": {},
                "type": "#FF7F50"
              },
              {
                "color": "#FF7F50",
                "id": "CTL3",
                "label": "SECDEVPROGRAM",
                "position": [
                  0,
                  0
                ],
                "properties": {
                  "URL": "https://owaspai.org/docs/1_general_controls/#secdevprogram",
                  "label": "SECDEVPROGRAM"
                },
                "scale_factor": 1,
                "size": [
                  55,
                  55
                ],
                "styles": {},
                "type": "#FF7F50"
              },
              {
                "color": "#FF7F50",
                "id": "CTL4",
                "label": "DEVPROGRAM",
                "position": [
                  0,
                  0
                ],
                "properties": {
                  "URL": "https://owaspai.org/docs/1_general_controls/#devprogram",
                  "label": "DEVPROGRAM"
                },
                "scale_factor": 1,
                "size": [
                  55,
                  55
                ],
                "styles": {},
                "type": "#FF7F50"
              },
              {
                "color": "#FF7F50",
                "id": "CTL5",
                "label": "CHECKCOMPLIANCE",
                "position": [
                  0,
                  0
                ],
                "properties": {
                  "URL": "https://owaspai.org/docs/1_general_controls/#checkcompliance",
                  "label": "CHECKCOMPLIANCE"
                },
                "scale_factor": 1,
                "size": [
                  55,
                  55
                ],
                "styles": {},
                "type": "#FF7F50"
              },
              {
                "color": "#FF7F50",
                "id": "CTL6",
                "label": "SECEDUCATE",
                "position": [
                  0,
                  0
                ],
                "properties": {
                  "URL": "https://owaspai.org/docs/1_general_controls/#seceducate",
                  "label": "SECEDUCATE"
                },
                "scale_factor": 1,
                "size": [
                  55,
                  55
                ],
                "styles": {},
                "type": "#FF7F50"
              }
            ],
            "_overview": {
              "enabled": null,
              "overview_set": false
            },
            "_selected_graph": [
              [],
              []
            ],
            "_sidebar": {
              "enabled": true,
              "start_with": ""
            },
            "_view_count": null,
            "_view_module": "yfiles-jupyter-graphs",
            "_view_module_version": "^1.6.2",
            "_view_name": "GraphView",
            "layout": "IPY_MODEL_199e51bb71394d2d9fad486ce9a2b5a0"
          }
        }
      }
    }
  },
  "nbformat": 4,
  "nbformat_minor": 5
}
